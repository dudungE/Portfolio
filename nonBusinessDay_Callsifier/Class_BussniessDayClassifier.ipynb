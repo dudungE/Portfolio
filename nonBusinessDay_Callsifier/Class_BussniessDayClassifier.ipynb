{
 "cells": [
  {
   "cell_type": "code",
   "execution_count": 114,
   "id": "c79e0c9d",
   "metadata": {},
   "outputs": [],
   "source": [
    "import re\n",
    "import csv\n",
    "import tqdm\n",
    "import pandas as pd\n",
    "\n",
    "import time\n",
    "import datetime\n",
    "\n",
    "from bs4 import BeautifulSoup\n",
    "from selenium import webdriver as wbd\n",
    "from selenium.webdriver.common.by import By\n",
    "from selenium.webdriver.common.keys import Keys\n",
    "from selenium.webdriver.chrome.service import Service\n",
    "from webdriver_manager.chrome import ChromeDriverManager"
   ]
  },
  {
   "cell_type": "code",
   "execution_count": 115,
   "id": "91204def",
   "metadata": {},
   "outputs": [
    {
     "name": "stderr",
     "output_type": "stream",
     "text": [
      "C:\\Users\\jjgus\\AppData\\Local\\Temp\\ipykernel_18604\\1165236964.py:4: DeprecationWarning: executable_path has been deprecated, please pass in a Service object\n",
      "  driver = wbd.Chrome(\"./chromedriver.exe\", options=options)\n"
     ]
    }
   ],
   "source": [
    "options = wbd.ChromeOptions()\n",
    "options.add_argument(\"headless\")\n",
    "options.add_argument(\"disable-gpu\")\n",
    "driver = wbd.Chrome(\"./chromedriver.exe\", options=options)\n",
    "# driver = wbd.Chrome(service=Service(ChromeDriverManager().install()))\n",
    "html = 'https://search.naver.com/search.naver?sm=tab_hty.top&where=nexearch&query=%EB%84%A4%EC%9D%B4%EB%B2%84%EB%8B%AC%EB%A0%A5&oquery=%EB%84%A4%E3%85%A3%E3%85%87%EB%B2%84%EB%8B%AC%EB%A0%A5&tqi=i4EPmlprvmZsslbDSkdssssssU0-356245'\n",
    "driver.get(html)"
   ]
  },
  {
   "cell_type": "code",
   "execution_count": 125,
   "id": "91798f01",
   "metadata": {},
   "outputs": [],
   "source": [
    "class BussinessDayClassifer():\n",
    "    \n",
    "    def __init__(self, end_date, start_date, diff_month = None,\n",
    "                weekend_list = None, holiday_list = None):\n",
    "        \n",
    "        self.end_date = end_date\n",
    "        self.start_date = start_date\n",
    "        self.weekend_list = []\n",
    "        self.holiday_list = []\n",
    "        self.diff_month = (end_date.year - start_date.year) * 12 + end_date.month - start_date.month\n",
    "    \n",
    "    @staticmethod\n",
    "    def preprocess(list):\n",
    "        return [datetime.datetime.strptime(i.strftime(\"%y-%m-%d\"), '%y-%m-%d') for i in list] \n",
    "    \n",
    "\n",
    "    def weekend_date(self):\n",
    "        date_list = pd.date_range(start=self.start_date, end=self.end_date, freq='D')\n",
    "        for i in date_list:\n",
    "            if i.weekday() > 4:\n",
    "                self.weekend_list.append(i)\n",
    "    \n",
    "    \n",
    "    def naver_holiday_date(self):\n",
    "        start = time.time()  # 시작 시간 저장\n",
    "        for _ in tqdm.tqdm(range(self.diff_month)): # argument로 개월 수 입력\n",
    "            html = BeautifulSoup(driver.page_source, 'lxml')\n",
    "            txt = html.find_all(class_ = 'cld_day')\n",
    "            yyyymm = html.find_all('span', class_='_title')[0].get_text()\n",
    "            \n",
    "            for i, v in enumerate(zip(driver.find_elements(By.CLASS_NAME, 'cld_day'), txt)):\n",
    "                tmp_list = []\n",
    "                color = re.sub(r'[^0-9]', '', v[0].value_of_css_property('color'))\n",
    "                day = v[1].string\n",
    "                \n",
    "                if color == '2312312311' or color == '3636361': # 회색, 검은색은 skip\n",
    "                    continue \n",
    "\n",
    "#                 print(f'''idx: {i}, color: {color}, day: {day}''')\n",
    "                year = int(yyyymm[:4])\n",
    "                month = int(yyyymm[5:7].lstrip(\"0\"))\n",
    "                day = int(day.lstrip(\"0\"))\n",
    "\n",
    "                tmp_list.append(day)\n",
    "                self.holiday_list.append(datetime.datetime(year, month, day))\n",
    "\n",
    "            # 한달 전으로 이동\n",
    "            driver.find_element(By.XPATH, value = '//*[@id=\"direct_calendar\"]/div/div[1]/div[1]/a[2]').click()\n",
    "            time.sleep(1)\n",
    "\n",
    "        print(\"\\n[elapsed time]:\", time.time() - start)  # 현재시각 - 시작시간 = 실행 시간\n",
    "        \n",
    "        "
   ]
  },
  {
   "cell_type": "code",
   "execution_count": 126,
   "id": "57e460fe",
   "metadata": {},
   "outputs": [],
   "source": [
    "end_date= datetime.datetime(2023,6,30) # 마지막 날짜\n",
    "start_date = datetime.datetime(2023,1,1) # 시작 날짜"
   ]
  },
  {
   "cell_type": "code",
   "execution_count": 127,
   "id": "dcd9114f",
   "metadata": {},
   "outputs": [
    {
     "data": {
      "text/plain": [
       "5"
      ]
     },
     "execution_count": 127,
     "metadata": {},
     "output_type": "execute_result"
    }
   ],
   "source": [
    "BussinessDayClassifer = BussinessDayClassifer(end_date, start_date)\n",
    "BussinessDayClassifer.diff_month"
   ]
  },
  {
   "cell_type": "code",
   "execution_count": 123,
   "id": "914ad9af",
   "metadata": {},
   "outputs": [
    {
     "name": "stderr",
     "output_type": "stream",
     "text": [
      "100%|████████████████████████████████████████████████████████████████████████████████████| 5/5 [00:09<00:00,  1.87s/it]"
     ]
    },
    {
     "name": "stdout",
     "output_type": "stream",
     "text": [
      "\n",
      "[elapsed time]: 9.34509825706482\n"
     ]
    },
    {
     "name": "stderr",
     "output_type": "stream",
     "text": [
      "\n"
     ]
    }
   ],
   "source": [
    "BussinessDayClassifer.naver_holiday_date()"
   ]
  },
  {
   "cell_type": "code",
   "execution_count": 128,
   "id": "0b6a5272",
   "metadata": {},
   "outputs": [
    {
     "data": {
      "text/plain": [
       "[]"
      ]
     },
     "execution_count": 128,
     "metadata": {},
     "output_type": "execute_result"
    }
   ],
   "source": [
    "BussinessDayClassifer.holiday_list"
   ]
  },
  {
   "cell_type": "code",
   "execution_count": 130,
   "id": "f8fe56d7",
   "metadata": {},
   "outputs": [],
   "source": [
    "BussinessDayClassifer.weekend_date()"
   ]
  },
  {
   "cell_type": "code",
   "execution_count": 131,
   "id": "4dcb2f77",
   "metadata": {
    "collapsed": true
   },
   "outputs": [
    {
     "data": {
      "text/plain": [
       "[Timestamp('2023-01-01 00:00:00', freq='D'),\n",
       " Timestamp('2023-01-07 00:00:00', freq='D'),\n",
       " Timestamp('2023-01-08 00:00:00', freq='D'),\n",
       " Timestamp('2023-01-14 00:00:00', freq='D'),\n",
       " Timestamp('2023-01-15 00:00:00', freq='D'),\n",
       " Timestamp('2023-01-21 00:00:00', freq='D'),\n",
       " Timestamp('2023-01-22 00:00:00', freq='D'),\n",
       " Timestamp('2023-01-28 00:00:00', freq='D'),\n",
       " Timestamp('2023-01-29 00:00:00', freq='D'),\n",
       " Timestamp('2023-02-04 00:00:00', freq='D'),\n",
       " Timestamp('2023-02-05 00:00:00', freq='D'),\n",
       " Timestamp('2023-02-11 00:00:00', freq='D'),\n",
       " Timestamp('2023-02-12 00:00:00', freq='D'),\n",
       " Timestamp('2023-02-18 00:00:00', freq='D'),\n",
       " Timestamp('2023-02-19 00:00:00', freq='D'),\n",
       " Timestamp('2023-02-25 00:00:00', freq='D'),\n",
       " Timestamp('2023-02-26 00:00:00', freq='D'),\n",
       " Timestamp('2023-03-04 00:00:00', freq='D'),\n",
       " Timestamp('2023-03-05 00:00:00', freq='D'),\n",
       " Timestamp('2023-03-11 00:00:00', freq='D'),\n",
       " Timestamp('2023-03-12 00:00:00', freq='D'),\n",
       " Timestamp('2023-03-18 00:00:00', freq='D'),\n",
       " Timestamp('2023-03-19 00:00:00', freq='D'),\n",
       " Timestamp('2023-03-25 00:00:00', freq='D'),\n",
       " Timestamp('2023-03-26 00:00:00', freq='D'),\n",
       " Timestamp('2023-04-01 00:00:00', freq='D'),\n",
       " Timestamp('2023-04-02 00:00:00', freq='D'),\n",
       " Timestamp('2023-04-08 00:00:00', freq='D'),\n",
       " Timestamp('2023-04-09 00:00:00', freq='D'),\n",
       " Timestamp('2023-04-15 00:00:00', freq='D'),\n",
       " Timestamp('2023-04-16 00:00:00', freq='D'),\n",
       " Timestamp('2023-04-22 00:00:00', freq='D'),\n",
       " Timestamp('2023-04-23 00:00:00', freq='D'),\n",
       " Timestamp('2023-04-29 00:00:00', freq='D'),\n",
       " Timestamp('2023-04-30 00:00:00', freq='D'),\n",
       " Timestamp('2023-05-06 00:00:00', freq='D'),\n",
       " Timestamp('2023-05-07 00:00:00', freq='D'),\n",
       " Timestamp('2023-05-13 00:00:00', freq='D'),\n",
       " Timestamp('2023-05-14 00:00:00', freq='D'),\n",
       " Timestamp('2023-05-20 00:00:00', freq='D'),\n",
       " Timestamp('2023-05-21 00:00:00', freq='D'),\n",
       " Timestamp('2023-05-27 00:00:00', freq='D'),\n",
       " Timestamp('2023-05-28 00:00:00', freq='D'),\n",
       " Timestamp('2023-06-03 00:00:00', freq='D'),\n",
       " Timestamp('2023-06-04 00:00:00', freq='D'),\n",
       " Timestamp('2023-06-10 00:00:00', freq='D'),\n",
       " Timestamp('2023-06-11 00:00:00', freq='D'),\n",
       " Timestamp('2023-06-17 00:00:00', freq='D'),\n",
       " Timestamp('2023-06-18 00:00:00', freq='D'),\n",
       " Timestamp('2023-06-24 00:00:00', freq='D'),\n",
       " Timestamp('2023-06-25 00:00:00', freq='D')]"
      ]
     },
     "execution_count": 131,
     "metadata": {},
     "output_type": "execute_result"
    }
   ],
   "source": [
    "BussinessDayClassifer.weekend_list"
   ]
  },
  {
   "cell_type": "code",
   "execution_count": null,
   "id": "e481703f",
   "metadata": {},
   "outputs": [],
   "source": []
  },
  {
   "cell_type": "code",
   "execution_count": null,
   "id": "947e5d65",
   "metadata": {},
   "outputs": [],
   "source": [
    "BussinessDayClassifer.diff_month()"
   ]
  },
  {
   "cell_type": "code",
   "execution_count": null,
   "id": "036428be",
   "metadata": {},
   "outputs": [],
   "source": [
    "BussinessDayClassifer.holiday_list"
   ]
  },
  {
   "cell_type": "code",
   "execution_count": null,
   "id": "95d8b271",
   "metadata": {},
   "outputs": [],
   "source": []
  },
  {
   "cell_type": "code",
   "execution_count": null,
   "id": "3de22845",
   "metadata": {},
   "outputs": [],
   "source": []
  },
  {
   "cell_type": "code",
   "execution_count": null,
   "id": "d9cf3a02",
   "metadata": {},
   "outputs": [],
   "source": []
  },
  {
   "cell_type": "code",
   "execution_count": 62,
   "id": "ab132a53",
   "metadata": {},
   "outputs": [
    {
     "data": {
      "text/plain": [
       "[datetime.datetime(2021, 9, 5, 0, 0),\n",
       " datetime.datetime(2021, 9, 12, 0, 0),\n",
       " datetime.datetime(2021, 9, 19, 0, 0),\n",
       " datetime.datetime(2021, 9, 20, 0, 0),\n",
       " datetime.datetime(2021, 9, 21, 0, 0),\n",
       " datetime.datetime(2021, 9, 22, 0, 0),\n",
       " datetime.datetime(2021, 9, 26, 0, 0),\n",
       " datetime.datetime(2021, 8, 1, 0, 0),\n",
       " datetime.datetime(2021, 8, 8, 0, 0),\n",
       " datetime.datetime(2021, 8, 15, 0, 0),\n",
       " datetime.datetime(2021, 8, 16, 0, 0),\n",
       " datetime.datetime(2021, 8, 22, 0, 0),\n",
       " datetime.datetime(2021, 8, 29, 0, 0),\n",
       " datetime.datetime(2021, 7, 4, 0, 0),\n",
       " datetime.datetime(2021, 7, 11, 0, 0),\n",
       " datetime.datetime(2021, 7, 18, 0, 0),\n",
       " datetime.datetime(2021, 7, 25, 0, 0),\n",
       " datetime.datetime(2021, 6, 6, 0, 0),\n",
       " datetime.datetime(2021, 6, 13, 0, 0),\n",
       " datetime.datetime(2021, 6, 20, 0, 0),\n",
       " datetime.datetime(2021, 6, 27, 0, 0),\n",
       " datetime.datetime(2021, 5, 2, 0, 0),\n",
       " datetime.datetime(2021, 5, 5, 0, 0),\n",
       " datetime.datetime(2021, 5, 9, 0, 0),\n",
       " datetime.datetime(2021, 5, 16, 0, 0),\n",
       " datetime.datetime(2021, 5, 19, 0, 0),\n",
       " datetime.datetime(2021, 5, 23, 0, 0),\n",
       " datetime.datetime(2021, 5, 30, 0, 0)]"
      ]
     },
     "execution_count": 62,
     "metadata": {},
     "output_type": "execute_result"
    }
   ],
   "source": [
    "holiday_list"
   ]
  },
  {
   "cell_type": "code",
   "execution_count": null,
   "id": "0e57d9c9",
   "metadata": {},
   "outputs": [],
   "source": []
  },
  {
   "cell_type": "code",
   "execution_count": null,
   "id": "58c727c3",
   "metadata": {},
   "outputs": [],
   "source": []
  },
  {
   "cell_type": "code",
   "execution_count": null,
   "id": "c6a4035c",
   "metadata": {},
   "outputs": [],
   "source": []
  },
  {
   "cell_type": "code",
   "execution_count": null,
   "id": "5a2f89d0",
   "metadata": {},
   "outputs": [],
   "source": []
  },
  {
   "cell_type": "code",
   "execution_count": null,
   "id": "3137002f",
   "metadata": {},
   "outputs": [],
   "source": []
  },
  {
   "cell_type": "code",
   "execution_count": null,
   "id": "82a3ed4b",
   "metadata": {},
   "outputs": [],
   "source": []
  },
  {
   "cell_type": "code",
   "execution_count": null,
   "id": "d8fe13d3",
   "metadata": {},
   "outputs": [],
   "source": []
  },
  {
   "cell_type": "code",
   "execution_count": null,
   "id": "59db8851",
   "metadata": {},
   "outputs": [],
   "source": []
  },
  {
   "cell_type": "code",
   "execution_count": null,
   "id": "8111c5e9",
   "metadata": {},
   "outputs": [],
   "source": []
  },
  {
   "cell_type": "code",
   "execution_count": null,
   "id": "73c8c261",
   "metadata": {},
   "outputs": [],
   "source": []
  },
  {
   "cell_type": "code",
   "execution_count": null,
   "id": "876a6059",
   "metadata": {},
   "outputs": [],
   "source": []
  },
  {
   "cell_type": "code",
   "execution_count": null,
   "id": "e452aefc",
   "metadata": {},
   "outputs": [],
   "source": []
  },
  {
   "cell_type": "code",
   "execution_count": 67,
   "id": "1affa3ea",
   "metadata": {},
   "outputs": [
    {
     "name": "stdout",
     "output_type": "stream",
     "text": [
      "3\n",
      "4\n",
      "8\n",
      "9\n"
     ]
    }
   ],
   "source": [
    "class Oper:\n",
    "    \n",
    "    def __init__(self, list = None):\n",
    "        self.res = 0\n",
    "        self.list = []\n",
    "    \n",
    "    def plus(self, num):\n",
    "        self.res += num\n",
    "        self.list.append(self.res)\n",
    "        return self.res\n",
    "\n",
    "student1 = Oper()\n",
    "student2 = Oper()\n",
    "\n",
    "print(student1.plus(3)) # 3\n",
    "print(student2.plus(4)) # 4\n",
    "print(student1.plus(5)) # 8\n",
    "print(student2.plus(5)) # 9"
   ]
  },
  {
   "cell_type": "code",
   "execution_count": 68,
   "id": "f2738f78",
   "metadata": {},
   "outputs": [
    {
     "data": {
      "text/plain": [
       "[3, 8]"
      ]
     },
     "execution_count": 68,
     "metadata": {},
     "output_type": "execute_result"
    }
   ],
   "source": [
    "student1.list"
   ]
  },
  {
   "cell_type": "code",
   "execution_count": 69,
   "id": "9a9806e4",
   "metadata": {},
   "outputs": [
    {
     "data": {
      "text/plain": [
       "[4, 9]"
      ]
     },
     "execution_count": 69,
     "metadata": {},
     "output_type": "execute_result"
    }
   ],
   "source": [
    "student2.list"
   ]
  }
 ],
 "metadata": {
  "kernelspec": {
   "display_name": "pyfolio",
   "language": "python",
   "name": "pyfolio"
  },
  "language_info": {
   "codemirror_mode": {
    "name": "ipython",
    "version": 3
   },
   "file_extension": ".py",
   "mimetype": "text/x-python",
   "name": "python",
   "nbconvert_exporter": "python",
   "pygments_lexer": "ipython3",
   "version": "3.9.12"
  }
 },
 "nbformat": 4,
 "nbformat_minor": 5
}
