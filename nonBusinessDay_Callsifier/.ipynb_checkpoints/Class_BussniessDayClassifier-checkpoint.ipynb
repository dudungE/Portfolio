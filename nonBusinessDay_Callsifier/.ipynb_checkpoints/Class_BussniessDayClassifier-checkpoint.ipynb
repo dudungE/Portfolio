{
 "cells": [
  {
   "cell_type": "code",
   "execution_count": 54,
   "id": "f2ea6aee",
   "metadata": {},
   "outputs": [],
   "source": [
    "import re\n",
    "import csv\n",
    "import tqdm\n",
    "import pandas as pd\n",
    "\n",
    "import time\n",
    "import datetime\n",
    "\n",
    "from bs4 import BeautifulSoup\n",
    "from selenium import webdriver as wbd\n",
    "from selenium.webdriver.common.by import By\n",
    "from selenium.webdriver.common.keys import Keys\n",
    "from selenium.webdriver.chrome.service import Service\n",
    "from webdriver_manager.chrome import ChromeDriverManager"
   ]
  },
  {
   "cell_type": "code",
   "execution_count": 55,
   "id": "27a815aa",
   "metadata": {},
   "outputs": [
    {
     "name": "stderr",
     "output_type": "stream",
     "text": [
      "C:\\Users\\jjgus\\AppData\\Local\\Temp\\ipykernel_18604\\1165236964.py:4: DeprecationWarning: executable_path has been deprecated, please pass in a Service object\n",
      "  driver = wbd.Chrome(\"./chromedriver.exe\", options=options)\n"
     ]
    }
   ],
   "source": [
    "options = wbd.ChromeOptions()\n",
    "options.add_argument(\"headless\")\n",
    "options.add_argument(\"disable-gpu\")\n",
    "driver = wbd.Chrome(\"./chromedriver.exe\", options=options)\n",
    "# driver = wbd.Chrome(service=Service(ChromeDriverManager().install()))\n",
    "html = 'https://search.naver.com/search.naver?sm=tab_hty.top&where=nexearch&query=%EB%84%A4%EC%9D%B4%EB%B2%84%EB%8B%AC%EB%A0%A5&oquery=%EB%84%A4%E3%85%A3%E3%85%87%EB%B2%84%EB%8B%AC%EB%A0%A5&tqi=i4EPmlprvmZsslbDSkdssssssU0-356245'\n",
    "driver.get(html)"
   ]
  },
  {
   "cell_type": "code",
   "execution_count": 62,
   "id": "46cd7928",
   "metadata": {},
   "outputs": [],
   "source": [
    "class BussinessDayClassifer():\n",
    "    \n",
    "    def __init__(self, end_date, start_date, diff_month = None,\n",
    "                weekend_list = None, holiday_list = None):\n",
    "        \n",
    "        self.end_date = end_date\n",
    "        self.start_date = start_date\n",
    "        self.weekend_list = []\n",
    "        self.holiday_list = []\n",
    "        self.diff_month = (end_date.year - start_date.year) * 12 + end_date.month - start_date.month\n",
    "    \n",
    "    @staticmethod\n",
    "    def preprocess(list):\n",
    "        return [datetime.datetime.strptime(i.strftime(\"%y-%m-%d\"), '%y-%m-%d') for i in list] \n",
    "    \n",
    "    @staticmethod\n",
    "    def weekend_list():\n",
    "        weekend_list = []\n",
    "        return [i for i in date_list if i.weekday() > 4] # 5: 토요일, 6: 일요일\n",
    "    \n",
    "    \n",
    "    @staticmethod\n",
    "    def naver_holiday_date():\n",
    "\n",
    "        start = time.time()  # 시작 시간 저장\n",
    "#         holiday_list = []\n",
    "\n",
    "        for _ in range(diff_month): # argument로 개월 수 입력\n",
    "\n",
    "            html = BeautifulSoup(driver.page_source, 'lxml')\n",
    "            txt = html.find_all(class_ = 'cld_day')\n",
    "            yyyymm = html.find_all('span', class_='_title')[0].get_text()\n",
    "            \n",
    "\n",
    "\n",
    "            for i, v in enumerate(zip(driver.find_elements(By.CLASS_NAME, 'cld_day'), txt)):\n",
    "                tmp_list = []\n",
    "                color = re.sub(r'[^0-9]', '', v[0].value_of_css_property('color'))\n",
    "                day = v[1].string\n",
    "\n",
    "                if color == '2312312311' or color == '3636361': # 회색, 검은색은 skip\n",
    "                    continue \n",
    "\n",
    "#                 print(f'''idx: {i}, color: {color}, day: {day}''')\n",
    "                year = int(yyyymm[:4])\n",
    "                month = int(yyyymm[5:7].lstrip(\"0\"))\n",
    "                day = int(day.lstrip(\"0\"))\n",
    "\n",
    "                tmp_list.append(day)\n",
    "                holiday_list.append(datetime.datetime(year, month, day))\n",
    "            print(f'[{yyyymm}]')\n",
    "            # 한달 전으로 이동\n",
    "            driver.find_element(By.XPATH, value = '//*[@id=\"direct_calendar\"]/div/div[1]/div[1]/a[2]').click()\n",
    "            time.sleep(1)\n",
    "\n",
    "        print(\"\\n[elapsed time]:\", time.time() - start)  # 현재시각 - 시작시간 = 실행 시간\n",
    "        \n",
    "        "
   ]
  },
  {
   "cell_type": "code",
   "execution_count": 63,
   "id": "e4fad635",
   "metadata": {},
   "outputs": [],
   "source": [
    "end_date= datetime.datetime(2023,6,30) # 마지막 날짜\n",
    "start_date = datetime.datetime(2023,1,1) # 시작 날짜"
   ]
  },
  {
   "cell_type": "code",
   "execution_count": 64,
   "id": "88f1cbb2",
   "metadata": {},
   "outputs": [
    {
     "data": {
      "text/plain": [
       "5"
      ]
     },
     "execution_count": 64,
     "metadata": {},
     "output_type": "execute_result"
    }
   ],
   "source": [
    "BussinessDayClassifer = BussinessDayClassifer(end_date, start_date)\n",
    "BussinessDayClassifer.diff_month"
   ]
  },
  {
   "cell_type": "code",
   "execution_count": 27,
   "id": "014e9a4c",
   "metadata": {},
   "outputs": [
    {
     "ename": "NameError",
     "evalue": "name 'diff_month' is not defined",
     "output_type": "error",
     "traceback": [
      "\u001b[1;31m---------------------------------------------------------------------------\u001b[0m",
      "\u001b[1;31mNameError\u001b[0m                                 Traceback (most recent call last)",
      "Input \u001b[1;32mIn [27]\u001b[0m, in \u001b[0;36m<cell line: 1>\u001b[1;34m()\u001b[0m\n\u001b[1;32m----> 1\u001b[0m \u001b[43mBussinessDayClassifer\u001b[49m\u001b[38;5;241;43m.\u001b[39;49m\u001b[43mnaver_holiday_date\u001b[49m\u001b[43m(\u001b[49m\u001b[43m)\u001b[49m\n",
      "Input \u001b[1;32mIn [20]\u001b[0m, in \u001b[0;36mBussinessDayClassifer.naver_holiday_date\u001b[1;34m()\u001b[0m\n\u001b[0;32m     29\u001b[0m         start \u001b[38;5;241m=\u001b[39m time\u001b[38;5;241m.\u001b[39mtime()  \u001b[38;5;66;03m# 시작 시간 저장\u001b[39;00m\n\u001b[0;32m     30\u001b[0m \u001b[38;5;66;03m#         holiday_list = []\u001b[39;00m\n\u001b[1;32m---> 32\u001b[0m         \u001b[38;5;28;01mfor\u001b[39;00m _ \u001b[38;5;129;01min\u001b[39;00m \u001b[38;5;28mrange\u001b[39m(\u001b[43mdiff_month\u001b[49m): \u001b[38;5;66;03m# argument로 개월 수 입력\u001b[39;00m\n\u001b[0;32m     34\u001b[0m             html \u001b[38;5;241m=\u001b[39m BeautifulSoup(driver\u001b[38;5;241m.\u001b[39mpage_source, \u001b[38;5;124m'\u001b[39m\u001b[38;5;124mlxml\u001b[39m\u001b[38;5;124m'\u001b[39m)\n\u001b[0;32m     35\u001b[0m             txt \u001b[38;5;241m=\u001b[39m html\u001b[38;5;241m.\u001b[39mfind_all(class_ \u001b[38;5;241m=\u001b[39m \u001b[38;5;124m'\u001b[39m\u001b[38;5;124mcld_day\u001b[39m\u001b[38;5;124m'\u001b[39m)\n",
      "\u001b[1;31mNameError\u001b[0m: name 'diff_month' is not defined"
     ]
    }
   ],
   "source": [
    "BussinessDayClassifer.naver_holiday_date()"
   ]
  },
  {
   "cell_type": "code",
   "execution_count": null,
   "id": "d7153942",
   "metadata": {},
   "outputs": [],
   "source": [
    "BussinessDayClassifer.diff_month()"
   ]
  },
  {
   "cell_type": "code",
   "execution_count": null,
   "id": "abb0aef9",
   "metadata": {},
   "outputs": [],
   "source": [
    "BussinessDayClassifer.holiday_list"
   ]
  },
  {
   "cell_type": "code",
   "execution_count": null,
   "id": "74cfae21",
   "metadata": {},
   "outputs": [],
   "source": []
  },
  {
   "cell_type": "code",
   "execution_count": null,
   "id": "5fdeaef4",
   "metadata": {},
   "outputs": [],
   "source": []
  },
  {
   "cell_type": "code",
   "execution_count": null,
   "id": "7a091027",
   "metadata": {},
   "outputs": [],
   "source": []
  },
  {
   "cell_type": "code",
   "execution_count": 62,
   "id": "90bffbf2",
   "metadata": {},
   "outputs": [
    {
     "data": {
      "text/plain": [
       "[datetime.datetime(2021, 9, 5, 0, 0),\n",
       " datetime.datetime(2021, 9, 12, 0, 0),\n",
       " datetime.datetime(2021, 9, 19, 0, 0),\n",
       " datetime.datetime(2021, 9, 20, 0, 0),\n",
       " datetime.datetime(2021, 9, 21, 0, 0),\n",
       " datetime.datetime(2021, 9, 22, 0, 0),\n",
       " datetime.datetime(2021, 9, 26, 0, 0),\n",
       " datetime.datetime(2021, 8, 1, 0, 0),\n",
       " datetime.datetime(2021, 8, 8, 0, 0),\n",
       " datetime.datetime(2021, 8, 15, 0, 0),\n",
       " datetime.datetime(2021, 8, 16, 0, 0),\n",
       " datetime.datetime(2021, 8, 22, 0, 0),\n",
       " datetime.datetime(2021, 8, 29, 0, 0),\n",
       " datetime.datetime(2021, 7, 4, 0, 0),\n",
       " datetime.datetime(2021, 7, 11, 0, 0),\n",
       " datetime.datetime(2021, 7, 18, 0, 0),\n",
       " datetime.datetime(2021, 7, 25, 0, 0),\n",
       " datetime.datetime(2021, 6, 6, 0, 0),\n",
       " datetime.datetime(2021, 6, 13, 0, 0),\n",
       " datetime.datetime(2021, 6, 20, 0, 0),\n",
       " datetime.datetime(2021, 6, 27, 0, 0),\n",
       " datetime.datetime(2021, 5, 2, 0, 0),\n",
       " datetime.datetime(2021, 5, 5, 0, 0),\n",
       " datetime.datetime(2021, 5, 9, 0, 0),\n",
       " datetime.datetime(2021, 5, 16, 0, 0),\n",
       " datetime.datetime(2021, 5, 19, 0, 0),\n",
       " datetime.datetime(2021, 5, 23, 0, 0),\n",
       " datetime.datetime(2021, 5, 30, 0, 0)]"
      ]
     },
     "execution_count": 62,
     "metadata": {},
     "output_type": "execute_result"
    }
   ],
   "source": [
    "holiday_list"
   ]
  },
  {
   "cell_type": "code",
   "execution_count": null,
   "id": "588acf8f",
   "metadata": {},
   "outputs": [],
   "source": []
  },
  {
   "cell_type": "code",
   "execution_count": null,
   "id": "6d8839b3",
   "metadata": {},
   "outputs": [],
   "source": []
  },
  {
   "cell_type": "code",
   "execution_count": null,
   "id": "d3292e70",
   "metadata": {},
   "outputs": [],
   "source": []
  },
  {
   "cell_type": "code",
   "execution_count": null,
   "id": "37cb913a",
   "metadata": {},
   "outputs": [],
   "source": []
  },
  {
   "cell_type": "code",
   "execution_count": null,
   "id": "6cbc9e2d",
   "metadata": {},
   "outputs": [],
   "source": []
  },
  {
   "cell_type": "code",
   "execution_count": null,
   "id": "62396167",
   "metadata": {},
   "outputs": [],
   "source": []
  },
  {
   "cell_type": "code",
   "execution_count": null,
   "id": "d973cf83",
   "metadata": {},
   "outputs": [],
   "source": []
  },
  {
   "cell_type": "code",
   "execution_count": null,
   "id": "42386cd1",
   "metadata": {},
   "outputs": [],
   "source": []
  },
  {
   "cell_type": "code",
   "execution_count": null,
   "id": "e689d1ad",
   "metadata": {},
   "outputs": [],
   "source": []
  },
  {
   "cell_type": "code",
   "execution_count": null,
   "id": "e593882f",
   "metadata": {},
   "outputs": [],
   "source": []
  },
  {
   "cell_type": "code",
   "execution_count": null,
   "id": "cac3f7a4",
   "metadata": {},
   "outputs": [],
   "source": []
  },
  {
   "cell_type": "code",
   "execution_count": null,
   "id": "dbc6f930",
   "metadata": {},
   "outputs": [],
   "source": []
  },
  {
   "cell_type": "code",
   "execution_count": 67,
   "id": "7ddfe80b",
   "metadata": {},
   "outputs": [
    {
     "name": "stdout",
     "output_type": "stream",
     "text": [
      "3\n",
      "4\n",
      "8\n",
      "9\n"
     ]
    }
   ],
   "source": [
    "class Oper:\n",
    "    \n",
    "    def __init__(self, list = None):\n",
    "        self.res = 0\n",
    "        self.list = []\n",
    "    \n",
    "    def plus(self, num):\n",
    "        self.res += num\n",
    "        self.list.append(self.res)\n",
    "        return self.res\n",
    "\n",
    "student1 = Oper()\n",
    "student2 = Oper()\n",
    "\n",
    "print(student1.plus(3)) # 3\n",
    "print(student2.plus(4)) # 4\n",
    "print(student1.plus(5)) # 8\n",
    "print(student2.plus(5)) # 9"
   ]
  },
  {
   "cell_type": "code",
   "execution_count": 68,
   "id": "16e6c78d",
   "metadata": {},
   "outputs": [
    {
     "data": {
      "text/plain": [
       "[3, 8]"
      ]
     },
     "execution_count": 68,
     "metadata": {},
     "output_type": "execute_result"
    }
   ],
   "source": [
    "student1.list"
   ]
  },
  {
   "cell_type": "code",
   "execution_count": 69,
   "id": "57c1170b",
   "metadata": {},
   "outputs": [
    {
     "data": {
      "text/plain": [
       "[4, 9]"
      ]
     },
     "execution_count": 69,
     "metadata": {},
     "output_type": "execute_result"
    }
   ],
   "source": [
    "student2.list"
   ]
  }
 ],
 "metadata": {
  "kernelspec": {
   "display_name": "pyfolio",
   "language": "python",
   "name": "pyfolio"
  },
  "language_info": {
   "codemirror_mode": {
    "name": "ipython",
    "version": 3
   },
   "file_extension": ".py",
   "mimetype": "text/x-python",
   "name": "python",
   "nbconvert_exporter": "python",
   "pygments_lexer": "ipython3",
   "version": "3.9.12"
  }
 },
 "nbformat": 4,
 "nbformat_minor": 5
}
