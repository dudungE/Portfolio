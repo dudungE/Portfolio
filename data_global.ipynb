{
 "cells": [
  {
   "cell_type": "code",
   "execution_count": 8,
   "id": "1893c0ac",
   "metadata": {},
   "outputs": [],
   "source": [
    "import keyring\n",
    "\n",
    "keyring.set_password('System', 'User Name', '2a6c3fa8573ce31adb35ab811146fa553fa8a2b9')"
   ]
  },
  {
   "cell_type": "code",
   "execution_count": 9,
   "id": "c9b7b876",
   "metadata": {},
   "outputs": [],
   "source": [
    "api_key = keyring.get_password('System', 'User Name')"
   ]
  },
  {
   "cell_type": "code",
   "execution_count": 10,
   "id": "05485937",
   "metadata": {},
   "outputs": [],
   "source": [
    "import keyring\n",
    "\n",
    "keyring.set_password('tiingo', 'User Name', '2a6c3fa8573ce31adb35ab811146fa553fa8a2b9')"
   ]
  },
  {
   "cell_type": "code",
   "execution_count": 12,
   "id": "18133712",
   "metadata": {},
   "outputs": [],
   "source": [
    "from tiingo import TiingoClient\n",
    "import pandas as pd\n",
    "import keyring\n",
    "\n",
    "api_key = keyring.get_password('tiingo', 'User Name')\n",
    "config = {}\n",
    "config['session'] = True\n",
    "config['api_key'] = api_key\n",
    "client = TiingoClient(config)"
   ]
  },
  {
   "cell_type": "code",
   "execution_count": 14,
   "id": "cd0941d7",
   "metadata": {},
   "outputs": [
    {
     "data": {
      "text/html": [
       "<div>\n",
       "<style scoped>\n",
       "    .dataframe tbody tr th:only-of-type {\n",
       "        vertical-align: middle;\n",
       "    }\n",
       "\n",
       "    .dataframe tbody tr th {\n",
       "        vertical-align: top;\n",
       "    }\n",
       "\n",
       "    .dataframe thead th {\n",
       "        text-align: right;\n",
       "    }\n",
       "</style>\n",
       "<table border=\"1\" class=\"dataframe\">\n",
       "  <thead>\n",
       "    <tr style=\"text-align: right;\">\n",
       "      <th></th>\n",
       "      <th>ticker</th>\n",
       "      <th>exchange</th>\n",
       "      <th>assetType</th>\n",
       "      <th>priceCurrency</th>\n",
       "      <th>startDate</th>\n",
       "      <th>endDate</th>\n",
       "    </tr>\n",
       "  </thead>\n",
       "  <tbody>\n",
       "    <tr>\n",
       "      <th>0</th>\n",
       "      <td>000001</td>\n",
       "      <td>SHE</td>\n",
       "      <td>Stock</td>\n",
       "      <td>CNY</td>\n",
       "      <td>2007-01-04</td>\n",
       "      <td>2023-02-16</td>\n",
       "    </tr>\n",
       "    <tr>\n",
       "      <th>1</th>\n",
       "      <td>000002</td>\n",
       "      <td>SHE</td>\n",
       "      <td>Stock</td>\n",
       "      <td>CNY</td>\n",
       "      <td>2007-01-04</td>\n",
       "      <td>2023-02-16</td>\n",
       "    </tr>\n",
       "    <tr>\n",
       "      <th>2</th>\n",
       "      <td>000003</td>\n",
       "      <td>SHE</td>\n",
       "      <td>Stock</td>\n",
       "      <td>CNY</td>\n",
       "      <td></td>\n",
       "      <td></td>\n",
       "    </tr>\n",
       "    <tr>\n",
       "      <th>3</th>\n",
       "      <td>000004</td>\n",
       "      <td>SHE</td>\n",
       "      <td>Stock</td>\n",
       "      <td>CNY</td>\n",
       "      <td>2007-08-31</td>\n",
       "      <td>2023-02-16</td>\n",
       "    </tr>\n",
       "    <tr>\n",
       "      <th>4</th>\n",
       "      <td>000005</td>\n",
       "      <td>SHE</td>\n",
       "      <td>Stock</td>\n",
       "      <td>CNY</td>\n",
       "      <td>2007-08-31</td>\n",
       "      <td>2023-02-16</td>\n",
       "    </tr>\n",
       "  </tbody>\n",
       "</table>\n",
       "</div>"
      ],
      "text/plain": [
       "   ticker exchange assetType priceCurrency   startDate     endDate\n",
       "0  000001      SHE     Stock           CNY  2007-01-04  2023-02-16\n",
       "1  000002      SHE     Stock           CNY  2007-01-04  2023-02-16\n",
       "2  000003      SHE     Stock           CNY                        \n",
       "3  000004      SHE     Stock           CNY  2007-08-31  2023-02-16\n",
       "4  000005      SHE     Stock           CNY  2007-08-31  2023-02-16"
      ]
     },
     "execution_count": 14,
     "metadata": {},
     "output_type": "execute_result"
    }
   ],
   "source": [
    "tickers = client.list_stock_tickers()\n",
    "tickers_df = pd.DataFrame.from_records(tickers)\n",
    "\n",
    "tickers_df.head()"
   ]
  },
  {
   "cell_type": "code",
   "execution_count": null,
   "id": "3ef40e8a",
   "metadata": {},
   "outputs": [],
   "source": []
  },
  {
   "cell_type": "code",
   "execution_count": 15,
   "id": "c15731ff",
   "metadata": {},
   "outputs": [
    {
     "data": {
      "text/plain": [
       "exchange   priceCurrency\n",
       "           USD               2462\n",
       "AMEX       USD                 72\n",
       "ASX        AUD                169\n",
       "           USD               2172\n",
       "BATS       USD                 11\n",
       "CSE        USD                 32\n",
       "EXPM       USD               1833\n",
       "LSE        USD                 13\n",
       "NASDAQ     USD              12370\n",
       "NMFQS      USD                 25\n",
       "NYSE       USD               7642\n",
       "NYSE ARCA  USD                 71\n",
       "NYSE MKT   USD                430\n",
       "NYSE NAT   USD                  4\n",
       "OTCBB      USD                639\n",
       "OTCCE      USD               1142\n",
       "OTCGREY    USD               3625\n",
       "OTCMKTS    USD               1178\n",
       "OTCQB      USD               1354\n",
       "OTCQX      USD                785\n",
       "PINK       USD              14319\n",
       "SHE        CNY               2554\n",
       "           HKD                 12\n",
       "SHEB       HKD                 42\n",
       "SHG        CNY               1933\n",
       "           USD                  6\n",
       "SHGB       USD                 44\n",
       "Name: ticker, dtype: int64"
      ]
     },
     "execution_count": 15,
     "metadata": {},
     "output_type": "execute_result"
    }
   ],
   "source": [
    "tickers_df.groupby(['exchange', 'priceCurrency'])['ticker'].count()"
   ]
  },
  {
   "cell_type": "code",
   "execution_count": null,
   "id": "7e4ed32e",
   "metadata": {},
   "outputs": [],
   "source": []
  },
  {
   "cell_type": "code",
   "execution_count": 16,
   "id": "755b87ce",
   "metadata": {},
   "outputs": [
    {
     "name": "stdout",
     "output_type": "stream",
     "text": [
      "{'ticker': 'AAPL', 'name': 'Apple Inc', 'description': \"Apple Inc. (Apple) designs, manufactures and markets mobile communication and media devices, personal computers, and portable digital music players, and a variety of related software, services, peripherals, networking solutions, and third-party digital content and applications. The Company's products and services include iPhone, iPad, Mac, iPod, Apple TV, a portfolio of consumer and professional software applications, the iOS and OS X operating systems, iCloud, and a variety of accessory, service and support offerings. The Company also delivers digital content and applications through the iTunes Store, App StoreSM, iBookstoreSM, and Mac App Store. The Company distributes its products worldwide through its retail stores, online stores, and direct sales force, as well as through third-party cellular network carriers, wholesalers, retailers, and value-added resellers. In February 2012, the Company acquired app-search engine Chomp.\", 'startDate': '1980-12-12', 'endDate': '2023-02-16', 'exchangeCode': 'NASDAQ'}\n"
     ]
    }
   ],
   "source": [
    "ticker_metadata = client.get_ticker_metadata(\"AAPL\")\n",
    "print(ticker_metadata)"
   ]
  },
  {
   "cell_type": "code",
   "execution_count": null,
   "id": "32c73dc9",
   "metadata": {},
   "outputs": [],
   "source": []
  },
  {
   "cell_type": "code",
   "execution_count": null,
   "id": "4df1601e",
   "metadata": {},
   "outputs": [],
   "source": []
  },
  {
   "cell_type": "code",
   "execution_count": null,
   "id": "2b5a1535",
   "metadata": {},
   "outputs": [],
   "source": []
  },
  {
   "cell_type": "code",
   "execution_count": null,
   "id": "d877c36e",
   "metadata": {},
   "outputs": [],
   "source": []
  },
  {
   "cell_type": "code",
   "execution_count": null,
   "id": "dd2479ae",
   "metadata": {},
   "outputs": [],
   "source": []
  },
  {
   "cell_type": "code",
   "execution_count": null,
   "id": "ec438f31",
   "metadata": {},
   "outputs": [],
   "source": []
  },
  {
   "cell_type": "code",
   "execution_count": null,
   "id": "4751b3f1",
   "metadata": {},
   "outputs": [],
   "source": []
  },
  {
   "cell_type": "code",
   "execution_count": null,
   "id": "cb74b700",
   "metadata": {},
   "outputs": [],
   "source": []
  },
  {
   "cell_type": "code",
   "execution_count": null,
   "id": "1056a54f",
   "metadata": {},
   "outputs": [],
   "source": []
  }
 ],
 "metadata": {
  "kernelspec": {
   "display_name": "pyfolio",
   "language": "python",
   "name": "pyfolio"
  },
  "language_info": {
   "codemirror_mode": {
    "name": "ipython",
    "version": 3
   },
   "file_extension": ".py",
   "mimetype": "text/x-python",
   "name": "python",
   "nbconvert_exporter": "python",
   "pygments_lexer": "ipython3",
   "version": "3.9.12"
  }
 },
 "nbformat": 4,
 "nbformat_minor": 5
}
