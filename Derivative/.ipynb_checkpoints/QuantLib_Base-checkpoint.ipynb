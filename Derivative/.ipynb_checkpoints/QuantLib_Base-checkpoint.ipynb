{
 "cells": [
  {
   "cell_type": "markdown",
   "id": "37a25c33",
   "metadata": {},
   "source": [
    "# 1. Date\n",
    "- 세타(Theta, Θ)\n",
    "- Effective Date, Maturity Date\n",
    "- Day, Month, Year\n"
   ]
  },
  {
   "cell_type": "code",
   "execution_count": 11,
   "id": "dd3a492a",
   "metadata": {},
   "outputs": [
    {
     "name": "stdout",
     "output_type": "stream",
     "text": [
      "April 11th, 2020\n",
      "April 11th, 2020\n"
     ]
    }
   ],
   "source": [
    "import QuantLib as ql\n",
    "\n",
    "# Construction\n",
    "date1 = ql.Date(11, 4, 2020)\n",
    "date2 = ql.Date(43932) # 1900/01/01을 1로 정하여 하루씩 counting \n",
    "\n",
    "print(date1)\n",
    "print(date2)\n"
   ]
  },
  {
   "cell_type": "code",
   "execution_count": 12,
   "id": "9ec82431",
   "metadata": {},
   "outputs": [
    {
     "name": "stdout",
     "output_type": "stream",
     "text": [
      "Day of Month = 11\n",
      "Day of Year = 101\n",
      "\n",
      "Month = 4\n",
      "Year = 2022\n",
      "\n",
      "Serial Number = 44662\n",
      "Weekday = 2\n"
     ]
    }
   ],
   "source": [
    "# Basic Functions\n",
    "date = ql.Date(11, 4, 2022)\n",
    "\n",
    "dayOfMonth = date.dayOfMonth() # 오늘이 이번 달의 몇번째 날?\n",
    "dayOfYear = date.dayOfYear() # 오늘이 올해의 몇번째 날?\n",
    "month = date.month() \n",
    "year = date.year()\n",
    "serialNumber = date.serialNumber()\n",
    "weekday = date.weekday() # 해당 날짜가 무슨요일? ex) 만기월의 3번째 수요일\n",
    "\n",
    "print(\"Day of Month = {}\".format(dayOfMonth))\n",
    "print(\"Day of Year = {}\\n\".format(dayOfYear))\n",
    "print(\"Month = {}\".format(month))\n",
    "print(\"Year = {}\\n\".format(year))\n",
    "print(\"Serial Number = {}\".format(serialNumber))\n",
    "print(\"Weekday = {}\".format(weekday))"
   ]
  },
  {
   "cell_type": "code",
   "execution_count": 13,
   "id": "03ec8e18",
   "metadata": {},
   "outputs": [
    {
     "name": "stdout",
     "output_type": "stream",
     "text": [
      "Today's Date = March 29th, 2023\n",
      "is Leap? = True\n",
      "is End of Month? = False\n",
      "End of Month = April 30th, 2020\n",
      "Next Weekday = April 15th, 2020\n",
      "Nth Weekday = July 16th, 2020\n"
     ]
    }
   ],
   "source": [
    "# Advanced Functions\n",
    "date = ql.Date(12, 4, 2020)\n",
    "\n",
    "todaysDate = date.todaysDate() # 오늘의 date\n",
    "isLeap = date.isLeap(date.year()) # 윤년 여뷰 Boolean출력\n",
    "isEndOfMonth = date.isEndOfMonth(date)\n",
    "endOfMonth = date.endOfMonth(date)\n",
    "nextWeekday = date.nextWeekday(date, 4)\n",
    "nthWeekday = date.nthWeekday(3, 5, 7, 2020)\n",
    "\n",
    "print(\"Today's Date = {}\".format(todaysDate))\n",
    "print(\"is Leap? = {}\".format(isLeap))\n",
    "print(\"is End of Month? = {}\".format(isEndOfMonth))\n",
    "print(\"End of Month = {}\".format(endOfMonth))\n",
    "print(\"Next Weekday = {}\".format(nextWeekday))\n",
    "print(\"Nth Weekday = {}\".format(nthWeekday))\n"
   ]
  },
  {
   "cell_type": "markdown",
   "id": "37795cbe",
   "metadata": {},
   "source": [
    "# 2. Period"
   ]
  },
  {
   "attachments": {
    "image.png": {
     "image/png": "[encoded data removed]"
    }
   },
   "cell_type": "markdown",
   "id": "5ac26146",
   "metadata": {},
   "source": [
    "![image.png](attachment:image.png)\n",
    "- Date 사이의 특정 기간을 define\n",
    "- ql.Period(**Integer, TimeUnits**) or ql.Period(**Frequency**)의 구조"
   ]
  },
  {
   "cell_type": "code",
   "execution_count": 4,
   "id": "12c22ba7",
   "metadata": {},
   "outputs": [
    {
     "name": "stdout",
     "output_type": "stream",
     "text": [
      "3M 6M\n"
     ]
    }
   ],
   "source": [
    "import QuantLib as ql\n",
    "# Construction\n",
    "period1 = ql.Period(3, ql.Months)\n",
    "period2 = ql.Period(ql.Semiannual)\n",
    "\n",
    "print(period1, period2)"
   ]
  },
  {
   "cell_type": "markdown",
   "id": "5225ec6b",
   "metadata": {},
   "source": [
    "- Date와 결합하여 날짜에 대한 Arithmetic Operation을 가능케한다."
   ]
  },
  {
   "cell_type": "code",
   "execution_count": 5,
   "id": "a1a125db",
   "metadata": {},
   "outputs": [
    {
     "name": "stdout",
     "output_type": "stream",
     "text": [
      "April 11th, 2020\n",
      "December 31st, 2020\n"
     ]
    }
   ],
   "source": [
    "# Functions\n",
    "date1 = ql.Date(11, 4, 2020)\n",
    "date2 = ql.Date(31, 12, 2020)\n",
    "print(date1)\n",
    "print(date2)"
   ]
  },
  {
   "cell_type": "code",
   "execution_count": 6,
   "id": "4aac1eac",
   "metadata": {},
   "outputs": [],
   "source": [
    "three_weeks = ql.Period(3, ql.Weeks)\n",
    "three_months = ql.Period(3, ql.Months)\n",
    "three_years = ql.Period(3, ql.Years)"
   ]
  },
  {
   "cell_type": "code",
   "execution_count": 7,
   "id": "b62fb5da",
   "metadata": {},
   "outputs": [
    {
     "name": "stdout",
     "output_type": "stream",
     "text": [
      "After 3 Weeks : May 2nd, 2020\n",
      "After 3 Months : July 11th, 2020\n",
      "After 3 Years : April 11th, 2023\n",
      "Days between Date2 and Date1 = 264\n"
     ]
    }
   ],
   "source": [
    "print(\"After 3 Weeks : {}\".format(date1 + three_weeks))\n",
    "print(\"After 3 Months : {}\".format(date1 + three_months))\n",
    "print(\"After 3 Years : {}\".format(date1 + three_years))\n",
    "print(\"Days between Date2 and Date1 = {}\".format(date2 - date1))"
   ]
  },
  {
   "cell_type": "markdown",
   "id": "f0d2ecd5",
   "metadata": {},
   "source": [
    "# 3. Calendar"
   ]
  },
  {
   "cell_type": "markdown",
   "id": "c3b33ace",
   "metadata": {},
   "source": [
    "- 각국의 달력을 파악하고 그에 따른 영업일 및 휴일을 처리"
   ]
  },
  {
   "cell_type": "code",
   "execution_count": 5,
   "id": "a5fe3834",
   "metadata": {},
   "outputs": [
    {
     "ename": "TypeError",
     "evalue": "__init__() missing 1 required positional argument: 'm'",
     "output_type": "error",
     "traceback": [
      "\u001b[1;31m---------------------------------------------------------------------------\u001b[0m",
      "\u001b[1;31mTypeError\u001b[0m                                 Traceback (most recent call last)",
      "Input \u001b[1;32mIn [5]\u001b[0m, in \u001b[0;36m<cell line: 4>\u001b[1;34m()\u001b[0m\n\u001b[0;32m      1\u001b[0m \u001b[38;5;28;01mimport\u001b[39;00m \u001b[38;5;21;01mQuantLib\u001b[39;00m \u001b[38;5;28;01mas\u001b[39;00m \u001b[38;5;21;01mql\u001b[39;00m\n\u001b[0;32m      3\u001b[0m \u001b[38;5;66;03m# Construction\u001b[39;00m\n\u001b[1;32m----> 4\u001b[0m us \u001b[38;5;241m=\u001b[39m \u001b[43mql\u001b[49m\u001b[38;5;241;43m.\u001b[39;49m\u001b[43mUnitedStates\u001b[49m\u001b[43m(\u001b[49m\u001b[43m)\u001b[49m\n\u001b[0;32m      5\u001b[0m eu \u001b[38;5;241m=\u001b[39m ql\u001b[38;5;241m.\u001b[39mTARGET()\n\u001b[0;32m      6\u001b[0m kr \u001b[38;5;241m=\u001b[39m ql\u001b[38;5;241m.\u001b[39mSouthKorea()\n",
      "\u001b[1;31mTypeError\u001b[0m: __init__() missing 1 required positional argument: 'm'"
     ]
    }
   ],
   "source": [
    "import QuantLib as ql\n",
    "\n",
    "# Construction\n",
    "us = ql.UnitedStates()\n",
    "eu = ql.TARGET()\n",
    "kr = ql.SouthKorea()\n",
    "jp = ql.Japan()\n",
    "cn = ql.China()\n"
   ]
  },
  {
   "cell_type": "code",
   "execution_count": null,
   "id": "a815dca6",
   "metadata": {},
   "outputs": [],
   "source": [
    "date1 = ql.Date(1, 1, 2020)\n",
    "date2 = ql.Date(31, 12, 2020)\n",
    "kr_holidayList = kr.holidayList(date1, date2)\n",
    "print(kr_holidayList)"
   ]
  },
  {
   "cell_type": "code",
   "execution_count": null,
   "id": "ede77190",
   "metadata": {},
   "outputs": [],
   "source": [
    "# 완벽하지 않은 부분을 manual하게 리스트에 추가해줄 수 있다.\n",
    "kr.addHoliday(ql.Date(27, 1, 2020))\n",
    "kr.addHoliday(ql.Date(15, 4, 2020))\n",
    "kr.removeHoliday(ql.Date(6, 5, 2020))\n",
    "print(kr_holidayList)"
   ]
  },
  {
   "cell_type": "code",
   "execution_count": 9,
   "id": "e67e26cd",
   "metadata": {},
   "outputs": [
    {
     "ename": "NameError",
     "evalue": "name 'kr' is not defined",
     "output_type": "error",
     "traceback": [
      "\u001b[1;31m---------------------------------------------------------------------------\u001b[0m",
      "\u001b[1;31mNameError\u001b[0m                                 Traceback (most recent call last)",
      "Cell \u001b[1;32mIn[9], line 2\u001b[0m\n\u001b[0;32m      1\u001b[0m \u001b[38;5;66;03m# businessDaysBetween method는 두 날짜 사이의 영업일수를 계산\u001b[39;00m\n\u001b[1;32m----> 2\u001b[0m \u001b[43mkr\u001b[49m\u001b[38;5;241m.\u001b[39mbusinessDaysBetween(date1, date2) \u001b[38;5;66;03m# 249\u001b[39;00m\n",
      "\u001b[1;31mNameError\u001b[0m: name 'kr' is not defined"
     ]
    }
   ],
   "source": [
    "# businessDaysBetween method는 두 날짜 사이의 영업일수를 계산\n",
    "kr.businessDaysBetween(date1, date2) # 249"
   ]
  },
  {
   "cell_type": "code",
   "execution_count": 10,
   "id": "46a1fd92",
   "metadata": {},
   "outputs": [
    {
     "ename": "NameError",
     "evalue": "name 'kr' is not defined",
     "output_type": "error",
     "traceback": [
      "\u001b[1;31m---------------------------------------------------------------------------\u001b[0m",
      "\u001b[1;31mNameError\u001b[0m                                 Traceback (most recent call last)",
      "Cell \u001b[1;32mIn[10], line 2\u001b[0m\n\u001b[0;32m      1\u001b[0m \u001b[38;5;66;03m# 특정 날짜의 영업일 or 휴일 여부 boolean 출력\u001b[39;00m\n\u001b[1;32m----> 2\u001b[0m \u001b[43mkr\u001b[49m\u001b[38;5;241m.\u001b[39misBusinessDay(date1) \u001b[38;5;66;03m# False\u001b[39;00m\n\u001b[0;32m      3\u001b[0m kr\u001b[38;5;241m.\u001b[39misHoliday(date1) \u001b[38;5;66;03m# True\u001b[39;00m\n\u001b[0;32m      5\u001b[0m \u001b[38;5;28mprint\u001b[39m(kr\u001b[38;5;241m.\u001b[39misBusinessDay(date1))\n",
      "\u001b[1;31mNameError\u001b[0m: name 'kr' is not defined"
     ]
    }
   ],
   "source": [
    "# 특정 날짜의 영업일 or 휴일 여부 boolean 출력\n",
    "kr.isBusinessDay(date1) # False\n",
    "kr.isHoliday(date1) # True\n",
    "\n",
    "print(kr.isBusinessDay(date1))\n",
    "print(kr.isHoliday(date1))"
   ]
  },
  {
   "cell_type": "code",
   "execution_count": 11,
   "id": "bb70aca8",
   "metadata": {},
   "outputs": [
    {
     "ename": "NameError",
     "evalue": "name 'kr' is not defined",
     "output_type": "error",
     "traceback": [
      "\u001b[1;31m---------------------------------------------------------------------------\u001b[0m",
      "\u001b[1;31mNameError\u001b[0m                                 Traceback (most recent call last)",
      "Cell \u001b[1;32mIn[11], line 9\u001b[0m\n\u001b[0;32m      1\u001b[0m \u001b[38;5;124;03m'''advance() 메서드는 어떤 특정 일자(Date)로부터 특정 기간(Period) 후의 날짜를 반환하는 기능을 한다. 어찌 보\u001b[39;00m\n\u001b[0;32m      2\u001b[0m \u001b[38;5;124;03m면 이전에 다뤘던 Date와 Period를 사용한 산술 계산과 비슷한 기능을 한다고도 볼 수 있다. 다만 이 메서드가 기존\u001b[39;00m\n\u001b[0;32m      3\u001b[0m \u001b[38;5;124;03m의 방법과 다른 점은 추가적으로 영업일 관행(Business Day Convention)과 월말기준(End of Month)을 인자로\u001b[39;00m\n\u001b[1;32m   (...)\u001b[0m\n\u001b[0;32m      6\u001b[0m \u001b[38;5;124;03m날짜로 해야 되는가에 대한 판단 기준을 의미한다. 영업일 관행은 아래와 같이 시장에서 자주 쓰이는 몇 가지 기준을\u001b[39;00m\n\u001b[0;32m      7\u001b[0m \u001b[38;5;124;03m열거형으로 만들어놓았으며, 각각의 기준은 아래와 같이 간단히 다이어그램으로 표현될 수 있다.'''\u001b[39;00m\n\u001b[1;32m----> 9\u001b[0m \u001b[43mkr\u001b[49m\u001b[38;5;241m.\u001b[39madvance(date1, ql\u001b[38;5;241m.\u001b[39mPeriod(\u001b[38;5;241m6\u001b[39m, ql\u001b[38;5;241m.\u001b[39mMonths), ql\u001b[38;5;241m.\u001b[39mModifiedFollowing, \u001b[38;5;28;01mTrue\u001b[39;00m) \u001b[38;5;66;03m# July 1\u001b[39;00m\n",
      "\u001b[1;31mNameError\u001b[0m: name 'kr' is not defined"
     ]
    }
   ],
   "source": [
    "'''advance() 메서드는 어떤 특정 일자(Date)로부터 특정 기간(Period) 후의 날짜를 반환하는 기능을 한다. 어찌 보\n",
    "면 이전에 다뤘던 Date와 Period를 사용한 산술 계산과 비슷한 기능을 한다고도 볼 수 있다. 다만 이 메서드가 기존\n",
    "의 방법과 다른 점은 추가적으로 영업일 관행(Business Day Convention)과 월말기준(End of Month)을 인자로\n",
    "받는다는 점이다.\n",
    "여기서 말하는 영업일 관행(Business Day Convention)이란 이론적 만기일과 휴일이 겹칠 때 실제 만기일을 어떤\n",
    "날짜로 해야 되는가에 대한 판단 기준을 의미한다. 영업일 관행은 아래와 같이 시장에서 자주 쓰이는 몇 가지 기준을\n",
    "열거형으로 만들어놓았으며, 각각의 기준은 아래와 같이 간단히 다이어그램으로 표현될 수 있다.'''\n",
    "\n",
    "kr.advance(date1, ql.Period(6, ql.Months), ql.ModifiedFollowing, True) # July 1"
   ]
  },
  {
   "cell_type": "code",
   "execution_count": 12,
   "id": "b6e6b7d4",
   "metadata": {},
   "outputs": [
    {
     "ename": "NameError",
     "evalue": "name 'us' is not defined",
     "output_type": "error",
     "traceback": [
      "\u001b[1;31m---------------------------------------------------------------------------\u001b[0m",
      "\u001b[1;31mNameError\u001b[0m                                 Traceback (most recent call last)",
      "Cell \u001b[1;32mIn[12], line 2\u001b[0m\n\u001b[0;32m      1\u001b[0m \u001b[38;5;66;03m# JointCalendar\u001b[39;00m\n\u001b[1;32m----> 2\u001b[0m new_calendar \u001b[38;5;241m=\u001b[39m ql\u001b[38;5;241m.\u001b[39mJointCalendar(\u001b[43mus\u001b[49m, eu, kr)\n\u001b[0;32m      3\u001b[0m \u001b[38;5;28mprint\u001b[39m(new_calendar\u001b[38;5;241m.\u001b[39mholidayList(date1, date2))\n",
      "\u001b[1;31mNameError\u001b[0m: name 'us' is not defined"
     ]
    }
   ],
   "source": [
    "# JointCalendar\n",
    "new_calendar = ql.JointCalendar(us, eu, kr)\n",
    "print(new_calendar.holidayList(date1, date2))"
   ]
  },
  {
   "cell_type": "markdown",
   "id": "ec3c16d9",
   "metadata": {},
   "source": [
    "# 4. DayCounter"
   ]
  },
  {
   "cell_type": "markdown",
   "id": "952d3394",
   "metadata": {},
   "source": [
    "- Market Conventions\n",
    "- 이자 일수 계산방식\n",
    "    - year: ACT/365/360/252\n",
    "    - month: ACT/30/영업일\n",
    "    - month/year 로 express   \n",
    "- 미국은 ACT/360, 유렵은 30/360, 한국은 ACT/365 방식 차용"
   ]
  },
  {
   "cell_type": "code",
   "execution_count": 10,
   "id": "2b992154",
   "metadata": {},
   "outputs": [],
   "source": [
    "import QuantLib as ql\n",
    "\n",
    "# Construction\n",
    "act360 = ql.Actual360() # Actual/360\n",
    "act365 = ql.Actual365Fixed() # Actual/365\n",
    "actact = ql.ActualActual(2) # Actual/Actual\n",
    "thirty360 = ql.Thirty360(2) # 30/360\n",
    "b252 = ql.Business252() # BusinessDay/252"
   ]
  },
  {
   "cell_type": "code",
   "execution_count": 8,
   "id": "1a210e51",
   "metadata": {},
   "outputs": [],
   "source": [
    "help(ql.ActualActual)"
   ]
  },
  {
   "cell_type": "code",
   "execution_count": 20,
   "id": "db85b3d2",
   "metadata": {},
   "outputs": [
    {
     "name": "stdout",
     "output_type": "stream",
     "text": [
      "date1: February 12th, 2020\n",
      "date2: May 14th, 2020\n",
      "\n",
      "Day Count by Actual/360 = 92\n",
      "Day Count by Actual/365 = 92\n",
      "Day Count by BusinessDay/252 = 61\n"
     ]
    }
   ],
   "source": [
    "date1 = ql.Date(12, 2, 2020)\n",
    "date2 = ql.Date(14, 5, 2020)\n",
    "print(f\"date1: {date1}\\ndate2: {date2}\\n\")\n",
    "\n",
    "# Day Count\n",
    "print(\"Day Count by Actual/360 = {}\".format(act360.dayCount(date1, date2)))\n",
    "print(\"Day Count by Actual/365 = {}\".format(act365.dayCount(date1, date2)))\n",
    "# print(\"Day Count by Actual/Actual = {}\".format(actact.dayCount(date1, date2)))\n",
    "# print(\"Day Count by 30/360 = {}\".format(thirty360.dayCount(date1, date2)))\n",
    "print(\"Day Count by BusinessDay/252 = {}\".format(b252.dayCount(date1, date2)))\n",
    "\n"
   ]
  },
  {
   "cell_type": "code",
   "execution_count": 21,
   "id": "c583085d",
   "metadata": {},
   "outputs": [
    {
     "name": "stdout",
     "output_type": "stream",
     "text": [
      "Year Fraction by Actual/360 = 0.2556\n",
      "Year Fraction by Actual/365 = 0.2521\n",
      "Year Fraction by BusinessDay/252 = 0.2421\n"
     ]
    }
   ],
   "source": [
    "# Year Fraction\n",
    "print(\"Year Fraction by Actual/360 = {}\".format(round(act360.yearFraction(date1, date2), 4)))\n",
    "print(\"Year Fraction by Actual/365 = {}\".format(round(act365.yearFraction(date1, date2), 4)))\n",
    "# print(\"Year Fraction by Actual/Actual = {}\".format(round(actact.yearFraction(date1,date2), 4)))\n",
    "# print(\"Year Fraction by 30/360 = {}\".format(round(thirty360.yearFraction(date1, date2), 4)))\n",
    "print(\"Year Fraction by BusinessDay/252 = {}\".format(round(b252.yearFraction(date1,date2), 4)))"
   ]
  },
  {
   "cell_type": "markdown",
   "id": "828bff25",
   "metadata": {},
   "source": [
    "- convention 및 버전 문제로 인한 에러 해결https://stackoverflow.com/questions/74329593/python-quantlib-typeerror-wrong-number-or-type-of-arguments-for-overloaded-fu"
   ]
  },
  {
   "cell_type": "code",
   "execution_count": 6,
   "id": "5e3a0588",
   "metadata": {},
   "outputs": [
    {
     "name": "stdout",
     "output_type": "stream",
     "text": [
      "Year Fraction by Actual/Actual = 0.0\n"
     ]
    }
   ],
   "source": [
    "actact = ql.Thirty360(ql.Thirty360.BondBasis)\n",
    "actact\n",
    "print(\"Year Fraction by Actual/Actual = {}\".format(round(actact.yearFraction(date1,date2), 4)))"
   ]
  },
  {
   "cell_type": "markdown",
   "id": "53fee272",
   "metadata": {},
   "source": [
    "# 5. Schedule\n"
   ]
  },
  {
   "cell_type": "code",
   "execution_count": 17,
   "id": "15c7699a",
   "metadata": {},
   "outputs": [],
   "source": [
    "# Components\n",
    "effectiveDate = ql.Date(13, 4, 2020)\n",
    "maturityDate = ql.Date(15, 4, 2023)\n",
    "tenor = ql.Period(3, ql.Months)\n",
    "calendar = ql.SouthKorea()\n",
    "convention = ql.ModifiedFollowing\n",
    "rule = ql.DateGeneration.Backward\n",
    "endOfMonth = False\n",
    "# Construction\n",
    "schedule = ql.Schedule(effectiveDate,\n",
    " maturityDate,\n",
    " tenor,\n",
    " calendar,\n",
    " convention,\n",
    " convention,\n",
    " rule,\n",
    " endOfMonth)"
   ]
  },
  {
   "cell_type": "code",
   "execution_count": 18,
   "id": "2a42f9d9",
   "metadata": {},
   "outputs": [
    {
     "name": "stdout",
     "output_type": "stream",
     "text": [
      "Next Payment Date from October 4th, 2021 : October 15th, 2021\n",
      "Previous Payment Date from October 4th, 2021 : July 15th, 2021\n"
     ]
    }
   ],
   "source": [
    "ref_date = ql.Date(4, 10, 2021)\n",
    "# Functions\n",
    "print(\"Next Payment Date from {} : {}\".format(ref_date, schedule.nextDate(ref_date)))\n",
    "print(\"Previous Payment Date from {} : {}\".format(ref_date, schedule.previousDate(ref_date)))"
   ]
  },
  {
   "cell_type": "code",
   "execution_count": null,
   "id": "86cb0d63",
   "metadata": {},
   "outputs": [],
   "source": []
  },
  {
   "cell_type": "code",
   "execution_count": null,
   "id": "2a922dcd",
   "metadata": {},
   "outputs": [],
   "source": []
  },
  {
   "cell_type": "markdown",
   "id": "e9386165",
   "metadata": {},
   "source": [
    "# 6. Quote"
   ]
  },
  {
   "cell_type": "markdown",
   "id": "6c919c1f",
   "metadata": {},
   "source": [
    "# 7. InterestRate"
   ]
  },
  {
   "cell_type": "markdown",
   "id": "fbb191b0",
   "metadata": {},
   "source": [
    "# 8. IborIndex"
   ]
  },
  {
   "cell_type": "markdown",
   "id": "1aee3730",
   "metadata": {},
   "source": [
    "# 9. TermStructure"
   ]
  },
  {
   "cell_type": "markdown",
   "id": "500fbac4",
   "metadata": {},
   "source": [
    "# 10. Handle"
   ]
  },
  {
   "cell_type": "markdown",
   "id": "3862d7d8",
   "metadata": {},
   "source": [
    "# 11. BootstrapHelper"
   ]
  },
  {
   "cell_type": "markdown",
   "id": "d4531fad",
   "metadata": {},
   "source": [
    "# 12. Instrument"
   ]
  },
  {
   "cell_type": "markdown",
   "id": "779b130b",
   "metadata": {},
   "source": [
    "# 13. Exercise"
   ]
  },
  {
   "cell_type": "markdown",
   "id": "cb8379c8",
   "metadata": {},
   "source": [
    "# 14. Payoff"
   ]
  },
  {
   "cell_type": "markdown",
   "id": "0a2e30bc",
   "metadata": {},
   "source": [
    "# 15. StochasticProcess"
   ]
  },
  {
   "cell_type": "markdown",
   "id": "04d93b76",
   "metadata": {},
   "source": [
    "# 16. PricingEngine"
   ]
  },
  {
   "cell_type": "code",
   "execution_count": null,
   "id": "1810ba34",
   "metadata": {},
   "outputs": [],
   "source": []
  },
  {
   "cell_type": "code",
   "execution_count": null,
   "id": "fe79df75",
   "metadata": {},
   "outputs": [],
   "source": []
  },
  {
   "cell_type": "code",
   "execution_count": null,
   "id": "0dc1d91a",
   "metadata": {},
   "outputs": [],
   "source": []
  }
 ],
 "metadata": {
  "kernelspec": {
   "display_name": "pyfolio",
   "language": "python",
   "name": "pyfolio"
  },
  "language_info": {
   "codemirror_mode": {
    "name": "ipython",
    "version": 3
   },
   "file_extension": ".py",
   "mimetype": "text/x-python",
   "name": "python",
   "nbconvert_exporter": "python",
   "pygments_lexer": "ipython3",
   "version": "3.9.12"
  }
 },
 "nbformat": 4,
 "nbformat_minor": 5
}
