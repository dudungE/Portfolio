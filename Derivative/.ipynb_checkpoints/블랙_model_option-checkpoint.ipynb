{
 "cells": [
  {
   "cell_type": "code",
   "execution_count": 1,
   "id": "7ce550b0",
   "metadata": {},
   "outputs": [],
   "source": [
    "import QuantLib as ql"
   ]
  },
  {
   "cell_type": "code",
   "execution_count": 2,
   "id": "008afac7",
   "metadata": {},
   "outputs": [],
   "source": [
    "valuationDate = ql.Date(14, 6, 2019)\n",
    "ql.Settings.instance().evaluationDate = valuationDate\n",
    "calendar = ql.SouthKorea()\n",
    "dayCount = ql.Actual366()\n",
    "# dayCount = ql.ActualActual(ql.ActualActual.ISDA)"
   ]
  },
  {
   "cell_type": "code",
   "execution_count": 3,
   "id": "37b6d9a0",
   "metadata": {},
   "outputs": [],
   "source": [
    "# Simple Quote Objects\n",
    "underlying_qt = ql.SimpleQuote(270.48) # Underlying Price\n",
    "dividend_qt = ql.SimpleQuote(0.0) # Dividend Yield\n",
    "riskfreerate_qt = ql.SimpleQuote(0.01) # Risk-free Rate\n",
    "volatility_qt = ql.SimpleQuote(0.13) # Volatility"
   ]
  },
  {
   "cell_type": "code",
   "execution_count": 4,
   "id": "20b129a2",
   "metadata": {},
   "outputs": [],
   "source": [
    "# Quote Handle Objects\n",
    "u_qhd = ql.QuoteHandle(underlying_qt)\n",
    "q_qhd = ql.QuoteHandle(dividend_qt)\n",
    "r_qhd = ql.QuoteHandle(riskfreerate_qt)\n",
    "v_qhd = ql.QuoteHandle(volatility_qt)"
   ]
  },
  {
   "cell_type": "code",
   "execution_count": 5,
   "id": "75382690",
   "metadata": {},
   "outputs": [],
   "source": [
    "# Term-Structure Objects\n",
    "r_ts = ql.FlatForward(valuationDate, r_qhd, dayCount)\n",
    "d_ts = ql.FlatForward(valuationDate, q_qhd, dayCount)\n",
    "v_ts = ql.BlackConstantVol(valuationDate, calendar, v_qhd, dayCount)"
   ]
  },
  {
   "cell_type": "code",
   "execution_count": 6,
   "id": "5aaa3631",
   "metadata": {},
   "outputs": [],
   "source": [
    "# Term-Structure Handle Objects\n",
    "r_thd = ql.YieldTermStructureHandle(r_ts)\n",
    "d_thd = ql.YieldTermStructureHandle(d_ts)\n",
    "v_thd = ql.BlackVolTermStructureHandle(v_ts)"
   ]
  },
  {
   "cell_type": "code",
   "execution_count": 7,
   "id": "08cde287",
   "metadata": {},
   "outputs": [],
   "source": [
    "# Process & Engine\n",
    "process = ql.BlackScholesMertonProcess(u_qhd, d_thd, r_thd, v_thd)\n",
    "engine = ql.AnalyticEuropeanEngine(process)"
   ]
  },
  {
   "cell_type": "code",
   "execution_count": 8,
   "id": "0c8fb1f1",
   "metadata": {},
   "outputs": [],
   "source": [
    "# Option Objects\n",
    "option_type = ql.Option.Call\n",
    "strikePrice = 272\n",
    "expiryDate = ql.Date(12, 12, 2019)\n",
    "exercise = ql.EuropeanExercise(expiryDate)\n",
    "payoff = ql.PlainVanillaPayoff(option_type, strikePrice)\n",
    "option = ql.VanillaOption(payoff, exercise)\n"
   ]
  },
  {
   "cell_type": "code",
   "execution_count": 9,
   "id": "b91c2755",
   "metadata": {},
   "outputs": [],
   "source": [
    "# Pricing\n",
    "option.setPricingEngine(engine)"
   ]
  },
  {
   "cell_type": "code",
   "execution_count": 10,
   "id": "53c2b743",
   "metadata": {},
   "outputs": [
    {
     "name": "stdout",
     "output_type": "stream",
     "text": [
      "Option Premium =  9.78\n",
      "Option Delta =  0.5154\n",
      "Option Gamma =  0.0161\n",
      "Option Theta =  -0.0309\n",
      "Option Vega =  0.7583\n",
      "Option Rho =  0.641\n"
     ]
    }
   ],
   "source": [
    "# Price & Greeks Results\n",
    "print('Option Premium = ', round(option.NPV(), 2)) # option premium\n",
    "print('Option Delta = ', round(option.delta(), 4)) # delta\n",
    "print('Option Gamma = ', round(option.gamma(), 4)) # gamma\n",
    "print('Option Theta = ', round(option.thetaPerDay(), 4)) # theta\n",
    "print('Option Vega = ', round(option.vega() / 100, 4)) # vega\n",
    "print('Option Rho = ', round(option.rho() / 100, 4)) # rho"
   ]
  },
  {
   "cell_type": "code",
   "execution_count": 11,
   "id": "b256d0a0",
   "metadata": {},
   "outputs": [
    {
     "name": "stdout",
     "output_type": "stream",
     "text": [
      "Option Premium =  12.27\n",
      "Option Delta =  0.587\n",
      "Option Gamma =  0.0155\n",
      "Option Theta =  -0.0312\n",
      "Option Vega =  0.7531\n",
      "Option Rho =  0.7376\n"
     ]
    }
   ],
   "source": [
    "# Automatic Re-Pricing\n",
    "underlying_qt.setValue(275)\n",
    "print('Option Premium = ', round(option.NPV(), 2)) # option premium\n",
    "print('Option Delta = ', round(option.delta(), 4)) # delta\n",
    "print('Option Gamma = ', round(option.gamma(), 4)) # gamma\n",
    "print('Option Theta = ', round(option.thetaPerDay(), 4)) # theta\n",
    "print('Option Vega = ', round(option.vega() / 100, 4)) # vega\n",
    "print('Option Rho = ', round(option.rho() / 100, 4)) # rho"
   ]
  },
  {
   "cell_type": "code",
   "execution_count": 12,
   "id": "3aca7e27",
   "metadata": {},
   "outputs": [
    {
     "name": "stdout",
     "output_type": "stream",
     "text": [
      "Option Premium =  8.21\n",
      "Option Delta =  0.6278\n",
      "Option Gamma =  0.0259\n",
      "Option Theta =  -0.0198\n",
      "Option Vega =  0.7316\n",
      "Option Rho =  0.8132\n"
     ]
    }
   ],
   "source": [
    "# Implied Volatility\n",
    "mkt_price = 8.21\n",
    "implied_volatility = option.impliedVolatility(mkt_price, process)\n",
    "volatility_qt.setValue(implied_volatility)\n",
    "print('Option Premium = ', round(option.NPV(), 2)) # option premium\n",
    "print('Option Delta = ', round(option.delta(), 4)) # delta\n",
    "print('Option Gamma = ', round(option.gamma(), 4)) # gamma\n",
    "print('Option Theta = ', round(option.thetaPerDay(), 4)) # theta\n",
    "print('Option Vega = ', round(option.vega() / 100, 4)) # vega\n",
    "print('Option Rho = ', round(option.rho() / 100, 4)) # rho"
   ]
  },
  {
   "cell_type": "code",
   "execution_count": null,
   "id": "51482ded",
   "metadata": {},
   "outputs": [],
   "source": []
  },
  {
   "cell_type": "code",
   "execution_count": null,
   "id": "c45ad0a8",
   "metadata": {},
   "outputs": [],
   "source": []
  }
 ],
 "metadata": {
  "kernelspec": {
   "display_name": "pyfolio",
   "language": "python",
   "name": "pyfolio"
  },
  "language_info": {
   "codemirror_mode": {
    "name": "ipython",
    "version": 3
   },
   "file_extension": ".py",
   "mimetype": "text/x-python",
   "name": "python",
   "nbconvert_exporter": "python",
   "pygments_lexer": "ipython3",
   "version": "3.9.12"
  }
 },
 "nbformat": 4,
 "nbformat_minor": 5
}
