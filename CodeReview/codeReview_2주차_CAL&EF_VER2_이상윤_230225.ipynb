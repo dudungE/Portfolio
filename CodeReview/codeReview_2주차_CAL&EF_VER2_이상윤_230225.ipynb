{
 "cells": [
  {
   "cell_type": "markdown",
   "metadata": {
    "id": "jfUDWxH3YEvj"
   },
   "source": [
    "Import modules"
   ]
  },
  {
   "cell_type": "code",
   "execution_count": null,
   "metadata": {
    "colab": {
     "base_uri": "https://localhost:8080/",
     "height": 705
    },
    "id": "RJPCDXgfSdsk",
    "outputId": "c4b55c94-f73f-41f2-8362-c7d556b596bd"
   },
   "outputs": [],
   "source": [
    "# CoLab\n",
    "\n",
    "# 데이터 처리, 선형대수, 행렬 등 연산 모듈\n",
    "import numpy as np\n",
    "import pandas as pd\n",
    "import scipy.stats\n",
    "import random\n",
    "import time\n",
    "from typing import *\n",
    "\n",
    "# 시각화 모듈\n",
    "import matplotlib.pyplot as plt\n",
    "%matplotlib inline\n",
    "\n",
    "# 한국거래소 증권 데이터 스크래핑 모듈\n",
    "# !pip install pykrx\n",
    "# !pip install finance-datareader\n",
    "from pykrx import stock as stock\n",
    "# import FinanceDataReader as fdr\n",
    "\n",
    "# 한글 폰트 사용을 위해서 세팅\n",
    "\n",
    "from matplotlib import font_manager, rc\n",
    "font_path = r\"/content/drive/MyDrive/Colab Notebooks/korean.ttf\"\n",
    "  # 오류가 발생한다면, 경로를 \"/content/drive/FindAlpha_RiskyAsset1/archive/korean.ttf\"로 설정\n",
    "  # 혹은 로컬 폰트 경로인 \"C:\\\\WINDOWS\\FONTS\\malgun.ttf\"로 설정\n",
    "font = font_manager.FontProperties(fname = font_path).get_name()\n",
    "rc(\"font\", family = font)"
   ]
  },
  {
   "cell_type": "code",
   "execution_count": 27,
   "metadata": {},
   "outputs": [],
   "source": [
    "# local\n",
    "import numpy as np\n",
    "import pandas as pd\n",
    "import scipy.stats\n",
    "import random\n",
    "import time\n",
    "from typing import *\n",
    "import matplotlib.pyplot as plt\n",
    "%matplotlib inline\n",
    "from pykrx import stock\n",
    "\n",
    "# 한글 폰트 사용을 위해서 세팅\n",
    "from matplotlib import font_manager, rc\n",
    "font_path = \"C:/Windows/Fonts/NGULIM.TTF\"\n",
    "font = font_manager.FontProperties(fname=font_path).get_name()\n",
    "rc('font', family=font)"
   ]
  },
  {
   "cell_type": "markdown",
   "metadata": {
    "id": "YaCWkVF5YIWw"
   },
   "source": [
    "# Data import"
   ]
  },
  {
   "cell_type": "code",
   "execution_count": 28,
   "metadata": {
    "id": "ox1FDS6TSWNr"
   },
   "outputs": [],
   "source": [
    "from_date = \"2012-01-01\"\n",
    "to_date = \"2022-12-31\"\n",
    "html = \"http://kind.krx.co.kr/corpgeneral/corpList.do?method=download\"\n",
    "stock1 = \"삼성전자\"\n",
    "stock2 = \"카카오\""
   ]
  },
  {
   "cell_type": "code",
   "execution_count": 29,
   "metadata": {
    "colab": {
     "base_uri": "https://localhost:8080/",
     "height": 354
    },
    "id": "9pCYCiu6Smmp",
    "outputId": "8135d80b-67b2-49c3-9754-849065ecdc99"
   },
   "outputs": [
    {
     "data": {
      "text/html": [
       "<div>\n",
       "<style scoped>\n",
       "    .dataframe tbody tr th:only-of-type {\n",
       "        vertical-align: middle;\n",
       "    }\n",
       "\n",
       "    .dataframe tbody tr th {\n",
       "        vertical-align: top;\n",
       "    }\n",
       "\n",
       "    .dataframe thead th {\n",
       "        text-align: right;\n",
       "    }\n",
       "</style>\n",
       "<table border=\"1\" class=\"dataframe\">\n",
       "  <thead>\n",
       "    <tr style=\"text-align: right;\">\n",
       "      <th></th>\n",
       "      <th>회사명</th>\n",
       "      <th>종목코드</th>\n",
       "      <th>업종</th>\n",
       "      <th>주요제품</th>\n",
       "      <th>상장일</th>\n",
       "      <th>결산월</th>\n",
       "      <th>대표자명</th>\n",
       "      <th>홈페이지</th>\n",
       "      <th>지역</th>\n",
       "    </tr>\n",
       "  </thead>\n",
       "  <tbody>\n",
       "    <tr>\n",
       "      <th>0</th>\n",
       "      <td>DRB동일</td>\n",
       "      <td>4840</td>\n",
       "      <td>고무제품 제조업</td>\n",
       "      <td>고무벨트(V벨트,콘베이어벨트,평벨트),프라스틱제품 제조,판매</td>\n",
       "      <td>1976-05-21</td>\n",
       "      <td>12월</td>\n",
       "      <td>류영식</td>\n",
       "      <td>http://drbworld.com</td>\n",
       "      <td>부산광역시</td>\n",
       "    </tr>\n",
       "    <tr>\n",
       "      <th>1</th>\n",
       "      <td>DSR</td>\n",
       "      <td>155660</td>\n",
       "      <td>1차 비철금속 제조업</td>\n",
       "      <td>합섬섬유로프</td>\n",
       "      <td>2013-05-15</td>\n",
       "      <td>12월</td>\n",
       "      <td>홍석빈</td>\n",
       "      <td>http://www.dsr.com</td>\n",
       "      <td>부산광역시</td>\n",
       "    </tr>\n",
       "    <tr>\n",
       "      <th>2</th>\n",
       "      <td>GS</td>\n",
       "      <td>78930</td>\n",
       "      <td>기타 금융업</td>\n",
       "      <td>지주회사/부동산 임대</td>\n",
       "      <td>2004-08-05</td>\n",
       "      <td>12월</td>\n",
       "      <td>허태수, 홍순기 (각자 대표이사)</td>\n",
       "      <td>NaN</td>\n",
       "      <td>서울특별시</td>\n",
       "    </tr>\n",
       "    <tr>\n",
       "      <th>3</th>\n",
       "      <td>HDC현대산업개발</td>\n",
       "      <td>294870</td>\n",
       "      <td>건물 건설업</td>\n",
       "      <td>외주주택, 자체공사, 일반건축, 토목 등</td>\n",
       "      <td>2018-06-12</td>\n",
       "      <td>12월</td>\n",
       "      <td>최익훈, 정익희, 김회언 (각자 대표이사)</td>\n",
       "      <td>http://www.hdc-dvp.com</td>\n",
       "      <td>서울특별시</td>\n",
       "    </tr>\n",
       "    <tr>\n",
       "      <th>4</th>\n",
       "      <td>KG케미칼</td>\n",
       "      <td>1390</td>\n",
       "      <td>기초 화학물질 제조업</td>\n",
       "      <td>콘크리트혼화제, 비료, 친환경농자재, 수처리제</td>\n",
       "      <td>1989-08-25</td>\n",
       "      <td>12월</td>\n",
       "      <td>곽정현, 김재익</td>\n",
       "      <td>http://www.kgchem.co.kr</td>\n",
       "      <td>울산광역시</td>\n",
       "    </tr>\n",
       "  </tbody>\n",
       "</table>\n",
       "</div>"
      ],
      "text/plain": [
       "         회사명    종목코드           업종                               주요제품  \\\n",
       "0      DRB동일    4840     고무제품 제조업  고무벨트(V벨트,콘베이어벨트,평벨트),프라스틱제품 제조,판매   \n",
       "1        DSR  155660  1차 비철금속 제조업                             합섬섬유로프   \n",
       "2         GS   78930       기타 금융업                        지주회사/부동산 임대   \n",
       "3  HDC현대산업개발  294870       건물 건설업             외주주택, 자체공사, 일반건축, 토목 등   \n",
       "4      KG케미칼    1390  기초 화학물질 제조업          콘크리트혼화제, 비료, 친환경농자재, 수처리제   \n",
       "\n",
       "          상장일  결산월                     대표자명                     홈페이지     지역  \n",
       "0  1976-05-21  12월                      류영식      http://drbworld.com  부산광역시  \n",
       "1  2013-05-15  12월                      홍석빈       http://www.dsr.com  부산광역시  \n",
       "2  2004-08-05  12월       허태수, 홍순기 (각자 대표이사)                      NaN  서울특별시  \n",
       "3  2018-06-12  12월  최익훈, 정익희, 김회언 (각자 대표이사)   http://www.hdc-dvp.com  서울특별시  \n",
       "4  1989-08-25  12월                 곽정현, 김재익  http://www.kgchem.co.kr  울산광역시  "
      ]
     },
     "execution_count": 29,
     "metadata": {},
     "output_type": "execute_result"
    }
   ],
   "source": [
    "stock_code = pd.read_html(html, header = 0)[0] # html로 부터 모든 종목들의 회사명, 코드, 업종 등 데이터 가져오기기\n",
    "stock_code.head()"
   ]
  },
  {
   "cell_type": "code",
   "execution_count": 30,
   "metadata": {
    "colab": {
     "base_uri": "https://localhost:8080/",
     "height": 206
    },
    "id": "m4lPp6gdTfNF",
    "outputId": "f5024019-724b-4532-ee59-1c017129737f"
   },
   "outputs": [
    {
     "data": {
      "text/html": [
       "<div>\n",
       "<style scoped>\n",
       "    .dataframe tbody tr th:only-of-type {\n",
       "        vertical-align: middle;\n",
       "    }\n",
       "\n",
       "    .dataframe tbody tr th {\n",
       "        vertical-align: top;\n",
       "    }\n",
       "\n",
       "    .dataframe thead th {\n",
       "        text-align: right;\n",
       "    }\n",
       "</style>\n",
       "<table border=\"1\" class=\"dataframe\">\n",
       "  <thead>\n",
       "    <tr style=\"text-align: right;\">\n",
       "      <th></th>\n",
       "      <th>종목코드</th>\n",
       "      <th>회사명</th>\n",
       "    </tr>\n",
       "  </thead>\n",
       "  <tbody>\n",
       "    <tr>\n",
       "      <th>0</th>\n",
       "      <td>4840</td>\n",
       "      <td>DRB동일</td>\n",
       "    </tr>\n",
       "    <tr>\n",
       "      <th>1</th>\n",
       "      <td>155660</td>\n",
       "      <td>DSR</td>\n",
       "    </tr>\n",
       "    <tr>\n",
       "      <th>2</th>\n",
       "      <td>78930</td>\n",
       "      <td>GS</td>\n",
       "    </tr>\n",
       "    <tr>\n",
       "      <th>3</th>\n",
       "      <td>294870</td>\n",
       "      <td>HDC현대산업개발</td>\n",
       "    </tr>\n",
       "    <tr>\n",
       "      <th>4</th>\n",
       "      <td>1390</td>\n",
       "      <td>KG케미칼</td>\n",
       "    </tr>\n",
       "  </tbody>\n",
       "</table>\n",
       "</div>"
      ],
      "text/plain": [
       "     종목코드        회사명\n",
       "0    4840      DRB동일\n",
       "1  155660        DSR\n",
       "2   78930         GS\n",
       "3  294870  HDC현대산업개발\n",
       "4    1390      KG케미칼"
      ]
     },
     "execution_count": 30,
     "metadata": {},
     "output_type": "execute_result"
    }
   ],
   "source": [
    "stock_code = stock_code[[\"종목코드\", \"회사명\"]] # 위 데이터에서 종목코드, 회사명만 불러오기기\n",
    "stock_code.head()"
   ]
  },
  {
   "cell_type": "code",
   "execution_count": 31,
   "metadata": {
    "colab": {
     "base_uri": "https://localhost:8080/",
     "height": 206
    },
    "id": "I-hjRjYuTmIH",
    "outputId": "782fe4ed-ab43-4e9d-89b2-b95930353b42"
   },
   "outputs": [
    {
     "data": {
      "text/html": [
       "<div>\n",
       "<style scoped>\n",
       "    .dataframe tbody tr th:only-of-type {\n",
       "        vertical-align: middle;\n",
       "    }\n",
       "\n",
       "    .dataframe tbody tr th {\n",
       "        vertical-align: top;\n",
       "    }\n",
       "\n",
       "    .dataframe thead th {\n",
       "        text-align: right;\n",
       "    }\n",
       "</style>\n",
       "<table border=\"1\" class=\"dataframe\">\n",
       "  <thead>\n",
       "    <tr style=\"text-align: right;\">\n",
       "      <th></th>\n",
       "      <th>종목코드</th>\n",
       "      <th>회사명</th>\n",
       "    </tr>\n",
       "  </thead>\n",
       "  <tbody>\n",
       "    <tr>\n",
       "      <th>0</th>\n",
       "      <td>004840</td>\n",
       "      <td>DRB동일</td>\n",
       "    </tr>\n",
       "    <tr>\n",
       "      <th>1</th>\n",
       "      <td>155660</td>\n",
       "      <td>DSR</td>\n",
       "    </tr>\n",
       "    <tr>\n",
       "      <th>2</th>\n",
       "      <td>078930</td>\n",
       "      <td>GS</td>\n",
       "    </tr>\n",
       "    <tr>\n",
       "      <th>3</th>\n",
       "      <td>294870</td>\n",
       "      <td>HDC현대산업개발</td>\n",
       "    </tr>\n",
       "    <tr>\n",
       "      <th>4</th>\n",
       "      <td>001390</td>\n",
       "      <td>KG케미칼</td>\n",
       "    </tr>\n",
       "  </tbody>\n",
       "</table>\n",
       "</div>"
      ],
      "text/plain": [
       "     종목코드        회사명\n",
       "0  004840      DRB동일\n",
       "1  155660        DSR\n",
       "2  078930         GS\n",
       "3  294870  HDC현대산업개발\n",
       "4  001390      KG케미칼"
      ]
     },
     "execution_count": 31,
     "metadata": {},
     "output_type": "execute_result"
    }
   ],
   "source": [
    "stock_code[\"종목코드\"] = stock_code[\"종목코드\"].apply(\n",
    "    lambda x: \"0\"*(6 - len(str(x))) + str(x)) \n",
    "\n",
    "# 종목 코드 앞에 0으로 채워넣어 6자리로 맞춰주는 함수 적용\n",
    "\n",
    "stock_code.head()"
   ]
  },
  {
   "cell_type": "code",
   "execution_count": 33,
   "metadata": {
    "colab": {
     "base_uri": "https://localhost:8080/"
    },
    "id": "pSXl9e5eUChf",
    "outputId": "3913b9d9-4156-404a-eb96-b2e79e7c3d14"
   },
   "outputs": [
    {
     "name": "stdout",
     "output_type": "stream",
     "text": [
      "005930 035720\n"
     ]
    }
   ],
   "source": [
    "for stk in [stock1, stock2]:  \n",
    "  globals()[\"index_{}\".format(stk)] =  stock_code[stock_code[\"회사명\"] == stk].index[0]\n",
    "\n",
    "  globals()[\"code_{}\".format(stk)] = stock_code.iloc[globals()[\"index_{}\".format(stk)], 0]\n",
    "\n",
    "print(code_삼성전자, code_카카오)\n",
    "\n",
    "# stock1과 stock2의 index와 index활용하여 code 뽑아오기(stock_code DataFrame으로 부터)"
   ]
  },
  {
   "cell_type": "code",
   "execution_count": 32,
   "metadata": {
    "id": "KS-wgbAHSYF0"
   },
   "outputs": [],
   "source": [
    "stock1_price = stock.get_market_ohlcv(fromdate = \"2012-01-01\", todate = \"2022-12-31\", ticker = \"005930\", freq = \"y\")\n",
    "stock2_price = stock.get_market_ohlcv(fromdate = \"2012-01-01\", todate = \"2022-12-31\", ticker = \"035720\", freq = \"y\")\n",
    "\n",
    "# stock1과 stock2의 price data import"
   ]
  },
  {
   "cell_type": "code",
   "execution_count": 34,
   "metadata": {
    "colab": {
     "base_uri": "https://localhost:8080/",
     "height": 237
    },
    "id": "fkwXG740XfBJ",
    "outputId": "f7261696-ac1a-49a9-ede2-8648c43f8e09"
   },
   "outputs": [
    {
     "data": {
      "text/html": [
       "<div>\n",
       "<style scoped>\n",
       "    .dataframe tbody tr th:only-of-type {\n",
       "        vertical-align: middle;\n",
       "    }\n",
       "\n",
       "    .dataframe tbody tr th {\n",
       "        vertical-align: top;\n",
       "    }\n",
       "\n",
       "    .dataframe thead th {\n",
       "        text-align: right;\n",
       "    }\n",
       "</style>\n",
       "<table border=\"1\" class=\"dataframe\">\n",
       "  <thead>\n",
       "    <tr style=\"text-align: right;\">\n",
       "      <th></th>\n",
       "      <th>시가</th>\n",
       "      <th>고가</th>\n",
       "      <th>저가</th>\n",
       "      <th>종가</th>\n",
       "      <th>거래량</th>\n",
       "    </tr>\n",
       "    <tr>\n",
       "      <th>날짜</th>\n",
       "      <th></th>\n",
       "      <th></th>\n",
       "      <th></th>\n",
       "      <th></th>\n",
       "      <th></th>\n",
       "    </tr>\n",
       "  </thead>\n",
       "  <tbody>\n",
       "    <tr>\n",
       "      <th>2012-12-31</th>\n",
       "      <td>21400</td>\n",
       "      <td>30720</td>\n",
       "      <td>20220</td>\n",
       "      <td>30440</td>\n",
       "      <td>80370259.0</td>\n",
       "    </tr>\n",
       "    <tr>\n",
       "      <th>2013-12-31</th>\n",
       "      <td>30660</td>\n",
       "      <td>31680</td>\n",
       "      <td>24180</td>\n",
       "      <td>27440</td>\n",
       "      <td>63653314.0</td>\n",
       "    </tr>\n",
       "    <tr>\n",
       "      <th>2014-12-31</th>\n",
       "      <td>26960</td>\n",
       "      <td>29900</td>\n",
       "      <td>21560</td>\n",
       "      <td>26540</td>\n",
       "      <td>61188531.0</td>\n",
       "    </tr>\n",
       "    <tr>\n",
       "      <th>2015-12-31</th>\n",
       "      <td>26800</td>\n",
       "      <td>30200</td>\n",
       "      <td>20660</td>\n",
       "      <td>25200</td>\n",
       "      <td>59410465.0</td>\n",
       "    </tr>\n",
       "    <tr>\n",
       "      <th>2016-12-31</th>\n",
       "      <td>25200</td>\n",
       "      <td>36600</td>\n",
       "      <td>21760</td>\n",
       "      <td>36040</td>\n",
       "      <td>59482677.0</td>\n",
       "    </tr>\n",
       "  </tbody>\n",
       "</table>\n",
       "</div>"
      ],
      "text/plain": [
       "               시가     고가     저가     종가         거래량\n",
       "날짜                                                \n",
       "2012-12-31  21400  30720  20220  30440  80370259.0\n",
       "2013-12-31  30660  31680  24180  27440  63653314.0\n",
       "2014-12-31  26960  29900  21560  26540  61188531.0\n",
       "2015-12-31  26800  30200  20660  25200  59410465.0\n",
       "2016-12-31  25200  36600  21760  36040  59482677.0"
      ]
     },
     "execution_count": 34,
     "metadata": {},
     "output_type": "execute_result"
    }
   ],
   "source": [
    "stock1_price.head()"
   ]
  },
  {
   "cell_type": "code",
   "execution_count": 35,
   "metadata": {
    "colab": {
     "base_uri": "https://localhost:8080/"
    },
    "id": "sinniyN3YSAd",
    "outputId": "764f363d-1256-4f27-f367-65086f5aacc9"
   },
   "outputs": [
    {
     "data": {
      "text/plain": [
       "날짜\n",
       "2012-12-31    1.000000\n",
       "2013-12-31    0.901445\n",
       "2014-12-31    0.871879\n",
       "2015-12-31    0.827858\n",
       "2016-12-31    1.183968\n",
       "Freq: A-DEC, Name: 종가, dtype: float64"
      ]
     },
     "execution_count": 35,
     "metadata": {},
     "output_type": "execute_result"
    }
   ],
   "source": [
    "stock1_price[\"종가\"] = stock1_price[\"종가\"].apply(lambda p: p / stock1_price[\"종가\"].iloc[0])\n",
    "stock2_price[\"종가\"] = stock2_price[\"종가\"].apply(lambda p: p / stock2_price[\"종가\"].iloc[0])\n",
    "\n",
    "stock1_price[\"종가\"].head()\n",
    "\n",
    "# price data에서 종가만 뽑아오고 첫 데이터를 기준으로 지수화"
   ]
  },
  {
   "cell_type": "code",
   "execution_count": 36,
   "metadata": {
    "colab": {
     "base_uri": "https://localhost:8080/",
     "height": 237
    },
    "id": "lKfdyy0MYR9Y",
    "outputId": "1a53724f-039a-4747-f4ba-037e177c7cde"
   },
   "outputs": [
    {
     "data": {
      "text/html": [
       "<div>\n",
       "<style scoped>\n",
       "    .dataframe tbody tr th:only-of-type {\n",
       "        vertical-align: middle;\n",
       "    }\n",
       "\n",
       "    .dataframe tbody tr th {\n",
       "        vertical-align: top;\n",
       "    }\n",
       "\n",
       "    .dataframe thead th {\n",
       "        text-align: right;\n",
       "    }\n",
       "</style>\n",
       "<table border=\"1\" class=\"dataframe\">\n",
       "  <thead>\n",
       "    <tr style=\"text-align: right;\">\n",
       "      <th></th>\n",
       "      <th>삼성전자</th>\n",
       "      <th>카카오</th>\n",
       "    </tr>\n",
       "    <tr>\n",
       "      <th>날짜</th>\n",
       "      <th></th>\n",
       "      <th></th>\n",
       "    </tr>\n",
       "  </thead>\n",
       "  <tbody>\n",
       "    <tr>\n",
       "      <th>2012-12-31</th>\n",
       "      <td>1.000000</td>\n",
       "      <td>1.000000</td>\n",
       "    </tr>\n",
       "    <tr>\n",
       "      <th>2013-12-31</th>\n",
       "      <td>0.901445</td>\n",
       "      <td>0.922101</td>\n",
       "    </tr>\n",
       "    <tr>\n",
       "      <th>2014-12-31</th>\n",
       "      <td>0.871879</td>\n",
       "      <td>1.356758</td>\n",
       "    </tr>\n",
       "    <tr>\n",
       "      <th>2015-12-31</th>\n",
       "      <td>0.827858</td>\n",
       "      <td>1.271177</td>\n",
       "    </tr>\n",
       "    <tr>\n",
       "      <th>2016-12-31</th>\n",
       "      <td>1.183968</td>\n",
       "      <td>0.845236</td>\n",
       "    </tr>\n",
       "  </tbody>\n",
       "</table>\n",
       "</div>"
      ],
      "text/plain": [
       "                삼성전자       카카오\n",
       "날짜                            \n",
       "2012-12-31  1.000000  1.000000\n",
       "2013-12-31  0.901445  0.922101\n",
       "2014-12-31  0.871879  1.356758\n",
       "2015-12-31  0.827858  1.271177\n",
       "2016-12-31  1.183968  0.845236"
      ]
     },
     "execution_count": 36,
     "metadata": {},
     "output_type": "execute_result"
    }
   ],
   "source": [
    "normalized_df = pd.DataFrame()\n",
    "normalized_df[stock1] = stock1_price[\"종가\"]\n",
    "normalized_df[stock2] = stock2_price[\"종가\"]\n",
    "\n",
    "normalized_df.head()\n",
    "\n",
    "# 지수화된 DataFrame 생성 완료"
   ]
  },
  {
   "cell_type": "code",
   "execution_count": 37,
   "metadata": {
    "colab": {
     "base_uri": "https://localhost:8080/"
    },
    "id": "YaH4O0kubFgq",
    "outputId": "595fc612-aba9-49db-9a6e-620fa829bfe8"
   },
   "outputs": [
    {
     "name": "stdout",
     "output_type": "stream",
     "text": [
      "2012-01-01부터 2022-12-31까지 삼성전자의 기대수익률은  0.0988\n",
      "2012-01-01부터 2022-12-31까지 카카오의 기대수익률은  0.2458\n"
     ]
    }
   ],
   "source": [
    "percented_df = normalized_df.pct_change().dropna() # normalized_df를 수익률로 변환\n",
    "\n",
    "for stocks in [stock1, stock2]:\n",
    "  print(f\"{from_date}부터 {to_date}까지 {stocks}의 기대수익률은 {percented_df[stocks].mean(): .4f}\")\n",
    "expected_return_stock1 = percented_df[stock1].mean()\n",
    "expected_return_stock2 = percented_df[stock2].mean()"
   ]
  },
  {
   "cell_type": "code",
   "execution_count": 38,
   "metadata": {
    "colab": {
     "base_uri": "https://localhost:8080/",
     "height": 112
    },
    "id": "t04m5SdgSYD-",
    "outputId": "98141501-645e-4f33-f3de-c3acedfa112c"
   },
   "outputs": [
    {
     "data": {
      "text/html": [
       "<div>\n",
       "<style scoped>\n",
       "    .dataframe tbody tr th:only-of-type {\n",
       "        vertical-align: middle;\n",
       "    }\n",
       "\n",
       "    .dataframe tbody tr th {\n",
       "        vertical-align: top;\n",
       "    }\n",
       "\n",
       "    .dataframe thead th {\n",
       "        text-align: right;\n",
       "    }\n",
       "</style>\n",
       "<table border=\"1\" class=\"dataframe\">\n",
       "  <thead>\n",
       "    <tr style=\"text-align: right;\">\n",
       "      <th></th>\n",
       "      <th>삼성전자</th>\n",
       "      <th>카카오</th>\n",
       "    </tr>\n",
       "  </thead>\n",
       "  <tbody>\n",
       "    <tr>\n",
       "      <th>삼성전자</th>\n",
       "      <td>1.000000</td>\n",
       "      <td>0.617009</td>\n",
       "    </tr>\n",
       "    <tr>\n",
       "      <th>카카오</th>\n",
       "      <td>0.617009</td>\n",
       "      <td>1.000000</td>\n",
       "    </tr>\n",
       "  </tbody>\n",
       "</table>\n",
       "</div>"
      ],
      "text/plain": [
       "          삼성전자       카카오\n",
       "삼성전자  1.000000  0.617009\n",
       "카카오   0.617009  1.000000"
      ]
     },
     "execution_count": 38,
     "metadata": {},
     "output_type": "execute_result"
    }
   ],
   "source": [
    "# 공분산 행렬\n",
    "covariance_matrix = np.cov([percented_df[stock1], percented_df[stock2]])\n",
    "covariance_df = pd.DataFrame(data = covariance_matrix, columns = [stock1, stock2], index = [stock1, stock2])\n",
    "\n",
    "# 상관계수 행렬(공분산을 표본표준편차로 나누어 정규화한 값)\n",
    "coefficient_df = pd.DataFrame(data = np.corrcoef([percented_df[stock1], percented_df[stock2]]),\n",
    "                              columns = [stock1, stock2],\n",
    "                              index = [stock1, stock2])\n",
    "\n",
    "coefficient_df "
   ]
  },
  {
   "cell_type": "code",
   "execution_count": 39,
   "metadata": {
    "colab": {
     "base_uri": "https://localhost:8080/",
     "height": 112
    },
    "id": "wZA1Fy1dar4M",
    "outputId": "118af522-c091-4d2f-ed04-f683c2f86a78"
   },
   "outputs": [
    {
     "data": {
      "text/html": [
       "<div>\n",
       "<style scoped>\n",
       "    .dataframe tbody tr th:only-of-type {\n",
       "        vertical-align: middle;\n",
       "    }\n",
       "\n",
       "    .dataframe tbody tr th {\n",
       "        vertical-align: top;\n",
       "    }\n",
       "\n",
       "    .dataframe thead th {\n",
       "        text-align: right;\n",
       "    }\n",
       "</style>\n",
       "<table border=\"1\" class=\"dataframe\">\n",
       "  <thead>\n",
       "    <tr style=\"text-align: right;\">\n",
       "      <th></th>\n",
       "      <th>삼성전자</th>\n",
       "      <th>카카오</th>\n",
       "    </tr>\n",
       "  </thead>\n",
       "  <tbody>\n",
       "    <tr>\n",
       "      <th>삼성전자</th>\n",
       "      <td>1.000000</td>\n",
       "      <td>0.617009</td>\n",
       "    </tr>\n",
       "    <tr>\n",
       "      <th>카카오</th>\n",
       "      <td>0.617009</td>\n",
       "      <td>1.000000</td>\n",
       "    </tr>\n",
       "  </tbody>\n",
       "</table>\n",
       "</div>"
      ],
      "text/plain": [
       "          삼성전자       카카오\n",
       "삼성전자  1.000000  0.617009\n",
       "카카오   0.617009  1.000000"
      ]
     },
     "execution_count": 39,
     "metadata": {},
     "output_type": "execute_result"
    }
   ],
   "source": [
    "coefficient_df = percented_df.corr()\n",
    "coefficient_df\n",
    "\n",
    "# DataFrame의 corr() 메서드 사용한 것과 동일함"
   ]
  },
  {
   "cell_type": "code",
   "execution_count": 40,
   "metadata": {
    "colab": {
     "base_uri": "https://localhost:8080/"
    },
    "id": "LbkfuIdRbt5z",
    "outputId": "e3f859c1-ebc4-49bb-ecd6-9ed8ee930161"
   },
   "outputs": [
    {
     "data": {
      "text/plain": [
       "0.6212764634410827"
      ]
     },
     "execution_count": 40,
     "metadata": {},
     "output_type": "execute_result"
    }
   ],
   "source": [
    "covariance_matrix[1,1] ** 0.5"
   ]
  },
  {
   "cell_type": "code",
   "execution_count": 41,
   "metadata": {
    "colab": {
     "base_uri": "https://localhost:8080/"
    },
    "id": "iqQR4i4XSYBU",
    "outputId": "aa18d382-5e49-4a3a-905f-6565988cc9fc"
   },
   "outputs": [
    {
     "name": "stdout",
     "output_type": "stream",
     "text": [
      "2012-01-01부터 2022-12-31까지 삼성전자의 표준편차는  0.3012\n",
      "2012-01-01부터 2022-12-31까지 카카오의 표준편차는  0.6213\n",
      "삼성전자과 카카오의 공분산은  0.1155\n",
      "\n",
      "[공분산 행렬]\n",
      "           삼성전자       카카오\n",
      "삼성전자  0.090732  0.115467\n",
      "카카오   0.115467  0.385984\n",
      "\n",
      "[상관계수 행렬]\n",
      "           삼성전자       카카오\n",
      "삼성전자  1.000000  0.617009\n",
      "카카오   0.617009  1.000000\n"
     ]
    }
   ],
   "source": [
    "# 표준편차\n",
    "i: int = 0\n",
    "for stocks in [stock1, stock2]:\n",
    "  print(f\"{from_date}부터 {to_date}까지 {stocks}의 표준편차는 {covariance_matrix[i][i]**(0.5): .4f}\")\n",
    "  i += 1\n",
    "\n",
    "# 공분산\n",
    "print(f\"{stock1}과 {stock2}의 공분산은 {covariance_matrix[0][1]: .4f}\")\n",
    "\n",
    "print(\"\\n[공분산 행렬]\\n\", covariance_df)\n",
    "print(\"\\n[상관계수 행렬]\\n\", coefficient_df)"
   ]
  },
  {
   "cell_type": "markdown",
   "metadata": {
    "id": "EkYY4nrddEtn"
   },
   "source": [
    "# 포트폴리오"
   ]
  },
  {
   "cell_type": "code",
   "execution_count": 171,
   "metadata": {
    "colab": {
     "base_uri": "https://localhost:8080/"
    },
    "id": "QLwCbFR4cz4O",
    "outputId": "726623c7-023a-4563-b146-31d089c9a718"
   },
   "outputs": [
    {
     "name": "stdout",
     "output_type": "stream",
     "text": [
      "삼성전자과 카카오가 0.5:0.5로 구성된 포트폴리오 수익률은  0.1723\n",
      "삼성전자과 카카오가 0.5:0.5로 구성된 포트폴리오의 분산은  0.4757\n",
      "삼성전자과 카카오가 0.5:0.5로 구성된 포트폴리오의 표준편차는  0.6897\n",
      "삼성전자과 카카오가 0.5:0.5로 포트폴리오의 샤프비율은  0.2208\n"
     ]
    }
   ],
   "source": [
    "weight = 0.5\n",
    "ratio = 0.02 # risk free\n",
    "\n",
    "# 동일 가중치 weight 설정\n",
    "weight_1 = weight\n",
    "weight_2 = 1 - weight_1\n",
    "\n",
    "portfolio_expected_return = (weight_1 * expected_return_stock1) + (weight_2 * expected_return_stock2)\n",
    "print(f\"{stock1}과 {stock2}가 {weight_1}:{weight_2}로 구성된 포트폴리오 수익률은 {portfolio_expected_return: .4f}\")\n",
    "portfolio_expected_return = portfolio_expected_return\n",
    "\n",
    "# 포트폴리오 분산\n",
    "portfolio_variance = (weight_1**2 * (covariance_matrix[0][0]**0.5)*2) \\\n",
    "  + (weight_2**2 * (covariance_matrix[1][1]**0.5)*2) + (2 * weight_1**2 * weight_2**2 * covariance_matrix[0][1])\n",
    "print(f\"{stock1}과 {stock2}가 {weight_1}:{weight_2}로 구성된 포트폴리오의 분산은 {portfolio_variance: .4f}\")\n",
    "\n",
    "\n",
    "# 포트폴리오 표준편차\n",
    "portfolio_sigma = portfolio_variance**(0.5)\n",
    "print(f\"{stock1}과 {stock2}가 {weight_1}:{weight_2}로 구성된 포트폴리오의 표준편차는 {portfolio_sigma: .4f}\")\n",
    "portfolio_sigma = portfolio_sigma\n",
    "\n",
    "\n",
    "# 포트폴리오의 샤프비율\n",
    "risk_free = ratio\n",
    "# 무위험수익률 2%(input ratio) 가정\n",
    "sharpe_ratio = (portfolio_expected_return - risk_free) / portfolio_sigma\n",
    "print(f\"{stock1}과 {stock2}가 {weight_1}:{weight_2}로 포트폴리오의 샤프비율은 {sharpe_ratio: .4f}\")"
   ]
  },
  {
   "cell_type": "markdown",
   "metadata": {
    "id": "VLaAK5sKeeg0"
   },
   "source": [
    "### visualizing CAL\n",
    "$$E(r_c) = w_pE(r_p) + w_fE(r_f)$$\n",
    "$$Var(c) = w_p^2σ_p^2$$"
   ]
  },
  {
   "cell_type": "code",
   "execution_count": 172,
   "metadata": {
    "colab": {
     "base_uri": "https://localhost:8080/"
    },
    "id": "bSz5o64ySX-z",
    "outputId": "9e714d52-ecd5-40e0-8f46-17915f343372"
   },
   "outputs": [
    {
     "data": {
      "text/plain": [
       "array([0.02      , 0.02988433, 0.03976866, 0.04965299, 0.05953731,\n",
       "       0.06942164, 0.07930597, 0.0891903 , 0.09907463, 0.10895896,\n",
       "       0.11884329])"
      ]
     },
     "execution_count": 172,
     "metadata": {},
     "output_type": "execute_result"
    }
   ],
   "source": [
    "# 포트폴리오 가중치 리스트 생성\n",
    "weight_serial = np.linspace(0, 1, 11)    # 0부터 1까지 11등분하여 점진적으로 증가\n",
    "\n",
    "# 완성포트폴리오 표준편차 계산\n",
    "weighted_sigma = weight_serial * portfolio_sigma\n",
    "\n",
    "# 완성포트폴리오 기대수익률 계산\n",
    "weighted_return = risk_free + weighted_sigma * (portfolio_expected_return - risk_free/ portfolio_sigma)\n",
    "\n",
    "weighted_return"
   ]
  },
  {
   "cell_type": "code",
   "execution_count": 173,
   "metadata": {
    "colab": {
     "base_uri": "https://localhost:8080/"
    },
    "id": "dcGYgJHwfFh4",
    "outputId": "e9bdf823-566f-4770-9402-5eb0ceb979f7"
   },
   "outputs": [
    {
     "data": {
      "text/plain": [
       "array([0.        , 0.06896959, 0.13793919, 0.20690878, 0.27587838,\n",
       "       0.34484797, 0.41381757, 0.48278716, 0.55175675, 0.62072635,\n",
       "       0.68969594])"
      ]
     },
     "execution_count": 173,
     "metadata": {},
     "output_type": "execute_result"
    }
   ],
   "source": [
    "weighted_sigma"
   ]
  },
  {
   "cell_type": "code",
   "execution_count": 169,
   "metadata": {
    "colab": {
     "base_uri": "https://localhost:8080/"
    },
    "id": "MRrGlcvsfBgW",
    "outputId": "f41d2ef2-0281-48f1-88ec-93e355094ed0"
   },
   "outputs": [
    {
     "data": {
      "text/plain": [
       "array([0.        , 0.06896959, 0.13793919, 0.20690878, 0.27587838,\n",
       "       0.34484797, 0.41381757, 0.48278716, 0.55175675, 0.62072635,\n",
       "       0.68969594])"
      ]
     },
     "execution_count": 169,
     "metadata": {},
     "output_type": "execute_result"
    }
   ],
   "source": [
    "weighted_sigma"
   ]
  },
  {
   "cell_type": "code",
   "execution_count": 167,
   "metadata": {
    "colab": {
     "base_uri": "https://localhost:8080/",
     "height": 305
    },
    "id": "veeldLXRSXqU",
    "outputId": "0f6a71dd-dd8e-4660-e593-95a43cf0a57c"
   },
   "outputs": [
    {
     "data": {
      "image/png": "[encoded data removed]",
      "text/plain": [
       "<Figure size 576x288 with 1 Axes>"
      ]
     },
     "metadata": {
      "needs_background": "light"
     },
     "output_type": "display_data"
    }
   ],
   "source": [
    "# 자본배분/할당선\n",
    "plt.figure(figsize=(8,4))\n",
    "plt.plot(weighted_sigma * 100, weighted_return * 100, \"r\", label = \"CAL\")\n",
    "\n",
    "plt.annotate(\"risky-free asset\", \n",
    "              xy = (0, risk_free *100), \n",
    "              xytext = (2, 7.5), \n",
    "              arrowprops = {'color':'black'})\n",
    "\n",
    "plt.title(\"CAL\", fontsize = 22)\n",
    "plt.xlabel(\"Standard Deviation(%)\", fontsize = 14)\n",
    "plt.ylabel(\"Expeted Return(%)\", fontsize = 14)\n",
    "\n",
    "plt.axvline(portfolio_sigma * 100, color = \"blue\", linestyle = \"solid\", alpha = 0.3)\n",
    "plt.axhline(portfolio_expected_return * 100, color = \"blue\", linestyle = \"solid\", alpha = 0.3)\n",
    "\n",
    "plt.xlim([0, 100])\n",
    "plt.ylim([0, 20])\n",
    "plt.show()"
   ]
  },
  {
   "cell_type": "code",
   "execution_count": null,
   "metadata": {
    "id": "_dIdziUQdzHW"
   },
   "outputs": [],
   "source": []
  },
  {
   "cell_type": "code",
   "execution_count": null,
   "metadata": {
    "id": "o0XRqmuYdzFX"
   },
   "outputs": [],
   "source": []
  },
  {
   "cell_type": "code",
   "execution_count": null,
   "metadata": {
    "id": "8irIrWRIdzDf"
   },
   "outputs": [],
   "source": []
  },
  {
   "cell_type": "code",
   "execution_count": null,
   "metadata": {
    "id": "X7trVZ2CdzAi"
   },
   "outputs": [],
   "source": []
  },
  {
   "cell_type": "code",
   "execution_count": null,
   "metadata": {
    "id": "Km1acJxYdy-a"
   },
   "outputs": [],
   "source": []
  },
  {
   "cell_type": "code",
   "execution_count": null,
   "metadata": {
    "id": "u5c2ZgM-dy8O"
   },
   "outputs": [],
   "source": []
  },
  {
   "cell_type": "code",
   "execution_count": null,
   "metadata": {
    "id": "esMCPk2Ydy6M"
   },
   "outputs": [],
   "source": []
  }
 ],
 "metadata": {
  "colab": {
   "provenance": []
  },
  "kernelspec": {
   "display_name": "Python 3 (ipykernel)",
   "language": "python",
   "name": "python3"
  },
  "language_info": {
   "codemirror_mode": {
    "name": "ipython",
    "version": 3
   },
   "file_extension": ".py",
   "mimetype": "text/x-python",
   "name": "python",
   "nbconvert_exporter": "python",
   "pygments_lexer": "ipython3",
   "version": "3.9.12"
  }
 },
 "nbformat": 4,
 "nbformat_minor": 1
}
