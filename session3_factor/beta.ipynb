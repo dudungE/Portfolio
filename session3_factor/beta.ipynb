{
 "cells": [
  {
   "cell_type": "markdown",
   "id": "170fca0d-a6a6-4c51-9e71-dc832ecc25f4",
   "metadata": {},
   "source": [
    "### imports"
   ]
  },
  {
   "cell_type": "code",
   "execution_count": null,
   "id": "d9154ee8-3b21-45ca-8768-c1ca132d6dcd",
   "metadata": {},
   "outputs": [],
   "source": [
    "import random\n",
    "import numpy as np\n",
    "import pandas as pd\n",
    "import yfinance as yf\n",
    "import pandas_datareader.data as web\n",
    "import matplotlib.pyplot as plt\n",
    "import statsmodels.api as sm\n",
    "from pykrx import stock\n",
    "\n",
    "yf.pdr_override()"
   ]
  },
  {
   "cell_type": "markdown",
   "id": "c9a2f774-fb72-44e1-a018-f75110d2da49",
   "metadata": {},
   "source": [
    "# Sorting $\\beta$ of KOSPI"
   ]
  },
  {
   "cell_type": "markdown",
   "id": "f7b406ee-c56c-48e1-8c15-1d49c2727d90",
   "metadata": {
    "tags": []
   },
   "source": [
    "## beta example 1\n",
    "- 베타 계산 및 출력 basic"
   ]
  },
  {
   "cell_type": "code",
   "execution_count": null,
   "id": "926bd361-a99e-4e75-a5d4-338d9438529b",
   "metadata": {},
   "outputs": [],
   "source": [
    "tickers = ['^KS11', '000547.KS'] # 키움증권 티커\n",
    "\n",
    "all_data = {}\n",
    "for ticker in tickers:\n",
    "    all_data[ticker] = web.DataReader(ticker,\n",
    "                                      start=\"2016-01-01\",\n",
    "                                      end='2021-12-31')\n",
    "\n",
    "prices = pd.DataFrame({tic: data['Close'] for tic, data in all_data.items()})\n",
    "ret = prices.pct_change().dropna()"
   ]
  },
  {
   "cell_type": "code",
   "execution_count": null,
   "id": "b5e5a449-4d35-434b-8b34-df72b2725372",
   "metadata": {},
   "outputs": [],
   "source": [
    "ret['intercept'] = 1\n",
    "reg = sm.OLS(ret[['000547.KS']], ret[['^KS11', 'intercept']]).fit()\n",
    "print(reg.params)"
   ]
  },
  {
   "cell_type": "markdown",
   "id": "cda94124-0a55-4bb4-85c5-e00df381f8b7",
   "metadata": {
    "tags": []
   },
   "source": [
    "## beta of kospi\n",
    "\n",
    "1. pykrx에서 koppi의 모든 티커 가져온다\n",
    "2. DataReader로 불러올 수 있는 데이터 모두 커버한다\n",
    "3. 코스피 지수와 회귀분석하여 모두 베타 구한다\n",
    "4. 베타 상위 20, 하위 20개 종목들 출력하여 비교한다"
   ]
  },
  {
   "cell_type": "code",
   "execution_count": null,
   "id": "312b99c0-9a8a-4975-867c-038107a7e3f9",
   "metadata": {},
   "outputs": [],
   "source": [
    "def return_name(market):\n",
    "    '''get name from ticker'''\n",
    "    Market = []\n",
    "    for ticker in market:\n",
    "        Value = stock.get_market_ticker_name(ticker)\n",
    "        Market.append([Value,ticker])\n",
    " \n",
    "    df = pd.DataFrame(Market,columns=['회사명','상장번호'])\n",
    "    return df\n",
    "\n",
    "KOSPI = stock.get_market_ticker_list(market=\"KOSPI\")\n",
    "kospi = return_name(KOSPI)"
   ]
  },
  {
   "cell_type": "markdown",
   "id": "a163308a-be48-4aeb-8880-bd5e4c4a8b75",
   "metadata": {},
   "source": [
    "코스피 종목 티커 가져오기"
   ]
  },
  {
   "cell_type": "code",
   "execution_count": null,
   "id": "af786936-bce1-4319-bebb-1e3334c7f0c1",
   "metadata": {},
   "outputs": [],
   "source": [
    "tickers_list = [f'{ticker}.KR' for ticker in kospi['상장번호']]\n",
    "# tickers\n",
    "len(tickers_list)"
   ]
  },
  {
   "cell_type": "code",
   "execution_count": null,
   "id": "d0064685-edbd-4767-9fc1-68d0ff49311b",
   "metadata": {},
   "outputs": [],
   "source": [
    "tickers_list[:5]"
   ]
  },
  {
   "cell_type": "code",
   "execution_count": null,
   "id": "66ef47fc-b378-4906-88a5-78bbc314b67d",
   "metadata": {},
   "outputs": [],
   "source": [
    "def calc_beta(*tickers):\n",
    "\n",
    "    all_data = {}\n",
    "    \n",
    "    for ticker in tickers:\n",
    "        print(ticker)\n",
    "        ticker = ['^KS11', ticker]\n",
    "        all_data[ticker] = web.DataReader(ticker,\n",
    "                                          start=\"2016-01-01\",\n",
    "                                          end='2021-12-31')\n",
    "\n",
    "        prices = pd.DataFrame({tic: data['Close'] for tic, data in all_data.items()})\n",
    "        ret = prices.pct_change().dropna()\n"
   ]
  },
  {
   "cell_type": "code",
   "execution_count": null,
   "id": "91f9f204-0a56-4b96-b59d-33b29f038667",
   "metadata": {},
   "outputs": [],
   "source": [
    "all_data = {}\n",
    "tickers = [f'{i}.KS' for i in kospi['상장번호']]\n",
    "\n",
    "for ticker in tqdm(tickers):\n",
    "    all_data[ticker] = web.DataReader(ticker,\n",
    "                                      start=\"2016-01-01\",\n",
    "                                      end='2021-12-31', actions=False)\n",
    "\n",
    "prices = pd.DataFrame({tic: data['Close'] for tic, data in all_data.items()})\n",
    "ret = prices.pct_change().dropna()"
   ]
  },
  {
   "cell_type": "code",
   "execution_count": 180,
   "id": "a5482db7-5274-4f9a-aac0-e996ba249e77",
   "metadata": {},
   "outputs": [
    {
     "data": {
      "text/plain": [
       "943"
      ]
     },
     "execution_count": 180,
     "metadata": {},
     "output_type": "execute_result"
    }
   ],
   "source": [
    "len(all_data)"
   ]
  },
  {
   "cell_type": "code",
   "execution_count": 199,
   "id": "fc283504-0a3b-4d05-bb7e-50565075163f",
   "metadata": {},
   "outputs": [
    {
     "name": "stdout",
     "output_type": "stream",
     "text": [
      "[*********************100%***********************]  1 of 1 completed\n"
     ]
    },
    {
     "data": {
      "text/plain": [
       "Date\n",
       "2016-01-05    0.006134\n",
       "2016-01-06   -0.002642\n",
       "2016-01-07   -0.010959\n",
       "2016-01-08    0.006979\n",
       "2016-01-11   -0.011879\n",
       "                ...   \n",
       "2021-12-24    0.004756\n",
       "2021-12-27   -0.004276\n",
       "2021-12-28    0.006898\n",
       "2021-12-29   -0.008923\n",
       "2021-12-30   -0.005225\n",
       "Name: Close, Length: 1472, dtype: float64"
      ]
     },
     "execution_count": 199,
     "metadata": {},
     "output_type": "execute_result"
    }
   ],
   "source": [
    "kospi_data = web.DataReader('^KS11',\n",
    "                             start=\"2016-01-01\",\n",
    "                             end='2021-12-31', actions=False)\n",
    "kospi_ret = kospi_data['Close'].pct_change().dropna()\n",
    "kospi_ret # 코스피 데이터"
   ]
  },
  {
   "cell_type": "code",
   "execution_count": 186,
   "id": "e37c2654-5f1b-4fb1-817d-eba9d904c542",
   "metadata": {},
   "outputs": [],
   "source": [
    "prices = pd.DataFrame({tic: data['Close'] for tic, data in all_data.items()})"
   ]
  },
  {
   "cell_type": "code",
   "execution_count": null,
   "id": "6af7e5e4-5a7c-4e94-8451-27c3d81ff534",
   "metadata": {},
   "outputs": [],
   "source": [
    "ret = prices.dropna(axis=1).pct_change().dropna()\n",
    "ret['^KS11'] = kospi_ret\n",
    "ret['intercept'] = 1 # 코스피와 intercept 칼럼 넣기"
   ]
  },
  {
   "cell_type": "code",
   "execution_count": 219,
   "id": "246b2cc4-67e8-4c74-ab45-fcafd8246f16",
   "metadata": {},
   "outputs": [
    {
     "name": "stdout",
     "output_type": "stream",
     "text": [
      "0.8745141815680655\n"
     ]
    }
   ],
   "source": [
    "reg = sm.OLS(ret[['000547.KS']], ret[['^KS11', 'intercept']]).fit() \n",
    "print(reg.params[0])"
   ]
  },
  {
   "cell_type": "code",
   "execution_count": 201,
   "id": "22fa165d-a87f-419c-80f2-7b0f88e4c8ca",
   "metadata": {},
   "outputs": [
    {
     "data": {
      "text/plain": [
       "Date\n",
       "2016-01-05    0.030303\n",
       "2016-01-06   -0.032086\n",
       "2016-01-07   -0.022099\n",
       "2016-01-08   -0.019774\n",
       "2016-01-11   -0.002882\n",
       "                ...   \n",
       "2021-12-24   -0.033628\n",
       "2021-12-27    0.009158\n",
       "2021-12-28   -0.001815\n",
       "2021-12-29   -0.001818\n",
       "2021-12-30    0.009107\n",
       "Name: 000547.KS, Length: 1472, dtype: float64"
      ]
     },
     "execution_count": 201,
     "metadata": {},
     "output_type": "execute_result"
    }
   ],
   "source": [
    "ret['000547.KS']"
   ]
  },
  {
   "cell_type": "code",
   "execution_count": 217,
   "id": "9b8555d4-34a6-4429-9835-877de8b11816",
   "metadata": {},
   "outputs": [
    {
     "data": {
      "text/plain": [
       "Index(['095570.KS', '006840.KS', '027410.KS', '138930.KS', '001460.KS',\n",
       "       '001465.KS', '001040.KS', '079160.KS', '000120.KS', '011150.KS',\n",
       "       ...\n",
       "       '094280.KS', '093370.KS', '081660.KS', '005870.KS', '079980.KS',\n",
       "       '005010.KS', '000540.KS', '000547.KS', '000545.KS', '003280.KS'],\n",
       "      dtype='object', length=811)"
      ]
     },
     "execution_count": 217,
     "metadata": {},
     "output_type": "execute_result"
    }
   ],
   "source": [
    "ret_col = ret.columns[:-2] # 개별 종목 ticker 까지 columns설정\n",
    "ret_col"
   ]
  },
  {
   "cell_type": "code",
   "execution_count": 220,
   "id": "96993040-f2ec-463b-86f1-a09456eae8f0",
   "metadata": {},
   "outputs": [],
   "source": [
    "beta_data = {}\n",
    "\n",
    "for ticker in ret_col:\n",
    "    reg = sm.OLS(ret[[ticker]], ret[['^KS11', 'intercept']]).fit()\n",
    "    beta_data[ticker] = reg.params[0]"
   ]
  },
  {
   "cell_type": "code",
   "execution_count": 230,
   "id": "c2449eb6-c057-44b8-a5d8-78558ef6eab7",
   "metadata": {},
   "outputs": [
    {
     "data": {
      "text/plain": [
       "010580.KS     0.033781\n",
       "155900.KS     0.063669\n",
       "168490.KS     0.127617\n",
       "088980.KS     0.128645\n",
       "017390.KS     0.138271\n",
       "               ...    \n",
       "003530.KS     1.562759\n",
       "001230.KS     1.569811\n",
       "001470.KS     5.738736\n",
       "001745.KS    14.717517\n",
       "105560.KS    15.050342\n",
       "Length: 811, dtype: float64"
      ]
     },
     "execution_count": 230,
     "metadata": {},
     "output_type": "execute_result"
    }
   ],
   "source": [
    "beta_data\n",
    "beta_series=pd.Series(beta_data)\n",
    "beta_series.sort_values()"
   ]
  },
  {
   "cell_type": "code",
   "execution_count": 269,
   "id": "57f3707a-6b9c-4063-829e-b48592223e20",
   "metadata": {},
   "outputs": [],
   "source": [
    "beta_bottom20= beta_series.sort_values()[:20]\n",
    "beta_top20 = beta_series.sort_values()[-20:]"
   ]
  },
  {
   "cell_type": "code",
   "execution_count": 265,
   "id": "6e604822-db4a-4f9f-b8d3-4b55c12dcd3b",
   "metadata": {},
   "outputs": [
    {
     "data": {
      "text/html": [
       "<div>\n",
       "<style scoped>\n",
       "    .dataframe tbody tr th:only-of-type {\n",
       "        vertical-align: middle;\n",
       "    }\n",
       "\n",
       "    .dataframe tbody tr th {\n",
       "        vertical-align: top;\n",
       "    }\n",
       "\n",
       "    .dataframe thead th {\n",
       "        text-align: right;\n",
       "    }\n",
       "</style>\n",
       "<table border=\"1\" class=\"dataframe\">\n",
       "  <thead>\n",
       "    <tr style=\"text-align: right;\">\n",
       "      <th></th>\n",
       "      <th>ticker</th>\n",
       "      <th>name</th>\n",
       "      <th>beta</th>\n",
       "    </tr>\n",
       "  </thead>\n",
       "  <tbody>\n",
       "    <tr>\n",
       "      <th>0</th>\n",
       "      <td>010580.KS</td>\n",
       "      <td>에스엠벡셀</td>\n",
       "      <td>0.033781</td>\n",
       "    </tr>\n",
       "    <tr>\n",
       "      <th>1</th>\n",
       "      <td>155900.KS</td>\n",
       "      <td>바다로19호</td>\n",
       "      <td>0.063669</td>\n",
       "    </tr>\n",
       "    <tr>\n",
       "      <th>2</th>\n",
       "      <td>168490.KS</td>\n",
       "      <td>한국패러랠</td>\n",
       "      <td>0.127617</td>\n",
       "    </tr>\n",
       "    <tr>\n",
       "      <th>3</th>\n",
       "      <td>088980.KS</td>\n",
       "      <td>맥쿼리인프라</td>\n",
       "      <td>0.128645</td>\n",
       "    </tr>\n",
       "    <tr>\n",
       "      <th>4</th>\n",
       "      <td>017390.KS</td>\n",
       "      <td>서울가스</td>\n",
       "      <td>0.138271</td>\n",
       "    </tr>\n",
       "    <tr>\n",
       "      <th>5</th>\n",
       "      <td>021820.KS</td>\n",
       "      <td>세원정공</td>\n",
       "      <td>0.143437</td>\n",
       "    </tr>\n",
       "    <tr>\n",
       "      <th>6</th>\n",
       "      <td>016710.KS</td>\n",
       "      <td>대성홀딩스</td>\n",
       "      <td>0.169078</td>\n",
       "    </tr>\n",
       "    <tr>\n",
       "      <th>7</th>\n",
       "      <td>023450.KS</td>\n",
       "      <td>동남합성</td>\n",
       "      <td>0.180261</td>\n",
       "    </tr>\n",
       "    <tr>\n",
       "      <th>8</th>\n",
       "      <td>016800.KS</td>\n",
       "      <td>퍼시스</td>\n",
       "      <td>0.205887</td>\n",
       "    </tr>\n",
       "    <tr>\n",
       "      <th>9</th>\n",
       "      <td>003465.KS</td>\n",
       "      <td>유화증권우</td>\n",
       "      <td>0.213789</td>\n",
       "    </tr>\n",
       "    <tr>\n",
       "      <th>10</th>\n",
       "      <td>134380.KS</td>\n",
       "      <td>미원화학</td>\n",
       "      <td>0.217862</td>\n",
       "    </tr>\n",
       "    <tr>\n",
       "      <th>11</th>\n",
       "      <td>034590.KS</td>\n",
       "      <td>인천도시가스</td>\n",
       "      <td>0.221801</td>\n",
       "    </tr>\n",
       "    <tr>\n",
       "      <th>12</th>\n",
       "      <td>000480.KS</td>\n",
       "      <td>조선내화</td>\n",
       "      <td>0.234429</td>\n",
       "    </tr>\n",
       "    <tr>\n",
       "      <th>13</th>\n",
       "      <td>002840.KS</td>\n",
       "      <td>미원상사</td>\n",
       "      <td>0.237634</td>\n",
       "    </tr>\n",
       "    <tr>\n",
       "      <th>14</th>\n",
       "      <td>004080.KS</td>\n",
       "      <td>신흥</td>\n",
       "      <td>0.243333</td>\n",
       "    </tr>\n",
       "    <tr>\n",
       "      <th>15</th>\n",
       "      <td>003650.KS</td>\n",
       "      <td>미창석유</td>\n",
       "      <td>0.245108</td>\n",
       "    </tr>\n",
       "    <tr>\n",
       "      <th>16</th>\n",
       "      <td>004255.KS</td>\n",
       "      <td>NPC우</td>\n",
       "      <td>0.264684</td>\n",
       "    </tr>\n",
       "    <tr>\n",
       "      <th>17</th>\n",
       "      <td>094800.KS</td>\n",
       "      <td>맵스리얼티1</td>\n",
       "      <td>0.267424</td>\n",
       "    </tr>\n",
       "    <tr>\n",
       "      <th>18</th>\n",
       "      <td>012170.KS</td>\n",
       "      <td>아센디오</td>\n",
       "      <td>0.269945</td>\n",
       "    </tr>\n",
       "    <tr>\n",
       "      <th>19</th>\n",
       "      <td>015360.KS</td>\n",
       "      <td>예스코홀딩스</td>\n",
       "      <td>0.273182</td>\n",
       "    </tr>\n",
       "  </tbody>\n",
       "</table>\n",
       "</div>"
      ],
      "text/plain": [
       "       ticker    name      beta\n",
       "0   010580.KS   에스엠벡셀  0.033781\n",
       "1   155900.KS  바다로19호  0.063669\n",
       "2   168490.KS   한국패러랠  0.127617\n",
       "3   088980.KS  맥쿼리인프라  0.128645\n",
       "4   017390.KS    서울가스  0.138271\n",
       "5   021820.KS    세원정공  0.143437\n",
       "6   016710.KS   대성홀딩스  0.169078\n",
       "7   023450.KS    동남합성  0.180261\n",
       "8   016800.KS     퍼시스  0.205887\n",
       "9   003465.KS   유화증권우  0.213789\n",
       "10  134380.KS    미원화학  0.217862\n",
       "11  034590.KS  인천도시가스  0.221801\n",
       "12  000480.KS    조선내화  0.234429\n",
       "13  002840.KS    미원상사  0.237634\n",
       "14  004080.KS      신흥  0.243333\n",
       "15  003650.KS    미창석유  0.245108\n",
       "16  004255.KS    NPC우  0.264684\n",
       "17  094800.KS  맵스리얼티1  0.267424\n",
       "18  012170.KS    아센디오  0.269945\n",
       "19  015360.KS  예스코홀딩스  0.273182"
      ]
     },
     "execution_count": 265,
     "metadata": {},
     "output_type": "execute_result"
    }
   ],
   "source": [
    "beta_bottom20.index\n",
    "beta_bottom20.values\n",
    "\n",
    "ticker_name = []\n",
    "for i in beta_bottom20.index:\n",
    "    # print(i.split('.')[0])\n",
    "    # print(stock.get_market_ticker_name(i.split('.')[0]))\n",
    "    ticker_name.append(stock.get_market_ticker_name(i.split('.')[0]))\n",
    "\n",
    "pd.DataFrame({'ticker': beta_bottom20.index,\n",
    "             'name': ticker_name,\n",
    "            'beta': beta_bottom20.values})"
   ]
  },
  {
   "cell_type": "markdown",
   "id": "cb9c44c8-81cf-4055-82cb-8a8523fbc3db",
   "metadata": {},
   "source": [
    " 통신업과 섬유ㆍ의복, 의료정밀, 제약, 종이ㆍ목재, 비금속, 전기ㆍ가스 등이 저베타업종으로 분류된다"
   ]
  },
  {
   "cell_type": "code",
   "execution_count": 276,
   "id": "a8e43c74-8cf6-4d60-a71f-5eb0232c3c1d",
   "metadata": {},
   "outputs": [
    {
     "data": {
      "text/html": [
       "<div>\n",
       "<style scoped>\n",
       "    .dataframe tbody tr th:only-of-type {\n",
       "        vertical-align: middle;\n",
       "    }\n",
       "\n",
       "    .dataframe tbody tr th {\n",
       "        vertical-align: top;\n",
       "    }\n",
       "\n",
       "    .dataframe thead th {\n",
       "        text-align: right;\n",
       "    }\n",
       "</style>\n",
       "<table border=\"1\" class=\"dataframe\">\n",
       "  <thead>\n",
       "    <tr style=\"text-align: right;\">\n",
       "      <th></th>\n",
       "      <th>ticker</th>\n",
       "      <th>name</th>\n",
       "      <th>beta</th>\n",
       "    </tr>\n",
       "  </thead>\n",
       "  <tbody>\n",
       "    <tr>\n",
       "      <th>19</th>\n",
       "      <td>105560.KS</td>\n",
       "      <td>KB금융</td>\n",
       "      <td>15.050342</td>\n",
       "    </tr>\n",
       "    <tr>\n",
       "      <th>18</th>\n",
       "      <td>001745.KS</td>\n",
       "      <td>SK네트웍스우</td>\n",
       "      <td>14.717517</td>\n",
       "    </tr>\n",
       "    <tr>\n",
       "      <th>17</th>\n",
       "      <td>001470.KS</td>\n",
       "      <td>삼부토건</td>\n",
       "      <td>5.738736</td>\n",
       "    </tr>\n",
       "    <tr>\n",
       "      <th>16</th>\n",
       "      <td>001230.KS</td>\n",
       "      <td>동국제강</td>\n",
       "      <td>1.569811</td>\n",
       "    </tr>\n",
       "    <tr>\n",
       "      <th>15</th>\n",
       "      <td>003530.KS</td>\n",
       "      <td>한화투자증권</td>\n",
       "      <td>1.562759</td>\n",
       "    </tr>\n",
       "    <tr>\n",
       "      <th>14</th>\n",
       "      <td>071050.KS</td>\n",
       "      <td>한국금융지주</td>\n",
       "      <td>1.513819</td>\n",
       "    </tr>\n",
       "    <tr>\n",
       "      <th>13</th>\n",
       "      <td>006800.KS</td>\n",
       "      <td>미래에셋증권</td>\n",
       "      <td>1.503280</td>\n",
       "    </tr>\n",
       "    <tr>\n",
       "      <th>12</th>\n",
       "      <td>003470.KS</td>\n",
       "      <td>유안타증권</td>\n",
       "      <td>1.497533</td>\n",
       "    </tr>\n",
       "    <tr>\n",
       "      <th>11</th>\n",
       "      <td>009470.KS</td>\n",
       "      <td>삼화전기</td>\n",
       "      <td>1.483026</td>\n",
       "    </tr>\n",
       "    <tr>\n",
       "      <th>10</th>\n",
       "      <td>005070.KS</td>\n",
       "      <td>코스모신소재</td>\n",
       "      <td>1.471121</td>\n",
       "    </tr>\n",
       "    <tr>\n",
       "      <th>9</th>\n",
       "      <td>010060.KS</td>\n",
       "      <td>OCI</td>\n",
       "      <td>1.463032</td>\n",
       "    </tr>\n",
       "    <tr>\n",
       "      <th>8</th>\n",
       "      <td>005420.KS</td>\n",
       "      <td>코스모화학</td>\n",
       "      <td>1.460647</td>\n",
       "    </tr>\n",
       "    <tr>\n",
       "      <th>7</th>\n",
       "      <td>081000.KS</td>\n",
       "      <td>일진다이아</td>\n",
       "      <td>1.452920</td>\n",
       "    </tr>\n",
       "    <tr>\n",
       "      <th>6</th>\n",
       "      <td>001200.KS</td>\n",
       "      <td>유진투자증권</td>\n",
       "      <td>1.450034</td>\n",
       "    </tr>\n",
       "    <tr>\n",
       "      <th>5</th>\n",
       "      <td>009830.KS</td>\n",
       "      <td>한화솔루션</td>\n",
       "      <td>1.435307</td>\n",
       "    </tr>\n",
       "    <tr>\n",
       "      <th>4</th>\n",
       "      <td>030210.KS</td>\n",
       "      <td>다올투자증권</td>\n",
       "      <td>1.433426</td>\n",
       "    </tr>\n",
       "    <tr>\n",
       "      <th>3</th>\n",
       "      <td>039490.KS</td>\n",
       "      <td>키움증권</td>\n",
       "      <td>1.433309</td>\n",
       "    </tr>\n",
       "    <tr>\n",
       "      <th>2</th>\n",
       "      <td>015860.KS</td>\n",
       "      <td>일진홀딩스</td>\n",
       "      <td>1.424513</td>\n",
       "    </tr>\n",
       "    <tr>\n",
       "      <th>1</th>\n",
       "      <td>011210.KS</td>\n",
       "      <td>현대위아</td>\n",
       "      <td>1.420752</td>\n",
       "    </tr>\n",
       "    <tr>\n",
       "      <th>0</th>\n",
       "      <td>096770.KS</td>\n",
       "      <td>SK이노베이션</td>\n",
       "      <td>1.418971</td>\n",
       "    </tr>\n",
       "  </tbody>\n",
       "</table>\n",
       "</div>"
      ],
      "text/plain": [
       "       ticker     name       beta\n",
       "19  105560.KS     KB금융  15.050342\n",
       "18  001745.KS  SK네트웍스우  14.717517\n",
       "17  001470.KS     삼부토건   5.738736\n",
       "16  001230.KS     동국제강   1.569811\n",
       "15  003530.KS   한화투자증권   1.562759\n",
       "14  071050.KS   한국금융지주   1.513819\n",
       "13  006800.KS   미래에셋증권   1.503280\n",
       "12  003470.KS    유안타증권   1.497533\n",
       "11  009470.KS     삼화전기   1.483026\n",
       "10  005070.KS   코스모신소재   1.471121\n",
       "9   010060.KS      OCI   1.463032\n",
       "8   005420.KS    코스모화학   1.460647\n",
       "7   081000.KS    일진다이아   1.452920\n",
       "6   001200.KS   유진투자증권   1.450034\n",
       "5   009830.KS    한화솔루션   1.435307\n",
       "4   030210.KS   다올투자증권   1.433426\n",
       "3   039490.KS     키움증권   1.433309\n",
       "2   015860.KS    일진홀딩스   1.424513\n",
       "1   011210.KS     현대위아   1.420752\n",
       "0   096770.KS  SK이노베이션   1.418971"
      ]
     },
     "execution_count": 276,
     "metadata": {},
     "output_type": "execute_result"
    }
   ],
   "source": [
    "ticker_name = []\n",
    "for i in beta_top20.index:\n",
    "    # print(i.split('.')[0])\n",
    "    # print(stock.get_market_ticker_name(i.split('.')[0]))\n",
    "    ticker_name.append(stock.get_market_ticker_name(i.split('.')[0]))\n",
    "\n",
    "pd.DataFrame({'ticker': beta_top20.index,\n",
    "             'name': ticker_name,\n",
    "            'beta': beta_top20.values}).sort_values(by='beta',ascending=False)"
   ]
  },
  {
   "cell_type": "markdown",
   "id": "5a2de7ab-02b5-4279-b50b-fa5f756ed6c0",
   "metadata": {},
   "source": [
    "고베타주에는 금융 관련 종목이 많이보인다"
   ]
  },
  {
   "cell_type": "markdown",
   "id": "a100fc94-ef70-41a5-abcd-74353a763ddb",
   "metadata": {},
   "source": [
    "\n",
    "https://www.mk.co.kr/dic/m/view.php?idx=6378\n",
    "- 대개 고베타 상위 업종으로는 전기전자·금융·의료정밀 등이 있고, 저베타 상위 업종에는 화학·의약품·비금속광물·음식료 등 경기에 둔감한 방어주들이 대부분이다"
   ]
  }
 ],
 "metadata": {
  "kernelspec": {
   "display_name": "pyfolio",
   "language": "python",
   "name": "pyfolio"
  },
  "language_info": {
   "codemirror_mode": {
    "name": "ipython",
    "version": 3
   },
   "file_extension": ".py",
   "mimetype": "text/x-python",
   "name": "python",
   "nbconvert_exporter": "python",
   "pygments_lexer": "ipython3",
   "version": "3.9.12"
  }
 },
 "nbformat": 4,
 "nbformat_minor": 5
}
