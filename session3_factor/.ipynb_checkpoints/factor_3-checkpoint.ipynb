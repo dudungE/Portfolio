{
 "cells": [
  {
   "cell_type": "code",
   "execution_count": 1,
   "id": "d5129ed7-857b-4e92-a00d-57c3e6396d35",
   "metadata": {},
   "outputs": [],
   "source": [
    "import pandas_datareader.data as web  # module for reading datasets directly from the web\n",
    "import pandas_datareader.famafrench as ff "
   ]
  },
  {
   "cell_type": "code",
   "execution_count": 2,
   "id": "dabfa2e8-944c-475b-934b-f7042d2e6c28",
   "metadata": {},
   "outputs": [
    {
     "name": "stdout",
     "output_type": "stream",
     "text": [
      "No. of datasets:297\n"
     ]
    }
   ],
   "source": [
    "datasets = ff.get_available_datasets()\n",
    "print('No. of datasets:{0}'.format(len(datasets)))"
   ]
  },
  {
   "cell_type": "code",
   "execution_count": 3,
   "id": "9aa27c74-9e00-4b20-aed2-31197f627eff",
   "metadata": {},
   "outputs": [],
   "source": [
    "# print(datasets)"
   ]
  },
  {
   "cell_type": "code",
   "execution_count": 4,
   "id": "3a38554e-588d-4f1c-be3e-1a6077a2ecfa",
   "metadata": {},
   "outputs": [
    {
     "name": "stdout",
     "output_type": "stream",
     "text": [
      "['10_Industry_Portfolios', '10_Industry_Portfolios_Wout_Div', '10_Industry_Portfolios_daily']\n"
     ]
    }
   ],
   "source": [
    "df_10_industry = [dataset for dataset in datasets if '10' in dataset and 'Industry' in dataset]\n",
    "print(df_10_industry)"
   ]
  },
  {
   "cell_type": "code",
   "execution_count": 5,
   "id": "c77dc720-4b87-4c20-81f0-18c7838b023f",
   "metadata": {},
   "outputs": [
    {
     "data": {
      "text/plain": [
       "['10_Industry_Portfolios',\n",
       " '10_Industry_Portfolios_Wout_Div',\n",
       " '10_Industry_Portfolios_daily']"
      ]
     },
     "execution_count": 5,
     "metadata": {},
     "output_type": "execute_result"
    }
   ],
   "source": [
    "df_10_industry"
   ]
  },
  {
   "cell_type": "code",
   "execution_count": 6,
   "id": "f3525013-a535-4a06-b1a0-9d5bef541c6c",
   "metadata": {},
   "outputs": [],
   "source": [
    "ds_industry = web.DataReader(df_10_industry[0],'famafrench',start='2017-06-23',end='2019-11-01') "
   ]
  },
  {
   "cell_type": "code",
   "execution_count": 7,
   "id": "bf782627-71a2-4dfa-a3c3-a053053512c8",
   "metadata": {},
   "outputs": [
    {
     "name": "stdout",
     "output_type": "stream",
     "text": [
      "<class 'dict'>\n"
     ]
    },
    {
     "data": {
      "text/plain": [
       "dict_keys([0, 1, 2, 3, 4, 5, 6, 7, 'DESCR'])"
      ]
     },
     "execution_count": 7,
     "metadata": {},
     "output_type": "execute_result"
    }
   ],
   "source": [
    "print(type(ds_industry))\n",
    "ds_industry.keys()"
   ]
  },
  {
   "cell_type": "code",
   "execution_count": 8,
   "id": "67f35d4d-5ad0-45da-8e76-4f192829227c",
   "metadata": {},
   "outputs": [
    {
     "name": "stdout",
     "output_type": "stream",
     "text": [
      "10 Industry Portfolios\n",
      "----------------------\n",
      "\n",
      "This file was created by CMPT_IND_RETS using the 202301 CRSP database. It contains value- and equal-weighted returns for 10 industry portfolios. The portfolios are constructed at the end of June. The annual returns are from January to December. Missing data are indicated by -99.99 or -999. Copyright 2023 Kenneth R. French\n",
      "\n",
      "  0 : Average Value Weighted Returns -- Monthly (30 rows x 10 cols)\n",
      "  1 : Average Equal Weighted Returns -- Monthly (30 rows x 10 cols)\n",
      "  2 : Average Value Weighted Returns -- Annual (3 rows x 10 cols)\n",
      "  3 : Average Equal Weighted Returns -- Annual (3 rows x 10 cols)\n",
      "  4 : Number of Firms in Portfolios (30 rows x 10 cols)\n",
      "  5 : Average Firm Size (30 rows x 10 cols)\n",
      "  6 : Sum of BE / Sum of ME (3 rows x 10 cols)\n",
      "  7 : Value-Weighted Average of BE/ME (3 rows x 10 cols)\n"
     ]
    }
   ],
   "source": [
    "print(ds_industry['DESCR'])"
   ]
  },
  {
   "cell_type": "code",
   "execution_count": 9,
   "id": "7dc7d3ff-36d7-4919-94d5-0252a1a2b48d",
   "metadata": {},
   "outputs": [
    {
     "data": {
      "text/html": [
       "<div>\n",
       "<style scoped>\n",
       "    .dataframe tbody tr th:only-of-type {\n",
       "        vertical-align: middle;\n",
       "    }\n",
       "\n",
       "    .dataframe tbody tr th {\n",
       "        vertical-align: top;\n",
       "    }\n",
       "\n",
       "    .dataframe thead th {\n",
       "        text-align: right;\n",
       "    }\n",
       "</style>\n",
       "<table border=\"1\" class=\"dataframe\">\n",
       "  <thead>\n",
       "    <tr style=\"text-align: right;\">\n",
       "      <th></th>\n",
       "      <th>NoDur</th>\n",
       "      <th>Durbl</th>\n",
       "      <th>Manuf</th>\n",
       "      <th>Enrgy</th>\n",
       "      <th>HiTec</th>\n",
       "      <th>Telcm</th>\n",
       "      <th>Shops</th>\n",
       "      <th>Hlth</th>\n",
       "      <th>Utils</th>\n",
       "      <th>Other</th>\n",
       "    </tr>\n",
       "    <tr>\n",
       "      <th>Date</th>\n",
       "      <th></th>\n",
       "      <th></th>\n",
       "      <th></th>\n",
       "      <th></th>\n",
       "      <th></th>\n",
       "      <th></th>\n",
       "      <th></th>\n",
       "      <th></th>\n",
       "      <th></th>\n",
       "      <th></th>\n",
       "    </tr>\n",
       "  </thead>\n",
       "  <tbody>\n",
       "    <tr>\n",
       "      <th>2017-06</th>\n",
       "      <td>-1.03</td>\n",
       "      <td>3.51</td>\n",
       "      <td>1.28</td>\n",
       "      <td>-0.08</td>\n",
       "      <td>-2.10</td>\n",
       "      <td>-2.22</td>\n",
       "      <td>-1.90</td>\n",
       "      <td>5.54</td>\n",
       "      <td>-1.89</td>\n",
       "      <td>4.22</td>\n",
       "    </tr>\n",
       "    <tr>\n",
       "      <th>2017-07</th>\n",
       "      <td>-0.13</td>\n",
       "      <td>-1.17</td>\n",
       "      <td>2.18</td>\n",
       "      <td>2.07</td>\n",
       "      <td>3.74</td>\n",
       "      <td>5.27</td>\n",
       "      <td>0.12</td>\n",
       "      <td>0.70</td>\n",
       "      <td>2.98</td>\n",
       "      <td>1.49</td>\n",
       "    </tr>\n",
       "    <tr>\n",
       "      <th>2017-08</th>\n",
       "      <td>-1.73</td>\n",
       "      <td>-0.10</td>\n",
       "      <td>0.27</td>\n",
       "      <td>-5.09</td>\n",
       "      <td>3.08</td>\n",
       "      <td>-2.64</td>\n",
       "      <td>-1.67</td>\n",
       "      <td>2.58</td>\n",
       "      <td>2.20</td>\n",
       "      <td>-0.38</td>\n",
       "    </tr>\n",
       "    <tr>\n",
       "      <th>2017-09</th>\n",
       "      <td>-0.33</td>\n",
       "      <td>5.28</td>\n",
       "      <td>4.17</td>\n",
       "      <td>10.95</td>\n",
       "      <td>0.65</td>\n",
       "      <td>-1.67</td>\n",
       "      <td>2.43</td>\n",
       "      <td>2.05</td>\n",
       "      <td>-1.97</td>\n",
       "      <td>4.36</td>\n",
       "    </tr>\n",
       "    <tr>\n",
       "      <th>2017-10</th>\n",
       "      <td>0.09</td>\n",
       "      <td>1.25</td>\n",
       "      <td>2.80</td>\n",
       "      <td>0.49</td>\n",
       "      <td>6.88</td>\n",
       "      <td>-5.68</td>\n",
       "      <td>2.72</td>\n",
       "      <td>-2.27</td>\n",
       "      <td>3.07</td>\n",
       "      <td>2.08</td>\n",
       "    </tr>\n",
       "  </tbody>\n",
       "</table>\n",
       "</div>"
      ],
      "text/plain": [
       "         NoDur  Durbl  Manuf  Enrgy  HiTec  Telcm  Shops  Hlth   Utils  Other\n",
       "Date                                                                         \n",
       "2017-06  -1.03   3.51   1.28  -0.08  -2.10  -2.22  -1.90   5.54  -1.89   4.22\n",
       "2017-07  -0.13  -1.17   2.18   2.07   3.74   5.27   0.12   0.70   2.98   1.49\n",
       "2017-08  -1.73  -0.10   0.27  -5.09   3.08  -2.64  -1.67   2.58   2.20  -0.38\n",
       "2017-09  -0.33   5.28   4.17  10.95   0.65  -1.67   2.43   2.05  -1.97   4.36\n",
       "2017-10   0.09   1.25   2.80   0.49   6.88  -5.68   2.72  -2.27   3.07   2.08"
      ]
     },
     "execution_count": 9,
     "metadata": {},
     "output_type": "execute_result"
    }
   ],
   "source": [
    "ds_industry[0].head()"
   ]
  },
  {
   "cell_type": "code",
   "execution_count": null,
   "id": "f8f755a5-668c-4200-a5f6-fd80fd7eea9a",
   "metadata": {},
   "outputs": [],
   "source": []
  },
  {
   "cell_type": "code",
   "execution_count": 12,
   "id": "2d8f71ae-ab49-4d3f-8fa9-dbbc77c64ff8",
   "metadata": {},
   "outputs": [
    {
     "name": "stdout",
     "output_type": "stream",
     "text": [
      "['F-F_Research_Data_5_Factors_2x3', 'F-F_Research_Data_5_Factors_2x3_daily', 'Developed_5_Factors', 'Developed_5_Factors_Daily', 'Developed_ex_US_5_Factors', 'Developed_ex_US_5_Factors_Daily', 'Europe_5_Factors', 'Europe_5_Factors_Daily', 'Japan_5_Factors', 'Japan_5_Factors_Daily', 'Asia_Pacific_ex_Japan_5_Factors', 'Asia_Pacific_ex_Japan_5_Factors_Daily', 'North_America_5_Factors', 'North_America_5_Factors_Daily', 'Emerging_5_Factors']\n",
      "\n",
      "KEYS\n",
      "dict_keys([0, 1, 'DESCR'])\n",
      "DATASET DESCRIPTION \n",
      " F-F Research Data 5 Factors 2x3\n",
      "-------------------------------\n",
      "\n",
      "This file was created by CMPT_ME_BEME_OP_INV_RETS using the 202301 CRSP database. The 1-month TBill return is from Ibbotson and Associates Inc.\n",
      "\n",
      "  0 : (30 rows x 6 cols)\n",
      "  1 : Annual Factors: January-December (3 rows x 6 cols)\n"
     ]
    },
    {
     "data": {
      "text/html": [
       "<div>\n",
       "<style scoped>\n",
       "    .dataframe tbody tr th:only-of-type {\n",
       "        vertical-align: middle;\n",
       "    }\n",
       "\n",
       "    .dataframe tbody tr th {\n",
       "        vertical-align: top;\n",
       "    }\n",
       "\n",
       "    .dataframe thead th {\n",
       "        text-align: right;\n",
       "    }\n",
       "</style>\n",
       "<table border=\"1\" class=\"dataframe\">\n",
       "  <thead>\n",
       "    <tr style=\"text-align: right;\">\n",
       "      <th></th>\n",
       "      <th>Mkt-RF</th>\n",
       "      <th>SMB</th>\n",
       "      <th>HML</th>\n",
       "      <th>RMW</th>\n",
       "      <th>CMA</th>\n",
       "      <th>RF</th>\n",
       "    </tr>\n",
       "    <tr>\n",
       "      <th>Date</th>\n",
       "      <th></th>\n",
       "      <th></th>\n",
       "      <th></th>\n",
       "      <th></th>\n",
       "      <th></th>\n",
       "      <th></th>\n",
       "    </tr>\n",
       "  </thead>\n",
       "  <tbody>\n",
       "    <tr>\n",
       "      <th>2017-06</th>\n",
       "      <td>0.78</td>\n",
       "      <td>2.57</td>\n",
       "      <td>1.48</td>\n",
       "      <td>-2.25</td>\n",
       "      <td>0.01</td>\n",
       "      <td>0.06</td>\n",
       "    </tr>\n",
       "    <tr>\n",
       "      <th>2017-07</th>\n",
       "      <td>1.87</td>\n",
       "      <td>-1.66</td>\n",
       "      <td>-0.24</td>\n",
       "      <td>-0.69</td>\n",
       "      <td>-0.11</td>\n",
       "      <td>0.07</td>\n",
       "    </tr>\n",
       "    <tr>\n",
       "      <th>2017-08</th>\n",
       "      <td>0.16</td>\n",
       "      <td>-1.83</td>\n",
       "      <td>-2.09</td>\n",
       "      <td>0.15</td>\n",
       "      <td>-2.37</td>\n",
       "      <td>0.09</td>\n",
       "    </tr>\n",
       "    <tr>\n",
       "      <th>2017-09</th>\n",
       "      <td>2.51</td>\n",
       "      <td>4.77</td>\n",
       "      <td>3.12</td>\n",
       "      <td>-1.46</td>\n",
       "      <td>1.67</td>\n",
       "      <td>0.09</td>\n",
       "    </tr>\n",
       "    <tr>\n",
       "      <th>2017-10</th>\n",
       "      <td>2.25</td>\n",
       "      <td>-1.93</td>\n",
       "      <td>0.21</td>\n",
       "      <td>0.92</td>\n",
       "      <td>-3.24</td>\n",
       "      <td>0.09</td>\n",
       "    </tr>\n",
       "  </tbody>\n",
       "</table>\n",
       "</div>"
      ],
      "text/plain": [
       "         Mkt-RF   SMB   HML   RMW   CMA    RF\n",
       "Date                                         \n",
       "2017-06    0.78  2.57  1.48 -2.25  0.01  0.06\n",
       "2017-07    1.87 -1.66 -0.24 -0.69 -0.11  0.07\n",
       "2017-08    0.16 -1.83 -2.09  0.15 -2.37  0.09\n",
       "2017-09    2.51  4.77  3.12 -1.46  1.67  0.09\n",
       "2017-10    2.25 -1.93  0.21  0.92 -3.24  0.09"
      ]
     },
     "execution_count": 12,
     "metadata": {},
     "output_type": "execute_result"
    }
   ],
   "source": [
    "df_5_factor = [dataset for dataset in datasets if '5' in dataset and 'Factor' in dataset]\n",
    "print(df_5_factor)\n",
    "ds_factors = web.DataReader(df_5_factor[0],'famafrench',start='2017-06-23',end='2019-11-01') # Taking [0] as extracting 1F-F-Research_Data_Factors_2x3')\n",
    "print('\\nKEYS\\n{0}'.format(ds_factors.keys()))\n",
    "print('DATASET DESCRIPTION \\n {0}'.format(ds_factors['DESCR']))\n",
    "ds_factors[0].head()"
   ]
  },
  {
   "cell_type": "code",
   "execution_count": null,
   "id": "e2796b85-766d-4d06-87e1-fa8c4920d635",
   "metadata": {},
   "outputs": [],
   "source": []
  },
  {
   "cell_type": "code",
   "execution_count": 13,
   "id": "4b1bc9ec-5bca-47d1-9ffa-9a080020c13b",
   "metadata": {},
   "outputs": [],
   "source": [
    "import pandas_datareader.data as web\n",
    "import pandas_datareader.famafrench as ff\n",
    "import pandas as pd\n",
    "\n",
    "# 이용가능한 데이터셋을 구한다\n",
    "datasets = ff.get_available_datasets()"
   ]
  },
  {
   "cell_type": "code",
   "execution_count": 14,
   "id": "e7a696e6-0c32-4cf1-9609-2ee5e637bdd0",
   "metadata": {},
   "outputs": [
    {
     "name": "stdout",
     "output_type": "stream",
     "text": [
      "F-F_Research_Data_Factors\n"
     ]
    }
   ],
   "source": [
    "# 월간 3팩터(datasets[0])를 구한다\n",
    "df_3_factor = datasets[0]\n",
    "print(df_3_factor)"
   ]
  },
  {
   "cell_type": "code",
   "execution_count": 15,
   "id": "bf90e857-cb29-47c3-a92f-b5f05777cecb",
   "metadata": {},
   "outputs": [
    {
     "data": {
      "text/plain": [
       "'F-F_Research_Data_Factors'"
      ]
     },
     "execution_count": 15,
     "metadata": {},
     "output_type": "execute_result"
    }
   ],
   "source": [
    "df_3_factor"
   ]
  },
  {
   "cell_type": "code",
   "execution_count": 107,
   "id": "f1612699-3000-4d36-83c7-77d9564ebde0",
   "metadata": {},
   "outputs": [
    {
     "ename": "TypeError",
     "evalue": "download() got multiple values for argument 'start'",
     "output_type": "error",
     "traceback": [
      "\u001b[1;31m---------------------------------------------------------------------------\u001b[0m",
      "\u001b[1;31mTypeError\u001b[0m                                 Traceback (most recent call last)",
      "Input \u001b[1;32mIn [107]\u001b[0m, in \u001b[0;36m<cell line: 2>\u001b[1;34m()\u001b[0m\n\u001b[0;32m      1\u001b[0m \u001b[38;5;66;03m# 1980년 2월부터 2019년 6월 팩터 데이터를 다운로드한다\u001b[39;00m\n\u001b[1;32m----> 2\u001b[0m ds_factors \u001b[38;5;241m=\u001b[39m \u001b[43mweb\u001b[49m\u001b[38;5;241;43m.\u001b[39;49m\u001b[43mDataReader\u001b[49m\u001b[43m(\u001b[49m\u001b[43mdf_3_factor\u001b[49m\u001b[43m,\u001b[49m\u001b[38;5;124;43m'\u001b[39;49m\u001b[38;5;124;43mfamafrench\u001b[39;49m\u001b[38;5;124;43m'\u001b[39;49m\u001b[43m,\u001b[49m\u001b[43m \u001b[49m\u001b[43mstart\u001b[49m\u001b[38;5;241;43m=\u001b[39;49m\u001b[38;5;124;43m'\u001b[39;49m\u001b[38;5;124;43m1980-02-01\u001b[39;49m\u001b[38;5;124;43m'\u001b[39;49m\u001b[43m,\u001b[49m\u001b[43m \u001b[49m\u001b[43mend\u001b[49m\u001b[38;5;241;43m=\u001b[39;49m\u001b[38;5;124;43m'\u001b[39;49m\u001b[38;5;124;43m2019-06-30\u001b[39;49m\u001b[38;5;124;43m'\u001b[39;49m\u001b[43m)\u001b[49m\n\u001b[0;32m      3\u001b[0m \u001b[38;5;28mprint\u001b[39m(\u001b[38;5;124m'\u001b[39m\u001b[38;5;130;01m\\n\u001b[39;00m\u001b[38;5;124mKEYS\u001b[39m\u001b[38;5;130;01m\\n\u001b[39;00m\u001b[38;5;132;01m{0}\u001b[39;00m\u001b[38;5;124m'\u001b[39m\u001b[38;5;241m.\u001b[39mformat(ds_factors\u001b[38;5;241m.\u001b[39mkeys()))\n\u001b[0;32m      4\u001b[0m \u001b[38;5;28mprint\u001b[39m(\u001b[38;5;124m'\u001b[39m\u001b[38;5;124mDATASET DESCRIPTION \u001b[39m\u001b[38;5;130;01m\\n\u001b[39;00m\u001b[38;5;124m \u001b[39m\u001b[38;5;132;01m{0}\u001b[39;00m\u001b[38;5;124m'\u001b[39m\u001b[38;5;241m.\u001b[39mformat(ds_factors[\u001b[38;5;124m'\u001b[39m\u001b[38;5;124mDESCR\u001b[39m\u001b[38;5;124m'\u001b[39m]))\n",
      "\u001b[1;31mTypeError\u001b[0m: download() got multiple values for argument 'start'"
     ]
    }
   ],
   "source": [
    "# 1980년 2월부터 2019년 6월 팩터 데이터를 다운로드한다\n",
    "ds_factors = web.DataReader(df_3_factor,'famafrench', start='1980-02-01', end='2019-06-30')\n",
    "print('\\nKEYS\\n{0}'.format(ds_factors.keys()))\n",
    "print('DATASET DESCRIPTION \\n {0}'.format(ds_factors['DESCR']))"
   ]
  },
  {
   "cell_type": "code",
   "execution_count": 17,
   "id": "481bb7ed-6b0f-464b-af34-6c94aca1a321",
   "metadata": {},
   "outputs": [
    {
     "data": {
      "text/plain": [
       "{0:          Mkt-RF   SMB   HML    RF\n",
       " Date                             \n",
       " 1980-02   -1.22 -1.85  0.61  0.89\n",
       " 1980-03  -12.90 -6.64 -1.01  1.21\n",
       " 1980-04    3.97  1.05  1.06  1.26\n",
       " 1980-05    5.26  2.13  0.38  0.81\n",
       " 1980-06    3.06  1.66 -0.76  0.61\n",
       " ...         ...   ...   ...   ...\n",
       " 2019-02    3.40  2.05 -2.67  0.18\n",
       " 2019-03    1.10 -3.03 -4.10  0.19\n",
       " 2019-04    3.97 -1.74  2.14  0.21\n",
       " 2019-05   -6.94 -1.31 -2.35  0.21\n",
       " 2019-06    6.93  0.27 -0.72  0.18\n",
       " \n",
       " [473 rows x 4 columns],\n",
       " 1:       Mkt-RF    SMB    HML     RF\n",
       " Date                             \n",
       " 1980   22.13   5.66 -24.61  11.24\n",
       " 1981  -18.13   7.11  25.04  14.71\n",
       " 1982   10.66   8.68  13.29  10.54\n",
       " 1983   13.75  14.00  20.52   8.80\n",
       " 1984   -6.05  -8.22  19.13   9.85\n",
       " 1985   24.91   0.55   1.29   7.72\n",
       " 1986   10.12  -9.55   9.34   6.16\n",
       " 1987   -3.87 -10.95  -1.70   5.47\n",
       " 1988   11.55   5.78  14.99   6.35\n",
       " 1989   20.49 -12.86  -4.03   8.37\n",
       " 1990  -13.95 -13.99 -10.03   7.81\n",
       " 1991   29.18  16.08 -14.72   5.60\n",
       " 1992    6.23   7.74  24.49   3.51\n",
       " 1993    8.21   6.37  16.96   2.90\n",
       " 1994   -4.10  -0.46  -0.89   3.90\n",
       " 1995   31.22  -9.75   5.97   5.60\n",
       " 1996   15.96  -4.45   8.67   5.21\n",
       " 1997   25.96  -7.75  19.01   5.26\n",
       " 1998   19.46 -25.26 -10.47   4.86\n",
       " 1999   20.57  15.34 -31.65   4.68\n",
       " 2000  -17.60  -4.60  44.99   5.89\n",
       " 2001  -15.21  18.13  18.54   3.83\n",
       " 2002  -22.76   4.40   8.16   1.65\n",
       " 2003   30.75  26.78   4.97   1.02\n",
       " 2004   10.72   4.45   7.63   1.20\n",
       " 2005    3.09  -2.36   9.41   2.98\n",
       " 2006   10.60   0.09  11.92   4.80\n",
       " 2007    1.04  -7.36 -17.28   4.66\n",
       " 2008  -38.34   2.44   1.00   1.60\n",
       " 2009   28.26   9.18  -9.65   0.10\n",
       " 2010   17.37  14.19  -5.22   0.12\n",
       " 2011    0.44  -5.71  -8.42   0.04\n",
       " 2012   16.27  -1.40  10.00   0.06\n",
       " 2013   35.20   7.75   2.60   0.02\n",
       " 2014   11.71  -7.86  -1.45   0.02\n",
       " 2015    0.09  -3.99  -9.65   0.02\n",
       " 2016   13.30   6.66  22.75   0.20\n",
       " 2017   21.51  -4.97 -13.51   0.80\n",
       " 2018   -6.95  -3.21  -9.73   1.83\n",
       " 2019   28.28  -6.11 -10.34   2.15,\n",
       " 'DESCR': 'F-F Research Data Factors\\n-------------------------\\n\\nThis file was created by CMPT_ME_BEME_RETS using the 202301 CRSP database. The 1-month TBill return is from Ibbotson and Associates, Inc. Copyright 2023 Kenneth R. French\\n\\n  0 : (473 rows x 4 cols)\\n  1 : Annual Factors: January-December (40 rows x 4 cols)'}"
      ]
     },
     "execution_count": 17,
     "metadata": {},
     "output_type": "execute_result"
    }
   ],
   "source": [
    "ds_factors"
   ]
  },
  {
   "cell_type": "code",
   "execution_count": 18,
   "id": "a0bae352-92f6-49de-9c49-8add568a277f",
   "metadata": {},
   "outputs": [],
   "source": [
    "# 나중에 구할 펀드수익률과 합치기 위해 인덱스 종류를 변경한다\n",
    "#ds_factors[0].index=ds_factors[0].index.strftime('%Y-%m')\n",
    "\n",
    "# ds_3_factors에 저장한다\n",
    "ds_3_factors = ds_factors[0]\n",
    "     "
   ]
  },
  {
   "cell_type": "code",
   "execution_count": 21,
   "id": "3697f86d-8d19-4f34-8973-d9b16884b6b3",
   "metadata": {},
   "outputs": [],
   "source": [
    "import random\n",
    "import numpy as np\n",
    "import pandas as pd\n",
    "import yfinance as yf\n",
    "import pandas_datareader.data as web\n",
    "import matplotlib.pyplot as plt\n",
    "\n",
    "yf.pdr_override()"
   ]
  },
  {
   "cell_type": "code",
   "execution_count": 22,
   "id": "3cf46de9-9904-4c43-88ef-30d44419edfc",
   "metadata": {},
   "outputs": [],
   "source": [
    "# Fidelity Contrafund Fund (FCNTX) \n",
    "ticker = \"FCNTX\" "
   ]
  },
  {
   "cell_type": "code",
   "execution_count": 26,
   "id": "1b57b007-db19-4a18-88a0-7fe11c79b9f3",
   "metadata": {},
   "outputs": [
    {
     "name": "stdout",
     "output_type": "stream",
     "text": [
      "[*********************100%***********************]  1 of 1 completed\n"
     ]
    }
   ],
   "source": [
    "# 1980년 1월부터 2019년 6월까지 펀드 월간(interval='m') 과거 주가 중 수정주가()['Adj Close'])를 구한다.\n",
    "pxclose = web.get_data_yahoo(ticker, start='1980-01-01',end='2019-06-30',interval='1d')['Adj Close']"
   ]
  },
  {
   "cell_type": "code",
   "execution_count": 27,
   "id": "2947bdda-eff4-4bbc-88a4-6371c0145fc0",
   "metadata": {},
   "outputs": [
    {
     "data": {
      "text/plain": [
       "Date\n",
       "1980-01-02    0.122128\n",
       "1980-01-03    0.120517\n",
       "1980-01-04    0.122343\n",
       "1980-01-07    0.121913\n",
       "1980-01-08    0.125350\n",
       "                ...   \n",
       "2019-06-24    9.518882\n",
       "2019-06-25    9.389174\n",
       "2019-06-26    9.381970\n",
       "2019-06-27    9.439619\n",
       "2019-06-28    9.497265\n",
       "Name: Adj Close, Length: 9959, dtype: float64"
      ]
     },
     "execution_count": 27,
     "metadata": {},
     "output_type": "execute_result"
    }
   ],
   "source": [
    "pxclose"
   ]
  },
  {
   "cell_type": "code",
   "execution_count": 46,
   "id": "46aad05b-92a7-42e5-9bb6-970ec6706599",
   "metadata": {},
   "outputs": [
    {
     "ename": "AttributeError",
     "evalue": "'Index' object has no attribute 'strftime'",
     "output_type": "error",
     "traceback": [
      "\u001b[1;31m---------------------------------------------------------------------------\u001b[0m",
      "\u001b[1;31mAttributeError\u001b[0m                            Traceback (most recent call last)",
      "Input \u001b[1;32mIn [46]\u001b[0m, in \u001b[0;36m<cell line: 2>\u001b[1;34m()\u001b[0m\n\u001b[0;32m      1\u001b[0m \u001b[38;5;66;03m# 앞서 팩터 자료와 합치기 위해 인덱스 종류를 변경한다\u001b[39;00m\n\u001b[1;32m----> 2\u001b[0m pxclose\u001b[38;5;241m.\u001b[39mindex\u001b[38;5;241m=\u001b[39m\u001b[43mpxclose\u001b[49m\u001b[38;5;241;43m.\u001b[39;49m\u001b[43mindex\u001b[49m\u001b[38;5;241;43m.\u001b[39;49m\u001b[43mstrftime\u001b[49m(\u001b[38;5;124m'\u001b[39m\u001b[38;5;124m%\u001b[39m\u001b[38;5;124mY-\u001b[39m\u001b[38;5;124m%\u001b[39m\u001b[38;5;124mm\u001b[39m\u001b[38;5;124m'\u001b[39m)\n",
      "\u001b[1;31mAttributeError\u001b[0m: 'Index' object has no attribute 'strftime'"
     ]
    }
   ],
   "source": [
    "# 앞서 팩터 자료와 합치기 위해 인덱스 종류를 변경한다\n",
    "pxclose.index=pxclose.index.strftime('%Y-%m')"
   ]
  },
  {
   "cell_type": "code",
   "execution_count": 47,
   "id": "1fa2488d-28b9-403b-bf59-7ec4be2eaecc",
   "metadata": {},
   "outputs": [
    {
     "data": {
      "text/plain": [
       "Index(['1980-01', '1980-01', '1980-01', '1980-01', '1980-01', '1980-01',\n",
       "       '1980-01', '1980-01', '1980-01', '1980-01',\n",
       "       ...\n",
       "       '2019-06', '2019-06', '2019-06', '2019-06', '2019-06', '2019-06',\n",
       "       '2019-06', '2019-06', '2019-06', '2019-06'],\n",
       "      dtype='object', name='Date', length=9959)"
      ]
     },
     "execution_count": 47,
     "metadata": {},
     "output_type": "execute_result"
    }
   ],
   "source": [
    "pxclose.index"
   ]
  },
  {
   "cell_type": "code",
   "execution_count": 48,
   "id": "adf9adc1-f6d5-49af-87d9-24f784f3b43e",
   "metadata": {},
   "outputs": [],
   "source": [
    "# 수익률을 계산한다\n",
    "ret_data = pxclose.pct_change()[1:]"
   ]
  },
  {
   "cell_type": "code",
   "execution_count": 49,
   "id": "f3adf8b2-a4ef-41c1-b960-2da7d461103f",
   "metadata": {},
   "outputs": [
    {
     "data": {
      "text/html": [
       "<div>\n",
       "<style scoped>\n",
       "    .dataframe tbody tr th:only-of-type {\n",
       "        vertical-align: middle;\n",
       "    }\n",
       "\n",
       "    .dataframe tbody tr th {\n",
       "        vertical-align: top;\n",
       "    }\n",
       "\n",
       "    .dataframe thead th {\n",
       "        text-align: right;\n",
       "    }\n",
       "</style>\n",
       "<table border=\"1\" class=\"dataframe\">\n",
       "  <thead>\n",
       "    <tr style=\"text-align: right;\">\n",
       "      <th></th>\n",
       "      <th>portfolio</th>\n",
       "    </tr>\n",
       "    <tr>\n",
       "      <th>Date</th>\n",
       "      <th></th>\n",
       "    </tr>\n",
       "  </thead>\n",
       "  <tbody>\n",
       "    <tr>\n",
       "      <th>1980-01</th>\n",
       "      <td>-0.013193</td>\n",
       "    </tr>\n",
       "    <tr>\n",
       "      <th>1980-01</th>\n",
       "      <td>0.015152</td>\n",
       "    </tr>\n",
       "    <tr>\n",
       "      <th>1980-01</th>\n",
       "      <td>-0.003512</td>\n",
       "    </tr>\n",
       "    <tr>\n",
       "      <th>1980-01</th>\n",
       "      <td>0.028194</td>\n",
       "    </tr>\n",
       "    <tr>\n",
       "      <th>1980-01</th>\n",
       "      <td>0.000000</td>\n",
       "    </tr>\n",
       "    <tr>\n",
       "      <th>...</th>\n",
       "      <td>...</td>\n",
       "    </tr>\n",
       "    <tr>\n",
       "      <th>2019-06</th>\n",
       "      <td>-0.002266</td>\n",
       "    </tr>\n",
       "    <tr>\n",
       "      <th>2019-06</th>\n",
       "      <td>-0.013626</td>\n",
       "    </tr>\n",
       "    <tr>\n",
       "      <th>2019-06</th>\n",
       "      <td>-0.000767</td>\n",
       "    </tr>\n",
       "    <tr>\n",
       "      <th>2019-06</th>\n",
       "      <td>0.006145</td>\n",
       "    </tr>\n",
       "    <tr>\n",
       "      <th>2019-06</th>\n",
       "      <td>0.006107</td>\n",
       "    </tr>\n",
       "  </tbody>\n",
       "</table>\n",
       "<p>9958 rows × 1 columns</p>\n",
       "</div>"
      ],
      "text/plain": [
       "         portfolio\n",
       "Date              \n",
       "1980-01  -0.013193\n",
       "1980-01   0.015152\n",
       "1980-01  -0.003512\n",
       "1980-01   0.028194\n",
       "1980-01   0.000000\n",
       "...            ...\n",
       "2019-06  -0.002266\n",
       "2019-06  -0.013626\n",
       "2019-06  -0.000767\n",
       "2019-06   0.006145\n",
       "2019-06   0.006107\n",
       "\n",
       "[9958 rows x 1 columns]"
      ]
     },
     "execution_count": 49,
     "metadata": {},
     "output_type": "execute_result"
    }
   ],
   "source": [
    "ret_data = pd.DataFrame(ret_data)\n",
    "ret_data.columns = ['portfolio']\n",
    "ret_data"
   ]
  },
  {
   "cell_type": "code",
   "execution_count": 50,
   "id": "39a4bdd4-0331-4ac1-b08e-65c87841fdb3",
   "metadata": {},
   "outputs": [],
   "source": [
    "ret_data = ret_data.loc[~ret_data.index.duplicated(keep='last')]"
   ]
  },
  {
   "cell_type": "code",
   "execution_count": 51,
   "id": "f5449391-4f6f-4f42-a230-92d86bad5d9e",
   "metadata": {},
   "outputs": [
    {
     "data": {
      "text/html": [
       "<div>\n",
       "<style scoped>\n",
       "    .dataframe tbody tr th:only-of-type {\n",
       "        vertical-align: middle;\n",
       "    }\n",
       "\n",
       "    .dataframe tbody tr th {\n",
       "        vertical-align: top;\n",
       "    }\n",
       "\n",
       "    .dataframe thead th {\n",
       "        text-align: right;\n",
       "    }\n",
       "</style>\n",
       "<table border=\"1\" class=\"dataframe\">\n",
       "  <thead>\n",
       "    <tr style=\"text-align: right;\">\n",
       "      <th></th>\n",
       "      <th>portfolio</th>\n",
       "    </tr>\n",
       "    <tr>\n",
       "      <th>Date</th>\n",
       "      <th></th>\n",
       "    </tr>\n",
       "  </thead>\n",
       "  <tbody>\n",
       "    <tr>\n",
       "      <th>1980-01</th>\n",
       "      <td>-0.006178</td>\n",
       "    </tr>\n",
       "    <tr>\n",
       "      <th>1980-02</th>\n",
       "      <td>0.013736</td>\n",
       "    </tr>\n",
       "    <tr>\n",
       "      <th>1980-03</th>\n",
       "      <td>0.020243</td>\n",
       "    </tr>\n",
       "    <tr>\n",
       "      <th>1980-04</th>\n",
       "      <td>0.004897</td>\n",
       "    </tr>\n",
       "    <tr>\n",
       "      <th>1980-05</th>\n",
       "      <td>0.008197</td>\n",
       "    </tr>\n",
       "    <tr>\n",
       "      <th>...</th>\n",
       "      <td>...</td>\n",
       "    </tr>\n",
       "    <tr>\n",
       "      <th>2019-02</th>\n",
       "      <td>-0.003260</td>\n",
       "    </tr>\n",
       "    <tr>\n",
       "      <th>2019-03</th>\n",
       "      <td>0.005631</td>\n",
       "    </tr>\n",
       "    <tr>\n",
       "      <th>2019-04</th>\n",
       "      <td>-0.004556</td>\n",
       "    </tr>\n",
       "    <tr>\n",
       "      <th>2019-05</th>\n",
       "      <td>-0.013568</td>\n",
       "    </tr>\n",
       "    <tr>\n",
       "      <th>2019-06</th>\n",
       "      <td>0.006107</td>\n",
       "    </tr>\n",
       "  </tbody>\n",
       "</table>\n",
       "<p>474 rows × 1 columns</p>\n",
       "</div>"
      ],
      "text/plain": [
       "         portfolio\n",
       "Date              \n",
       "1980-01  -0.006178\n",
       "1980-02   0.013736\n",
       "1980-03   0.020243\n",
       "1980-04   0.004897\n",
       "1980-05   0.008197\n",
       "...            ...\n",
       "2019-02  -0.003260\n",
       "2019-03   0.005631\n",
       "2019-04  -0.004556\n",
       "2019-05  -0.013568\n",
       "2019-06   0.006107\n",
       "\n",
       "[474 rows x 1 columns]"
      ]
     },
     "execution_count": 51,
     "metadata": {},
     "output_type": "execute_result"
    }
   ],
   "source": [
    "ret_data"
   ]
  },
  {
   "cell_type": "code",
   "execution_count": 53,
   "id": "db9aad4b-f5ae-4387-9ffb-e7caebf0ea42",
   "metadata": {},
   "outputs": [
    {
     "name": "stdout",
     "output_type": "stream",
     "text": [
      "         portfolio\n",
      "Date              \n",
      "1980-01  -0.006178\n",
      "1980-02   0.013736\n",
      "1980-03   0.020243\n",
      "1980-04   0.004897\n",
      "1980-05   0.008197 <class 'pandas.core.frame.DataFrame'>\n"
     ]
    },
    {
     "ename": "NameError",
     "evalue": "name 'ds_3_factors' is not defined",
     "output_type": "error",
     "traceback": [
      "\u001b[1;31m---------------------------------------------------------------------------\u001b[0m",
      "\u001b[1;31mNameError\u001b[0m                                 Traceback (most recent call last)",
      "Input \u001b[1;32mIn [53]\u001b[0m, in \u001b[0;36m<cell line: 2>\u001b[1;34m()\u001b[0m\n\u001b[0;32m      1\u001b[0m \u001b[38;5;28mprint\u001b[39m(ret_data\u001b[38;5;241m.\u001b[39mhead(), \u001b[38;5;28mtype\u001b[39m(ret_data))\n\u001b[1;32m----> 2\u001b[0m \u001b[38;5;28mprint\u001b[39m(\u001b[43mds_3_factors\u001b[49m\u001b[38;5;241m.\u001b[39mhead(), \u001b[38;5;28mtype\u001b[39m(ds_3_factors))\n",
      "\u001b[1;31mNameError\u001b[0m: name 'ds_3_factors' is not defined"
     ]
    }
   ],
   "source": [
    "print(ret_data.head(), type(ret_data))\n",
    "print(ds_3_factors.head(), type(ds_3_factors))"
   ]
  },
  {
   "cell_type": "code",
   "execution_count": 54,
   "id": "96e86337-5a9f-443b-bc85-724e3ac8fdf0",
   "metadata": {},
   "outputs": [
    {
     "data": {
      "text/html": [
       "<div>\n",
       "<style scoped>\n",
       "    .dataframe tbody tr th:only-of-type {\n",
       "        vertical-align: middle;\n",
       "    }\n",
       "\n",
       "    .dataframe tbody tr th {\n",
       "        vertical-align: top;\n",
       "    }\n",
       "\n",
       "    .dataframe thead th {\n",
       "        text-align: right;\n",
       "    }\n",
       "</style>\n",
       "<table border=\"1\" class=\"dataframe\">\n",
       "  <thead>\n",
       "    <tr style=\"text-align: right;\">\n",
       "      <th></th>\n",
       "      <th>portfolio</th>\n",
       "    </tr>\n",
       "    <tr>\n",
       "      <th>Date</th>\n",
       "      <th></th>\n",
       "    </tr>\n",
       "  </thead>\n",
       "  <tbody>\n",
       "    <tr>\n",
       "      <th>1980-01</th>\n",
       "      <td>-0.006178</td>\n",
       "    </tr>\n",
       "    <tr>\n",
       "      <th>1980-02</th>\n",
       "      <td>0.013736</td>\n",
       "    </tr>\n",
       "    <tr>\n",
       "      <th>1980-03</th>\n",
       "      <td>0.020243</td>\n",
       "    </tr>\n",
       "    <tr>\n",
       "      <th>1980-04</th>\n",
       "      <td>0.004897</td>\n",
       "    </tr>\n",
       "    <tr>\n",
       "      <th>1980-05</th>\n",
       "      <td>0.008197</td>\n",
       "    </tr>\n",
       "    <tr>\n",
       "      <th>...</th>\n",
       "      <td>...</td>\n",
       "    </tr>\n",
       "    <tr>\n",
       "      <th>2019-02</th>\n",
       "      <td>-0.003260</td>\n",
       "    </tr>\n",
       "    <tr>\n",
       "      <th>2019-03</th>\n",
       "      <td>0.005631</td>\n",
       "    </tr>\n",
       "    <tr>\n",
       "      <th>2019-04</th>\n",
       "      <td>-0.004556</td>\n",
       "    </tr>\n",
       "    <tr>\n",
       "      <th>2019-05</th>\n",
       "      <td>-0.013568</td>\n",
       "    </tr>\n",
       "    <tr>\n",
       "      <th>2019-06</th>\n",
       "      <td>0.006107</td>\n",
       "    </tr>\n",
       "  </tbody>\n",
       "</table>\n",
       "<p>474 rows × 1 columns</p>\n",
       "</div>"
      ],
      "text/plain": [
       "         portfolio\n",
       "Date              \n",
       "1980-01  -0.006178\n",
       "1980-02   0.013736\n",
       "1980-03   0.020243\n",
       "1980-04   0.004897\n",
       "1980-05   0.008197\n",
       "...            ...\n",
       "2019-02  -0.003260\n",
       "2019-03   0.005631\n",
       "2019-04  -0.004556\n",
       "2019-05  -0.013568\n",
       "2019-06   0.006107\n",
       "\n",
       "[474 rows x 1 columns]"
      ]
     },
     "execution_count": 54,
     "metadata": {},
     "output_type": "execute_result"
    }
   ],
   "source": [
    "ret_data"
   ]
  },
  {
   "cell_type": "code",
   "execution_count": 59,
   "id": "abdc6d23-14cc-4bbf-b7dc-2365a8707b5d",
   "metadata": {},
   "outputs": [
    {
     "name": "stdout",
     "output_type": "stream",
     "text": [
      "['F-F_Research_Data_5_Factors_2x3', 'F-F_Research_Data_5_Factors_2x3_daily', 'Developed_5_Factors', 'Developed_5_Factors_Daily', 'Developed_ex_US_5_Factors', 'Developed_ex_US_5_Factors_Daily', 'Europe_5_Factors', 'Europe_5_Factors_Daily', 'Japan_5_Factors', 'Japan_5_Factors_Daily', 'Asia_Pacific_ex_Japan_5_Factors', 'Asia_Pacific_ex_Japan_5_Factors_Daily', 'North_America_5_Factors', 'North_America_5_Factors_Daily', 'Emerging_5_Factors']\n"
     ]
    },
    {
     "ename": "TypeError",
     "evalue": "download() got multiple values for argument 'start'",
     "output_type": "error",
     "traceback": [
      "\u001b[1;31m---------------------------------------------------------------------------\u001b[0m",
      "\u001b[1;31mTypeError\u001b[0m                                 Traceback (most recent call last)",
      "Input \u001b[1;32mIn [59]\u001b[0m, in \u001b[0;36m<cell line: 3>\u001b[1;34m()\u001b[0m\n\u001b[0;32m      1\u001b[0m df_5_factor \u001b[38;5;241m=\u001b[39m [dataset \u001b[38;5;28;01mfor\u001b[39;00m dataset \u001b[38;5;129;01min\u001b[39;00m datasets \u001b[38;5;28;01mif\u001b[39;00m \u001b[38;5;124m'\u001b[39m\u001b[38;5;124m5\u001b[39m\u001b[38;5;124m'\u001b[39m \u001b[38;5;129;01min\u001b[39;00m dataset \u001b[38;5;129;01mand\u001b[39;00m \u001b[38;5;124m'\u001b[39m\u001b[38;5;124mFactor\u001b[39m\u001b[38;5;124m'\u001b[39m \u001b[38;5;129;01min\u001b[39;00m dataset]\n\u001b[0;32m      2\u001b[0m \u001b[38;5;28mprint\u001b[39m(df_5_factor)\n\u001b[1;32m----> 3\u001b[0m ds_factors \u001b[38;5;241m=\u001b[39m \u001b[43mweb\u001b[49m\u001b[38;5;241;43m.\u001b[39;49m\u001b[43mDataReader\u001b[49m\u001b[43m(\u001b[49m\u001b[43mdf_5_factor\u001b[49m\u001b[43m[\u001b[49m\u001b[38;5;241;43m0\u001b[39;49m\u001b[43m]\u001b[49m\u001b[43m,\u001b[49m\u001b[38;5;124;43m'\u001b[39;49m\u001b[38;5;124;43mfamafrench\u001b[39;49m\u001b[38;5;124;43m'\u001b[39;49m\u001b[43m,\u001b[49m\u001b[43mstart\u001b[49m\u001b[38;5;241;43m=\u001b[39;49m\u001b[38;5;124;43m'\u001b[39;49m\u001b[38;5;124;43m2017-06-23\u001b[39;49m\u001b[38;5;124;43m'\u001b[39;49m\u001b[43m,\u001b[49m\u001b[43mend\u001b[49m\u001b[38;5;241;43m=\u001b[39;49m\u001b[38;5;124;43m'\u001b[39;49m\u001b[38;5;124;43m2019-11-01\u001b[39;49m\u001b[38;5;124;43m'\u001b[39;49m\u001b[43m)\u001b[49m \u001b[38;5;66;03m# Taking [0] as extracting 1F-F-Research_Data_Factors_2x3')\u001b[39;00m\n\u001b[0;32m      4\u001b[0m \u001b[38;5;28mprint\u001b[39m(\u001b[38;5;124m'\u001b[39m\u001b[38;5;130;01m\\n\u001b[39;00m\u001b[38;5;124mKEYS\u001b[39m\u001b[38;5;130;01m\\n\u001b[39;00m\u001b[38;5;132;01m{0}\u001b[39;00m\u001b[38;5;124m'\u001b[39m\u001b[38;5;241m.\u001b[39mformat(ds_factors\u001b[38;5;241m.\u001b[39mkeys()))\n\u001b[0;32m      5\u001b[0m \u001b[38;5;28mprint\u001b[39m(\u001b[38;5;124m'\u001b[39m\u001b[38;5;124mDATASET DESCRIPTION \u001b[39m\u001b[38;5;130;01m\\n\u001b[39;00m\u001b[38;5;124m \u001b[39m\u001b[38;5;132;01m{0}\u001b[39;00m\u001b[38;5;124m'\u001b[39m\u001b[38;5;241m.\u001b[39mformat(ds_factors[\u001b[38;5;124m'\u001b[39m\u001b[38;5;124mDESCR\u001b[39m\u001b[38;5;124m'\u001b[39m]))\n",
      "\u001b[1;31mTypeError\u001b[0m: download() got multiple values for argument 'start'"
     ]
    }
   ],
   "source": [
    "df_5_factor = [dataset for dataset in datasets if '5' in dataset and 'Factor' in dataset]\n",
    "print(df_5_factor)\n",
    "ds_factors = web.DataReader(df_5_factor[0],'famafrench',start='2017-06-23',end='2019-11-01') # Taking [0] as extracting 1F-F-Research_Data_Factors_2x3')\n",
    "print('\\nKEYS\\n{0}'.format(ds_factors.keys()))\n",
    "print('DATASET DESCRIPTION \\n {0}'.format(ds_factors['DESCR']))\n",
    "ds_factors[0].head()"
   ]
  },
  {
   "cell_type": "code",
   "execution_count": 58,
   "id": "f5e1b341-75ff-4277-bfd5-902ec4e32212",
   "metadata": {},
   "outputs": [
    {
     "ename": "NameError",
     "evalue": "name 'ds_factors' is not defined",
     "output_type": "error",
     "traceback": [
      "\u001b[1;31m---------------------------------------------------------------------------\u001b[0m",
      "\u001b[1;31mNameError\u001b[0m                                 Traceback (most recent call last)",
      "Input \u001b[1;32mIn [58]\u001b[0m, in \u001b[0;36m<cell line: 1>\u001b[1;34m()\u001b[0m\n\u001b[1;32m----> 1\u001b[0m ds_3_factors \u001b[38;5;241m=\u001b[39m \u001b[43mds_factors\u001b[49m[\u001b[38;5;241m0\u001b[39m]\n",
      "\u001b[1;31mNameError\u001b[0m: name 'ds_factors' is not defined"
     ]
    }
   ],
   "source": [
    "ds_3_factors = ds_factors[0]"
   ]
  },
  {
   "cell_type": "code",
   "execution_count": 55,
   "id": "f726e000-b4e5-4420-ac5a-5f241059d972",
   "metadata": {},
   "outputs": [
    {
     "ename": "NameError",
     "evalue": "name 'ds_3_factors' is not defined",
     "output_type": "error",
     "traceback": [
      "\u001b[1;31m---------------------------------------------------------------------------\u001b[0m",
      "\u001b[1;31mNameError\u001b[0m                                 Traceback (most recent call last)",
      "Input \u001b[1;32mIn [55]\u001b[0m, in \u001b[0;36m<cell line: 1>\u001b[1;34m()\u001b[0m\n\u001b[1;32m----> 1\u001b[0m \u001b[43mds_3_factors\u001b[49m\n",
      "\u001b[1;31mNameError\u001b[0m: name 'ds_3_factors' is not defined"
     ]
    }
   ],
   "source": [
    "ds_3_factors"
   ]
  },
  {
   "cell_type": "code",
   "execution_count": 57,
   "id": "ba9cabee-647c-4440-832c-e249d0710623",
   "metadata": {},
   "outputs": [
    {
     "ename": "NameError",
     "evalue": "name 'ds_3_factors' is not defined",
     "output_type": "error",
     "traceback": [
      "\u001b[1;31m---------------------------------------------------------------------------\u001b[0m",
      "\u001b[1;31mNameError\u001b[0m                                 Traceback (most recent call last)",
      "Input \u001b[1;32mIn [57]\u001b[0m, in \u001b[0;36m<cell line: 5>\u001b[1;34m()\u001b[0m\n\u001b[0;32m      1\u001b[0m \u001b[38;5;66;03m# 회귀분석을 위해 두 개의 데이터프레임(ret_data, ds_3_factors)을 합친다\u001b[39;00m\n\u001b[0;32m      2\u001b[0m \u001b[38;5;66;03m# 두 프레임의 인덱스를 기준으로 합치는 경우 매개변수 left_index와 right_index를 True로 한다.\u001b[39;00m\n\u001b[0;32m      3\u001b[0m \u001b[38;5;66;03m# 또 합치려는 두 프레임의 컬럼 데이터나 인덱스끼리 서로 일치하는 데이터만 합치는 경우 how 매개변수를 'inner'로 한다.\u001b[39;00m\n\u001b[1;32m----> 5\u001b[0m regress_data\u001b[38;5;241m=\u001b[39mret_data\u001b[38;5;241m.\u001b[39mmerge(\u001b[43mds_3_factors\u001b[49m, how \u001b[38;5;241m=\u001b[39m \u001b[38;5;124m'\u001b[39m\u001b[38;5;124minner\u001b[39m\u001b[38;5;124m'\u001b[39m, left_index\u001b[38;5;241m=\u001b[39m \u001b[38;5;28;01mTrue\u001b[39;00m, right_index\u001b[38;5;241m=\u001b[39m \u001b[38;5;28;01mTrue\u001b[39;00m)\n\u001b[0;32m      6\u001b[0m regress_data\n",
      "\u001b[1;31mNameError\u001b[0m: name 'ds_3_factors' is not defined"
     ]
    }
   ],
   "source": [
    "# 회귀분석을 위해 두 개의 데이터프레임(ret_data, ds_3_factors)을 합친다\n",
    "# 두 프레임의 인덱스를 기준으로 합치는 경우 매개변수 left_index와 right_index를 True로 한다.\n",
    "# 또 합치려는 두 프레임의 컬럼 데이터나 인덱스끼리 서로 일치하는 데이터만 합치는 경우 how 매개변수를 'inner'로 한다.\n",
    "\n",
    "regress_data=ret_data.merge(ds_3_factors, how = 'inner', left_index= True, right_index= True)\n",
    "regress_data"
   ]
  },
  {
   "cell_type": "code",
   "execution_count": null,
   "id": "2fb12f35-f062-4a6c-ac2b-3c819a59e30d",
   "metadata": {},
   "outputs": [],
   "source": []
  },
  {
   "cell_type": "code",
   "execution_count": null,
   "id": "e8a957ec-3394-4455-8edf-73a9f3e766fd",
   "metadata": {},
   "outputs": [],
   "source": []
  }
 ],
 "metadata": {
  "kernelspec": {
   "display_name": "pyfolio",
   "language": "python",
   "name": "pyfolio"
  },
  "language_info": {
   "codemirror_mode": {
    "name": "ipython",
    "version": 3
   },
   "file_extension": ".py",
   "mimetype": "text/x-python",
   "name": "python",
   "nbconvert_exporter": "python",
   "pygments_lexer": "ipython3",
   "version": "3.9.12"
  }
 },
 "nbformat": 4,
 "nbformat_minor": 5
}
